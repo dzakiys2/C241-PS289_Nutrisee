{
  "cells": [
    {
      "cell_type": "code",
      "source": [
        "pip install tensorflow"
      ],
      "metadata": {
        "colab": {
          "base_uri": "https://localhost:8080/"
        },
        "id": "leypn4QZZQIx",
        "outputId": "2e6eced2-a163-4cbc-c5bf-e00716974bc1"
      },
      "execution_count": 1,
      "outputs": [
        {
          "output_type": "stream",
          "name": "stdout",
          "text": [
            "Requirement already satisfied: tensorflow in /usr/local/lib/python3.10/dist-packages (2.15.0)\n",
            "Requirement already satisfied: absl-py>=1.0.0 in /usr/local/lib/python3.10/dist-packages (from tensorflow) (1.4.0)\n",
            "Requirement already satisfied: astunparse>=1.6.0 in /usr/local/lib/python3.10/dist-packages (from tensorflow) (1.6.3)\n",
            "Requirement already satisfied: flatbuffers>=23.5.26 in /usr/local/lib/python3.10/dist-packages (from tensorflow) (24.3.25)\n",
            "Requirement already satisfied: gast!=0.5.0,!=0.5.1,!=0.5.2,>=0.2.1 in /usr/local/lib/python3.10/dist-packages (from tensorflow) (0.5.4)\n",
            "Requirement already satisfied: google-pasta>=0.1.1 in /usr/local/lib/python3.10/dist-packages (from tensorflow) (0.2.0)\n",
            "Requirement already satisfied: h5py>=2.9.0 in /usr/local/lib/python3.10/dist-packages (from tensorflow) (3.9.0)\n",
            "Requirement already satisfied: libclang>=13.0.0 in /usr/local/lib/python3.10/dist-packages (from tensorflow) (18.1.1)\n",
            "Requirement already satisfied: ml-dtypes~=0.2.0 in /usr/local/lib/python3.10/dist-packages (from tensorflow) (0.2.0)\n",
            "Requirement already satisfied: numpy<2.0.0,>=1.23.5 in /usr/local/lib/python3.10/dist-packages (from tensorflow) (1.25.2)\n",
            "Requirement already satisfied: opt-einsum>=2.3.2 in /usr/local/lib/python3.10/dist-packages (from tensorflow) (3.3.0)\n",
            "Requirement already satisfied: packaging in /usr/local/lib/python3.10/dist-packages (from tensorflow) (24.0)\n",
            "Requirement already satisfied: protobuf!=4.21.0,!=4.21.1,!=4.21.2,!=4.21.3,!=4.21.4,!=4.21.5,<5.0.0dev,>=3.20.3 in /usr/local/lib/python3.10/dist-packages (from tensorflow) (3.20.3)\n",
            "Requirement already satisfied: setuptools in /usr/local/lib/python3.10/dist-packages (from tensorflow) (67.7.2)\n",
            "Requirement already satisfied: six>=1.12.0 in /usr/local/lib/python3.10/dist-packages (from tensorflow) (1.16.0)\n",
            "Requirement already satisfied: termcolor>=1.1.0 in /usr/local/lib/python3.10/dist-packages (from tensorflow) (2.4.0)\n",
            "Requirement already satisfied: typing-extensions>=3.6.6 in /usr/local/lib/python3.10/dist-packages (from tensorflow) (4.12.1)\n",
            "Requirement already satisfied: wrapt<1.15,>=1.11.0 in /usr/local/lib/python3.10/dist-packages (from tensorflow) (1.14.1)\n",
            "Requirement already satisfied: tensorflow-io-gcs-filesystem>=0.23.1 in /usr/local/lib/python3.10/dist-packages (from tensorflow) (0.37.0)\n",
            "Requirement already satisfied: grpcio<2.0,>=1.24.3 in /usr/local/lib/python3.10/dist-packages (from tensorflow) (1.64.1)\n",
            "Requirement already satisfied: tensorboard<2.16,>=2.15 in /usr/local/lib/python3.10/dist-packages (from tensorflow) (2.15.2)\n",
            "Requirement already satisfied: tensorflow-estimator<2.16,>=2.15.0 in /usr/local/lib/python3.10/dist-packages (from tensorflow) (2.15.0)\n",
            "Requirement already satisfied: keras<2.16,>=2.15.0 in /usr/local/lib/python3.10/dist-packages (from tensorflow) (2.15.0)\n",
            "Requirement already satisfied: wheel<1.0,>=0.23.0 in /usr/local/lib/python3.10/dist-packages (from astunparse>=1.6.0->tensorflow) (0.43.0)\n",
            "Requirement already satisfied: google-auth<3,>=1.6.3 in /usr/local/lib/python3.10/dist-packages (from tensorboard<2.16,>=2.15->tensorflow) (2.27.0)\n",
            "Requirement already satisfied: google-auth-oauthlib<2,>=0.5 in /usr/local/lib/python3.10/dist-packages (from tensorboard<2.16,>=2.15->tensorflow) (1.2.0)\n",
            "Requirement already satisfied: markdown>=2.6.8 in /usr/local/lib/python3.10/dist-packages (from tensorboard<2.16,>=2.15->tensorflow) (3.6)\n",
            "Requirement already satisfied: requests<3,>=2.21.0 in /usr/local/lib/python3.10/dist-packages (from tensorboard<2.16,>=2.15->tensorflow) (2.31.0)\n",
            "Requirement already satisfied: tensorboard-data-server<0.8.0,>=0.7.0 in /usr/local/lib/python3.10/dist-packages (from tensorboard<2.16,>=2.15->tensorflow) (0.7.2)\n",
            "Requirement already satisfied: werkzeug>=1.0.1 in /usr/local/lib/python3.10/dist-packages (from tensorboard<2.16,>=2.15->tensorflow) (3.0.3)\n",
            "Requirement already satisfied: cachetools<6.0,>=2.0.0 in /usr/local/lib/python3.10/dist-packages (from google-auth<3,>=1.6.3->tensorboard<2.16,>=2.15->tensorflow) (5.3.3)\n",
            "Requirement already satisfied: pyasn1-modules>=0.2.1 in /usr/local/lib/python3.10/dist-packages (from google-auth<3,>=1.6.3->tensorboard<2.16,>=2.15->tensorflow) (0.4.0)\n",
            "Requirement already satisfied: rsa<5,>=3.1.4 in /usr/local/lib/python3.10/dist-packages (from google-auth<3,>=1.6.3->tensorboard<2.16,>=2.15->tensorflow) (4.9)\n",
            "Requirement already satisfied: requests-oauthlib>=0.7.0 in /usr/local/lib/python3.10/dist-packages (from google-auth-oauthlib<2,>=0.5->tensorboard<2.16,>=2.15->tensorflow) (1.3.1)\n",
            "Requirement already satisfied: charset-normalizer<4,>=2 in /usr/local/lib/python3.10/dist-packages (from requests<3,>=2.21.0->tensorboard<2.16,>=2.15->tensorflow) (3.3.2)\n",
            "Requirement already satisfied: idna<4,>=2.5 in /usr/local/lib/python3.10/dist-packages (from requests<3,>=2.21.0->tensorboard<2.16,>=2.15->tensorflow) (3.7)\n",
            "Requirement already satisfied: urllib3<3,>=1.21.1 in /usr/local/lib/python3.10/dist-packages (from requests<3,>=2.21.0->tensorboard<2.16,>=2.15->tensorflow) (2.0.7)\n",
            "Requirement already satisfied: certifi>=2017.4.17 in /usr/local/lib/python3.10/dist-packages (from requests<3,>=2.21.0->tensorboard<2.16,>=2.15->tensorflow) (2024.6.2)\n",
            "Requirement already satisfied: MarkupSafe>=2.1.1 in /usr/local/lib/python3.10/dist-packages (from werkzeug>=1.0.1->tensorboard<2.16,>=2.15->tensorflow) (2.1.5)\n",
            "Requirement already satisfied: pyasn1<0.7.0,>=0.4.6 in /usr/local/lib/python3.10/dist-packages (from pyasn1-modules>=0.2.1->google-auth<3,>=1.6.3->tensorboard<2.16,>=2.15->tensorflow) (0.6.0)\n",
            "Requirement already satisfied: oauthlib>=3.0.0 in /usr/local/lib/python3.10/dist-packages (from requests-oauthlib>=0.7.0->google-auth-oauthlib<2,>=0.5->tensorboard<2.16,>=2.15->tensorflow) (3.2.2)\n"
          ]
        }
      ]
    },
    {
      "cell_type": "code",
      "execution_count": 2,
      "metadata": {
        "colab": {
          "base_uri": "https://localhost:8080/"
        },
        "id": "iivcQtXmxY8F",
        "outputId": "420924fa-1b4f-4df9-fb01-86d7c15dcc2a"
      },
      "outputs": [
        {
          "output_type": "stream",
          "name": "stdout",
          "text": [
            "Colab only includes TensorFlow 2.x; %tensorflow_version has no effect.\n"
          ]
        }
      ],
      "source": [
        "try:\n",
        "    # %tensorflow_version only exists in Colab.\n",
        "    %tensorflow_version 2.x\n",
        "except Exception:\n",
        "    pass\n",
        "\n",
        "import tensorflow as tf\n",
        "from tensorflow.keras import layers, Model\n",
        "from tensorflow.keras.layers import Dense\n",
        "from tensorflow.keras.layers import concatenate\n",
        "from tensorflow.keras.layers import Input\n",
        "from tensorflow.keras.utils import plot_model\n",
        "from tensorflow.keras.preprocessing.image import ImageDataGenerator\n",
        "\n",
        "import os\n",
        "import zipfile\n",
        "import random\n",
        "import shutil\n",
        "from shutil import copyfile\n",
        "import matplotlib.pyplot as plt\n",
        "import string\n",
        "import numpy as np\n",
        "import urllib.request"
      ]
    },
    {
      "cell_type": "markdown",
      "metadata": {
        "id": "2jDwClB9gn_E"
      },
      "source": [
        "# Data Preparation"
      ]
    },
    {
      "cell_type": "code",
      "source": [
        "data_url = \"https://storage.cloud.google.com/dataset_nutrisee\"\n",
        "data_file_name = \"dataset.zip\""
      ],
      "metadata": {
        "id": "71IUNvcSQxoW"
      },
      "execution_count": 3,
      "outputs": []
    },
    {
      "cell_type": "markdown",
      "metadata": {
        "id": "0ObCXKlhNgBc"
      },
      "source": [
        "Hyper parameters"
      ]
    },
    {
      "cell_type": "code",
      "execution_count": 4,
      "metadata": {
        "id": "hXN5G3RFNfnb"
      },
      "outputs": [],
      "source": [
        "# Define root directory\n",
        "root_dir = '/tmp/data'\n",
        "\n",
        "# Define paths\n",
        "SOURCE_DIR = \"/tmp/dataset/\"\n",
        "TRAINING_DIR = \"/tmp/data/training/\"\n",
        "VALIDATION_DIR = \"/tmp/data/validation/\"\n",
        "\n",
        "# Define proportion of images used for training\n",
        "split_size = .8\n",
        "\n",
        "# Define input shape details\n",
        "input_height = 224\n",
        "input_width = 224\n",
        "num_channels = 3"
      ]
    },
    {
      "cell_type": "markdown",
      "metadata": {
        "id": "TEMqrCaOhl-z"
      },
      "source": [
        "## Import data from Google Drive"
      ]
    },
    {
      "cell_type": "markdown",
      "source": [
        "### Import from Downloadable Drive"
      ],
      "metadata": {
        "id": "qCdd0faeDiIc"
      }
    },
    {
      "cell_type": "code",
      "source": [
        "# import online"
      ],
      "metadata": {
        "id": "m092edx2Dgqd"
      },
      "execution_count": null,
      "outputs": []
    },
    {
      "cell_type": "markdown",
      "source": [
        "### Import from Local Google Drive"
      ],
      "metadata": {
        "id": "LPWTqyF-DlpX"
      }
    },
    {
      "cell_type": "code",
      "execution_count": 5,
      "metadata": {
        "colab": {
          "base_uri": "https://localhost:8080/"
        },
        "id": "JHS110ojgCzU",
        "outputId": "5ca053d9-ea6c-46b3-f1b3-0228353167dd"
      },
      "outputs": [
        {
          "output_type": "stream",
          "name": "stdout",
          "text": [
            "Mounted at /content/drive\n"
          ]
        }
      ],
      "source": [
        "# read csv data file\n",
        "from google.colab import drive\n",
        "drive.mount('/content/drive')"
      ]
    },
    {
      "cell_type": "code",
      "execution_count": 6,
      "metadata": {
        "id": "ag8N_WCgg8yv"
      },
      "outputs": [],
      "source": [
        "path = \"/content/drive/MyDrive/Colab Notebooks/CNN-Capstone-Dataset/dataset.zip\"\n",
        "zip_ref   = zipfile.ZipFile(path, 'r')\n",
        "zip_ref.extractall('/tmp/dataset')\n",
        "zip_ref.close()"
      ]
    },
    {
      "cell_type": "code",
      "execution_count": 7,
      "metadata": {
        "colab": {
          "base_uri": "https://localhost:8080/"
        },
        "id": "z3Iq45X-hESK",
        "outputId": "feba2d25-2944-4694-c2cf-ac84659a0e5b"
      },
      "outputs": [
        {
          "output_type": "stream",
          "name": "stdout",
          "text": [
            "['botol_yogurt_ori_cimory', 'botol_yogurt_mixedfruit_cimory', 'kaleng_susu_ori_beruang', 'kotak_susu_coklat_ultramilk', 'plastik_coklat_dark_silverqueen', 'kotak_jus_jerukmaduless_nutrisari', 'kotak_susu_straberry_ultramilk', 'botol_kopi_cappuccino_golda', 'plastik_biskuit_coffee_goodtime', 'plastik_kacang_kupas_duakelinci', 'zipper_kacang_honeyreasted_mrp', 'botol_elektrolit_ori_pocari', 'kotak_jus_apel_abc', 'plastik_popcorn_ori_poppypop', 'kotak_susu_fullcream_ultramilk', 'kaca_nrg_ori_kratingdeng', 'kotak_jus_jambu_abc', 'plastik_coklat_susu_dairymilk', 'kotak_jus_jerukperasless_nutrisari', 'botol_kopi_aren_kopken', 'plastik_ringan_keju_twistko', 'plastik_biskuit_doublechoc_goodtime', 'botol_kopi_susu_abc']\n"
          ]
        }
      ],
      "source": [
        "# show all exported label\n",
        "print(os.listdir('/tmp/dataset'))"
      ]
    },
    {
      "cell_type": "code",
      "execution_count": 11,
      "metadata": {
        "id": "MFCiksVXJXIF"
      },
      "outputs": [],
      "source": [
        "shutil.rmtree('/tmp')"
      ]
    },
    {
      "cell_type": "markdown",
      "metadata": {
        "id": "E4ddeZ68hX1L"
      },
      "source": [
        "## Directory Creation"
      ]
    },
    {
      "cell_type": "code",
      "execution_count": 8,
      "metadata": {
        "id": "EyhirXoVhI7T"
      },
      "outputs": [],
      "source": [
        "# Empty directory to prevent FileExistsError is the function is run several times\n",
        "if os.path.exists(root_dir):\n",
        "  shutil.rmtree(root_dir)\n",
        "\n",
        "def create_train_val_dirs(root_path, classes):\n",
        "    train_dir = os.path.join(root_path, 'training')\n",
        "    val_dir = os.path.join(root_path, 'validation')\n",
        "\n",
        "    # Make directories for each class in training and validation sets\n",
        "    for class_name in classes:\n",
        "        train_class_dir = os.path.join(train_dir, class_name)\n",
        "        val_class_dir = os.path.join(val_dir, class_name)\n",
        "\n",
        "        os.makedirs(train_class_dir)\n",
        "        os.makedirs(val_class_dir)\n",
        "\n",
        "try:\n",
        "    classes = os.listdir('/tmp/dataset')\n",
        "    create_train_val_dirs(root_path=root_dir, classes=classes)\n",
        "except FileExistsError:\n",
        "  print(\"You should not be seeing this since the upper directory is removed beforehand\")"
      ]
    },
    {
      "cell_type": "code",
      "execution_count": 9,
      "metadata": {
        "colab": {
          "base_uri": "https://localhost:8080/"
        },
        "id": "1t2f_JFIhU7k",
        "outputId": "543fdd1f-817b-4048-f154-0601329ace94"
      },
      "outputs": [
        {
          "output_type": "stream",
          "name": "stdout",
          "text": [
            "/tmp/data/validation\n",
            "/tmp/data/training\n",
            "/tmp/data/validation/botol_yogurt_ori_cimory\n",
            "/tmp/data/validation/botol_yogurt_mixedfruit_cimory\n",
            "/tmp/data/validation/kaleng_susu_ori_beruang\n",
            "/tmp/data/validation/kotak_susu_coklat_ultramilk\n",
            "/tmp/data/validation/plastik_coklat_dark_silverqueen\n",
            "/tmp/data/validation/kotak_jus_jerukmaduless_nutrisari\n",
            "/tmp/data/validation/kotak_susu_straberry_ultramilk\n",
            "/tmp/data/validation/botol_kopi_cappuccino_golda\n",
            "/tmp/data/validation/plastik_biskuit_coffee_goodtime\n",
            "/tmp/data/validation/plastik_kacang_kupas_duakelinci\n",
            "/tmp/data/validation/zipper_kacang_honeyreasted_mrp\n",
            "/tmp/data/validation/botol_elektrolit_ori_pocari\n",
            "/tmp/data/validation/kotak_jus_apel_abc\n",
            "/tmp/data/validation/plastik_popcorn_ori_poppypop\n",
            "/tmp/data/validation/kotak_susu_fullcream_ultramilk\n",
            "/tmp/data/validation/kaca_nrg_ori_kratingdeng\n",
            "/tmp/data/validation/kotak_jus_jambu_abc\n",
            "/tmp/data/validation/plastik_coklat_susu_dairymilk\n",
            "/tmp/data/validation/kotak_jus_jerukperasless_nutrisari\n",
            "/tmp/data/validation/botol_kopi_aren_kopken\n",
            "/tmp/data/validation/plastik_ringan_keju_twistko\n",
            "/tmp/data/validation/plastik_biskuit_doublechoc_goodtime\n",
            "/tmp/data/validation/botol_kopi_susu_abc\n",
            "/tmp/data/training/botol_yogurt_ori_cimory\n",
            "/tmp/data/training/botol_yogurt_mixedfruit_cimory\n",
            "/tmp/data/training/kaleng_susu_ori_beruang\n",
            "/tmp/data/training/kotak_susu_coklat_ultramilk\n",
            "/tmp/data/training/plastik_coklat_dark_silverqueen\n",
            "/tmp/data/training/kotak_jus_jerukmaduless_nutrisari\n",
            "/tmp/data/training/kotak_susu_straberry_ultramilk\n",
            "/tmp/data/training/botol_kopi_cappuccino_golda\n",
            "/tmp/data/training/plastik_biskuit_coffee_goodtime\n",
            "/tmp/data/training/plastik_kacang_kupas_duakelinci\n",
            "/tmp/data/training/zipper_kacang_honeyreasted_mrp\n",
            "/tmp/data/training/botol_elektrolit_ori_pocari\n",
            "/tmp/data/training/kotak_jus_apel_abc\n",
            "/tmp/data/training/plastik_popcorn_ori_poppypop\n",
            "/tmp/data/training/kotak_susu_fullcream_ultramilk\n",
            "/tmp/data/training/kaca_nrg_ori_kratingdeng\n",
            "/tmp/data/training/kotak_jus_jambu_abc\n",
            "/tmp/data/training/plastik_coklat_susu_dairymilk\n",
            "/tmp/data/training/kotak_jus_jerukperasless_nutrisari\n",
            "/tmp/data/training/botol_kopi_aren_kopken\n",
            "/tmp/data/training/plastik_ringan_keju_twistko\n",
            "/tmp/data/training/plastik_biskuit_doublechoc_goodtime\n",
            "/tmp/data/training/botol_kopi_susu_abc\n"
          ]
        }
      ],
      "source": [
        "for rootdir, dirs, files in os.walk(root_dir):\n",
        "    for subdir in dirs:\n",
        "        print(os.path.join(rootdir, subdir))"
      ]
    },
    {
      "cell_type": "markdown",
      "metadata": {
        "id": "UmKQpqzCDDTj"
      },
      "source": [
        "## Data Splitting"
      ]
    },
    {
      "cell_type": "code",
      "execution_count": 10,
      "metadata": {
        "id": "XfntDA9ehXQL"
      },
      "outputs": [],
      "source": [
        "def split_data(SOURCE_DIR, TRAINING_DIR, VALIDATION_DIR, SPLIT_SIZE):\n",
        "  # List all files in the source directory\n",
        "  files = os.listdir(SOURCE_DIR)\n",
        "\n",
        "  # Print messages about zero-length images\n",
        "  for file in files:\n",
        "    if os.path.getsize(os.path.join(SOURCE_DIR, file)) == 0:\n",
        "      print(f\"{file} is zero length, so ignoring.\")\n",
        "\n",
        "  # Remove zero-sized images\n",
        "  files = [file for file in files if os.path.getsize(os.path.join(SOURCE_DIR, file)) > 0]\n",
        "\n",
        "  # Calculate the split size\n",
        "  split_count = len(files) - int(len(files) * SPLIT_SIZE)\n",
        "  split_index = len(files)//split_count\n",
        "\n",
        "  # Split the files into training and validation sets\n",
        "  training_files = []\n",
        "  validation_files = []\n",
        "\n",
        "  for i in range(len(files)):\n",
        "    if (i%split_index) == 0:\n",
        "      validation_files.append(files[i])\n",
        "    else:\n",
        "      training_files.append(files[i])\n",
        "\n",
        "  # training_files = files[split_count:]\n",
        "  # validation_files = files[:split_count]\n",
        "\n",
        "  # Copy training files to the training directory\n",
        "  for file in training_files:\n",
        "    source_file = os.path.join(SOURCE_DIR, file)\n",
        "    destination_file = os.path.join(TRAINING_DIR, file)\n",
        "    shutil.copyfile(source_file, destination_file)\n",
        "\n",
        "  # Copy validation files to the validation directory\n",
        "  for file in validation_files:\n",
        "    source_file = os.path.join(SOURCE_DIR, file)\n",
        "    destination_file = os.path.join(VALIDATION_DIR, file)\n",
        "    shutil.copyfile(source_file, destination_file)"
      ]
    },
    {
      "cell_type": "code",
      "execution_count": 11,
      "metadata": {
        "id": "8huuy7uZGEg0"
      },
      "outputs": [],
      "source": [
        "# Make directories for each class in training and validation sets\n",
        "classes_native = os.listdir(SOURCE_DIR)\n",
        "\n",
        "for class_name in classes_native:\n",
        "    TRAINING_CLASS_DIR = os.path.join(TRAINING_DIR, class_name)\n",
        "    VALIDATION_CLASS_DIR = os.path.join(VALIDATION_DIR, class_name)\n",
        "\n",
        "    # Empty directories in case you run this cell multiple times\n",
        "    if len(os.listdir(TRAINING_CLASS_DIR)) > 0:\n",
        "      for file in os.scandir(TRAINING_CLASS_DIR):\n",
        "        os.remove(file.path)\n",
        "    if len(os.listdir(VALIDATION_CLASS_DIR)) > 0:\n",
        "      for file in os.scandir(VALIDATION_CLASS_DIR):\n",
        "        os.remove(file.path)\n",
        "\n",
        "# Run the function\n",
        "# NOTE: Messages about zero length images should be printed out\n",
        "for i in range(len(classes_native)):\n",
        "    TRAINING_CLASS_DIR = os.path.join(TRAINING_DIR, classes[i])\n",
        "    VALIDATION_CLASS_DIR = os.path.join(VALIDATION_DIR, classes[i])\n",
        "\n",
        "    SOURCE_CLASS_DIR = os.path.join(SOURCE_DIR, classes_native[i])\n",
        "    split_data(SOURCE_CLASS_DIR,\n",
        "               TRAINING_CLASS_DIR,\n",
        "               VALIDATION_CLASS_DIR,\n",
        "               split_size)"
      ]
    },
    {
      "cell_type": "code",
      "execution_count": 12,
      "metadata": {
        "colab": {
          "base_uri": "https://localhost:8080/"
        },
        "id": "lHGC8zYINDhV",
        "outputId": "0a23eb12-2d76-454d-ffdd-823779a4bd6e"
      },
      "outputs": [
        {
          "output_type": "stream",
          "name": "stdout",
          "text": [
            "Original botol_yogurt_ori_cimory's directory has 70 images\n",
            "There are 56 images of botol_yogurt_ori_cimory for training\n",
            "There are 14 images of botol_yogurt_ori_cimory for validation\n",
            "\n",
            "\n",
            "Original botol_yogurt_mixedfruit_cimory's directory has 70 images\n",
            "There are 56 images of botol_yogurt_mixedfruit_cimory for training\n",
            "There are 14 images of botol_yogurt_mixedfruit_cimory for validation\n",
            "\n",
            "\n",
            "Original kaleng_susu_ori_beruang's directory has 70 images\n",
            "There are 56 images of kaleng_susu_ori_beruang for training\n",
            "There are 14 images of kaleng_susu_ori_beruang for validation\n",
            "\n",
            "\n",
            "Original kotak_susu_coklat_ultramilk's directory has 70 images\n",
            "There are 56 images of kotak_susu_coklat_ultramilk for training\n",
            "There are 14 images of kotak_susu_coklat_ultramilk for validation\n",
            "\n",
            "\n",
            "Original plastik_coklat_dark_silverqueen's directory has 70 images\n",
            "There are 56 images of plastik_coklat_dark_silverqueen for training\n",
            "There are 14 images of plastik_coklat_dark_silverqueen for validation\n",
            "\n",
            "\n",
            "Original kotak_jus_jerukmaduless_nutrisari's directory has 70 images\n",
            "There are 56 images of kotak_jus_jerukmaduless_nutrisari for training\n",
            "There are 14 images of kotak_jus_jerukmaduless_nutrisari for validation\n",
            "\n",
            "\n",
            "Original kotak_susu_straberry_ultramilk's directory has 70 images\n",
            "There are 56 images of kotak_susu_straberry_ultramilk for training\n",
            "There are 14 images of kotak_susu_straberry_ultramilk for validation\n",
            "\n",
            "\n",
            "Original botol_kopi_cappuccino_golda's directory has 70 images\n",
            "There are 56 images of botol_kopi_cappuccino_golda for training\n",
            "There are 14 images of botol_kopi_cappuccino_golda for validation\n",
            "\n",
            "\n",
            "Original plastik_biskuit_coffee_goodtime's directory has 70 images\n",
            "There are 56 images of plastik_biskuit_coffee_goodtime for training\n",
            "There are 14 images of plastik_biskuit_coffee_goodtime for validation\n",
            "\n",
            "\n",
            "Original plastik_kacang_kupas_duakelinci's directory has 70 images\n",
            "There are 56 images of plastik_kacang_kupas_duakelinci for training\n",
            "There are 14 images of plastik_kacang_kupas_duakelinci for validation\n",
            "\n",
            "\n",
            "Original zipper_kacang_honeyreasted_mrp's directory has 70 images\n",
            "There are 56 images of zipper_kacang_honeyreasted_mrp for training\n",
            "There are 14 images of zipper_kacang_honeyreasted_mrp for validation\n",
            "\n",
            "\n",
            "Original botol_elektrolit_ori_pocari's directory has 70 images\n",
            "There are 56 images of botol_elektrolit_ori_pocari for training\n",
            "There are 14 images of botol_elektrolit_ori_pocari for validation\n",
            "\n",
            "\n",
            "Original kotak_jus_apel_abc's directory has 70 images\n",
            "There are 56 images of kotak_jus_apel_abc for training\n",
            "There are 14 images of kotak_jus_apel_abc for validation\n",
            "\n",
            "\n",
            "Original plastik_popcorn_ori_poppypop's directory has 70 images\n",
            "There are 56 images of plastik_popcorn_ori_poppypop for training\n",
            "There are 14 images of plastik_popcorn_ori_poppypop for validation\n",
            "\n",
            "\n",
            "Original kotak_susu_fullcream_ultramilk's directory has 70 images\n",
            "There are 56 images of kotak_susu_fullcream_ultramilk for training\n",
            "There are 14 images of kotak_susu_fullcream_ultramilk for validation\n",
            "\n",
            "\n",
            "Original kaca_nrg_ori_kratingdeng's directory has 70 images\n",
            "There are 56 images of kaca_nrg_ori_kratingdeng for training\n",
            "There are 14 images of kaca_nrg_ori_kratingdeng for validation\n",
            "\n",
            "\n",
            "Original kotak_jus_jambu_abc's directory has 70 images\n",
            "There are 56 images of kotak_jus_jambu_abc for training\n",
            "There are 14 images of kotak_jus_jambu_abc for validation\n",
            "\n",
            "\n",
            "Original plastik_coklat_susu_dairymilk's directory has 70 images\n",
            "There are 56 images of plastik_coklat_susu_dairymilk for training\n",
            "There are 14 images of plastik_coklat_susu_dairymilk for validation\n",
            "\n",
            "\n",
            "Original kotak_jus_jerukperasless_nutrisari's directory has 70 images\n",
            "There are 56 images of kotak_jus_jerukperasless_nutrisari for training\n",
            "There are 14 images of kotak_jus_jerukperasless_nutrisari for validation\n",
            "\n",
            "\n",
            "Original botol_kopi_aren_kopken's directory has 70 images\n",
            "There are 56 images of botol_kopi_aren_kopken for training\n",
            "There are 14 images of botol_kopi_aren_kopken for validation\n",
            "\n",
            "\n",
            "Original plastik_ringan_keju_twistko's directory has 70 images\n",
            "There are 56 images of plastik_ringan_keju_twistko for training\n",
            "There are 14 images of plastik_ringan_keju_twistko for validation\n",
            "\n",
            "\n",
            "Original plastik_biskuit_doublechoc_goodtime's directory has 70 images\n",
            "There are 56 images of plastik_biskuit_doublechoc_goodtime for training\n",
            "There are 14 images of plastik_biskuit_doublechoc_goodtime for validation\n",
            "\n",
            "\n",
            "Original botol_kopi_susu_abc's directory has 70 images\n",
            "There are 56 images of botol_kopi_susu_abc for training\n",
            "There are 14 images of botol_kopi_susu_abc for validation\n",
            "\n",
            "\n"
          ]
        }
      ],
      "source": [
        "# Your function should perform copies rather than moving images so original directories should contain unchanged images\n",
        "for i in range(len(classes_native)):\n",
        "    TRAINING_CLASS_DIR = os.path.join(TRAINING_DIR, classes[i])\n",
        "    VALIDATION_CLASS_DIR = os.path.join(VALIDATION_DIR, classes[i])\n",
        "    SOURCE_CLASS_DIR = os.path.join(SOURCE_DIR, classes_native[i])\n",
        "\n",
        "    print(f\"Original {classes[i]}'s directory has {len(os.listdir(SOURCE_CLASS_DIR))} images\")\n",
        "\n",
        "    # Training and validation splits. Check that the number of images matches the expected output.\n",
        "    print(f\"There are {len(os.listdir(TRAINING_CLASS_DIR))} images of {classes[i]} for training\")\n",
        "    print(f\"There are {len(os.listdir(VALIDATION_CLASS_DIR))} images of {classes[i]} for validation\")\n",
        "\n",
        "    print(f\"\\n\")"
      ]
    },
    {
      "cell_type": "markdown",
      "metadata": {
        "id": "Pl5WxTZvQsPH"
      },
      "source": [
        "## Data Augmentation Handling"
      ]
    },
    {
      "cell_type": "markdown",
      "metadata": {
        "id": "zfYq-v7gNjpB"
      },
      "source": [
        "### with Image Augmentation"
      ]
    },
    {
      "cell_type": "code",
      "execution_count": 13,
      "metadata": {
        "id": "o5AaFI3dNlfS"
      },
      "outputs": [],
      "source": [
        "def train_val_generators(TRAINING_DIR, VALIDATION_DIR):\n",
        "\n",
        "  # Training datagen\n",
        "  train_datagen = ImageDataGenerator(rescale=(1./255),\n",
        "                                     rotation_range=30,\n",
        "                                     width_shift_range=0.2,\n",
        "                                     height_shift_range=0.2,\n",
        "                                     zoom_range=0.3,\n",
        "                                     brightness_range=[0.05, 0.3],\n",
        "                                     fill_mode='nearest')\n",
        "\n",
        "  # Training generator\n",
        "  train_generator = train_datagen.flow_from_directory(\n",
        "      directory=TRAINING_DIR,\n",
        "      batch_size=50,\n",
        "      class_mode='sparse',\n",
        "      target_size=(input_height, input_width))\n",
        "\n",
        "  # ==================================================\n",
        "\n",
        "  # Validation datagen\n",
        "  validation_datagen = ImageDataGenerator(rescale=(1./255))\n",
        "\n",
        "  # Validation generator\n",
        "  validation_generator = validation_datagen.flow_from_directory(\n",
        "      directory=VALIDATION_DIR,\n",
        "      batch_size=50,\n",
        "      class_mode='sparse',\n",
        "      target_size=(input_height, input_width))\n",
        "\n",
        "  return train_generator, validation_generator"
      ]
    },
    {
      "cell_type": "markdown",
      "metadata": {
        "id": "jxmE8lvKQnD_"
      },
      "source": [
        "### no Image Augmentation"
      ]
    },
    {
      "cell_type": "code",
      "execution_count": null,
      "metadata": {
        "id": "AW72p8hvQmjQ"
      },
      "outputs": [],
      "source": [
        "def train_val_generators(TRAINING_DIR, VALIDATION_DIR):\n",
        "\n",
        "  # Training datagen\n",
        "  train_datagen = ImageDataGenerator(rescale=(1./255))\n",
        "\n",
        "  # Training generator\n",
        "  train_generator = train_datagen.flow_from_directory(\n",
        "      directory=TRAINING_DIR,\n",
        "      batch_size=20,\n",
        "      class_mode='sparse',\n",
        "      target_size=(input_height, input_width))\n",
        "\n",
        "  # ==================================================\n",
        "\n",
        "  # Validation datagen\n",
        "  validation_datagen = ImageDataGenerator(rescale=(1./255))\n",
        "\n",
        "  # Validation generator\n",
        "  validation_generator = validation_datagen.flow_from_directory(\n",
        "      directory=VALIDATION_DIR,\n",
        "      batch_size=20,\n",
        "      class_mode='sparse',\n",
        "      target_size=(input_height, input_width))\n",
        "\n",
        "  return train_generator, validation_generator"
      ]
    },
    {
      "cell_type": "markdown",
      "metadata": {
        "id": "V19z0azNwjxR"
      },
      "source": [
        "### rest of the code..."
      ]
    },
    {
      "cell_type": "code",
      "execution_count": 14,
      "metadata": {
        "colab": {
          "base_uri": "https://localhost:8080/"
        },
        "id": "TxitsB8ZNofL",
        "outputId": "0c71b875-b95f-4307-ecad-cf4e98bbd416"
      },
      "outputs": [
        {
          "output_type": "stream",
          "name": "stdout",
          "text": [
            "Found 1288 images belonging to 23 classes.\n",
            "Found 322 images belonging to 23 classes.\n"
          ]
        }
      ],
      "source": [
        "# Test your generators\n",
        "train_generator, validation_generator = train_val_generators(TRAINING_DIR, VALIDATION_DIR)"
      ]
    },
    {
      "cell_type": "code",
      "execution_count": 15,
      "metadata": {
        "colab": {
          "base_uri": "https://localhost:8080/"
        },
        "id": "vOb8KW7ZuMQn",
        "outputId": "0f403f2c-d0e7-45eb-c433-377c5f496236"
      },
      "outputs": [
        {
          "output_type": "stream",
          "name": "stdout",
          "text": [
            "(50, 224, 224, 3)\n",
            "(50,)\n"
          ]
        }
      ],
      "source": [
        "x_batch_train, y_batch_train = next(train_generator)\n",
        "print(x_batch_train.shape)  # Should be (batch_size, height, width, channels)\n",
        "print(y_batch_train.shape)  # Should be (batch_size, num_classes)"
      ]
    },
    {
      "cell_type": "code",
      "execution_count": 16,
      "metadata": {
        "colab": {
          "base_uri": "https://localhost:8080/"
        },
        "id": "2OxeKtPtuRhA",
        "outputId": "9e65e68c-1d93-4c52-bf71-e262a6967fd5"
      },
      "outputs": [
        {
          "output_type": "stream",
          "name": "stdout",
          "text": [
            "(50, 224, 224, 3)\n",
            "(50,)\n"
          ]
        }
      ],
      "source": [
        "x_batch_val, y_batch_val = next(validation_generator)\n",
        "print(x_batch_val.shape)  # Should be (batch_size, height, width, channels)\n",
        "print(y_batch_val.shape)  # Should be (batch_size, num_classes)"
      ]
    },
    {
      "cell_type": "code",
      "execution_count": 17,
      "metadata": {
        "colab": {
          "base_uri": "https://localhost:8080/"
        },
        "id": "RwSr1qdZ_Did",
        "outputId": "81784b95-9202-4d6d-cd9c-bb23b659ee55"
      },
      "outputs": [
        {
          "output_type": "stream",
          "name": "stdout",
          "text": [
            "Class indices: {'botol_elektrolit_ori_pocari': 0, 'botol_kopi_aren_kopken': 1, 'botol_kopi_cappuccino_golda': 2, 'botol_kopi_susu_abc': 3, 'botol_yogurt_mixedfruit_cimory': 4, 'botol_yogurt_ori_cimory': 5, 'kaca_nrg_ori_kratingdeng': 6, 'kaleng_susu_ori_beruang': 7, 'kotak_jus_apel_abc': 8, 'kotak_jus_jambu_abc': 9, 'kotak_jus_jerukmaduless_nutrisari': 10, 'kotak_jus_jerukperasless_nutrisari': 11, 'kotak_susu_coklat_ultramilk': 12, 'kotak_susu_fullcream_ultramilk': 13, 'kotak_susu_straberry_ultramilk': 14, 'plastik_biskuit_coffee_goodtime': 15, 'plastik_biskuit_doublechoc_goodtime': 16, 'plastik_coklat_dark_silverqueen': 17, 'plastik_coklat_susu_dairymilk': 18, 'plastik_kacang_kupas_duakelinci': 19, 'plastik_popcorn_ori_poppypop': 20, 'plastik_ringan_keju_twistko': 21, 'zipper_kacang_honeyreasted_mrp': 22}\n",
            "Classes: [ 0  0  0 ... 22 22 22]\n",
            "Validation Class indices: {'botol_elektrolit_ori_pocari': 0, 'botol_kopi_aren_kopken': 1, 'botol_kopi_cappuccino_golda': 2, 'botol_kopi_susu_abc': 3, 'botol_yogurt_mixedfruit_cimory': 4, 'botol_yogurt_ori_cimory': 5, 'kaca_nrg_ori_kratingdeng': 6, 'kaleng_susu_ori_beruang': 7, 'kotak_jus_apel_abc': 8, 'kotak_jus_jambu_abc': 9, 'kotak_jus_jerukmaduless_nutrisari': 10, 'kotak_jus_jerukperasless_nutrisari': 11, 'kotak_susu_coklat_ultramilk': 12, 'kotak_susu_fullcream_ultramilk': 13, 'kotak_susu_straberry_ultramilk': 14, 'plastik_biskuit_coffee_goodtime': 15, 'plastik_biskuit_doublechoc_goodtime': 16, 'plastik_coklat_dark_silverqueen': 17, 'plastik_coklat_susu_dairymilk': 18, 'plastik_kacang_kupas_duakelinci': 19, 'plastik_popcorn_ori_poppypop': 20, 'plastik_ringan_keju_twistko': 21, 'zipper_kacang_honeyreasted_mrp': 22}\n",
            "Validation Classes: [ 0  0  0  0  0  0  0  0  0  0  0  0  0  0  1  1  1  1  1  1  1  1  1  1\n",
            "  1  1  1  1  2  2  2  2  2  2  2  2  2  2  2  2  2  2  3  3  3  3  3  3\n",
            "  3  3  3  3  3  3  3  3  4  4  4  4  4  4  4  4  4  4  4  4  4  4  5  5\n",
            "  5  5  5  5  5  5  5  5  5  5  5  5  6  6  6  6  6  6  6  6  6  6  6  6\n",
            "  6  6  7  7  7  7  7  7  7  7  7  7  7  7  7  7  8  8  8  8  8  8  8  8\n",
            "  8  8  8  8  8  8  9  9  9  9  9  9  9  9  9  9  9  9  9  9 10 10 10 10\n",
            " 10 10 10 10 10 10 10 10 10 10 11 11 11 11 11 11 11 11 11 11 11 11 11 11\n",
            " 12 12 12 12 12 12 12 12 12 12 12 12 12 12 13 13 13 13 13 13 13 13 13 13\n",
            " 13 13 13 13 14 14 14 14 14 14 14 14 14 14 14 14 14 14 15 15 15 15 15 15\n",
            " 15 15 15 15 15 15 15 15 16 16 16 16 16 16 16 16 16 16 16 16 16 16 17 17\n",
            " 17 17 17 17 17 17 17 17 17 17 17 17 18 18 18 18 18 18 18 18 18 18 18 18\n",
            " 18 18 19 19 19 19 19 19 19 19 19 19 19 19 19 19 20 20 20 20 20 20 20 20\n",
            " 20 20 20 20 20 20 21 21 21 21 21 21 21 21 21 21 21 21 21 21 22 22 22 22\n",
            " 22 22 22 22 22 22 22 22 22 22]\n"
          ]
        }
      ],
      "source": [
        "# Check the class indices to see the order of the labels\n",
        "print(\"Class indices:\", train_generator.class_indices)\n",
        "print(\"Classes:\", train_generator.classes)\n",
        "\n",
        "# Similarly for validation generator\n",
        "print(\"Validation Class indices:\", validation_generator.class_indices)\n",
        "print(\"Validation Classes:\", validation_generator.classes)"
      ]
    },
    {
      "cell_type": "markdown",
      "metadata": {
        "id": "T7LwrYtTgzTa"
      },
      "source": [
        "# Data Processing"
      ]
    },
    {
      "cell_type": "markdown",
      "metadata": {
        "id": "BA2YU31am2eV"
      },
      "source": [
        "## Model Creation"
      ]
    },
    {
      "cell_type": "code",
      "source": [
        "def convLayers(inputs):\n",
        "    x = layers.Conv2D(filters=16, kernel_size=3, activation='relu', strides=2, padding='same')(inputs)\n",
        "    x = layers.Conv2D(filters=16, kernel_size=3, activation='relu', strides=2, padding='same')(x)\n",
        "    x = layers.MaxPooling2D(pool_size=2, strides=2, padding='same')(inputs)\n",
        "\n",
        "    x = layers.Conv2D(filters=16, kernel_size=3, activation='relu', strides=2, padding='same')(inputs)\n",
        "    x = layers.Conv2D(filters=16, kernel_size=3, activation='relu', strides=2, padding='same')(x)\n",
        "    x = layers.MaxPooling2D(pool_size=2, strides=2, padding='same')(x)\n",
        "\n",
        "    x = tf.keras.layers.MaxPooling2D()(x)\n",
        "\n",
        "    x = layers.Conv2D(filters=32, kernel_size=3, activation='relu', strides=2, padding='same')(inputs)\n",
        "    x = layers.Conv2D(filters=32, kernel_size=3, activation='relu', strides=2, padding='same')(x)\n",
        "    x = layers.MaxPooling2D(pool_size=2, strides=2, padding='same')(x)\n",
        "\n",
        "    x = layers.Conv2D(filters=32, kernel_size=3, activation='relu', strides=2, padding='same')(inputs)\n",
        "    x = layers.Conv2D(filters=32, kernel_size=3, activation='relu', strides=2, padding='same')(x)\n",
        "    x = layers.MaxPooling2D(pool_size=2, strides=2, padding='same')(x)\n",
        "\n",
        "    x = tf.keras.layers.MaxPooling2D()(x)\n",
        "\n",
        "    #x = layers.Conv2D(filters=64, kernel_size=3, activation='relu', strides=2, padding='same')(x)\n",
        "    #x = layers.Conv2D(filters=64, kernel_size=3, activation='relu', strides=2, padding='same')(x)\n",
        "    #x = layers.MaxPooling2D(pool_size=2, strides=2, padding='same')(x)\n",
        "\n",
        "    #x = layers.Conv2D(filters=64, kernel_size=3, activation='relu', strides=2, padding='same')(x)\n",
        "    #x = layers.Conv2D(filters=64, kernel_size=3, activation='relu', strides=2, padding='same')(x)\n",
        "    #x = layers.MaxPooling2D(pool_size=2, strides=2, padding='same')(x)\n",
        "\n",
        "    #x = tf.keras.layers.MaxPooling2D()(x)\n",
        "\n",
        "    return x"
      ],
      "metadata": {
        "id": "oPsYff6kXZlE"
      },
      "execution_count": 18,
      "outputs": []
    },
    {
      "cell_type": "code",
      "source": [
        "def basicModel(inputs, num_classes):\n",
        "    x_a = convLayers(inputs)\n",
        "    x_a = layers.Dropout(0.2)(x_a)\n",
        "    x_a = layers.Flatten()(x_a)\n",
        "    x_a = layers.BatchNormalization()(x_a)\n",
        "\n",
        "    x_b = convLayers(tf.image.rgb_to_grayscale(inputs))\n",
        "    x_b = layers.Dropout(0.2)(x_b)\n",
        "    x_b = layers.Flatten()(x_b)\n",
        "    x_b = layers.BatchNormalization()(x_b)\n",
        "\n",
        "    x = layers.Concatenate()([x_a, x_b])\n",
        "    x = layers.Activation('relu')(x)\n",
        "\n",
        "    #x = layers.Dense(256, activation='relu')(x)\n",
        "    #x = layers.Dense(256, activation='relu')(x)\n",
        "    x = layers.Dense(128, activation='relu')(x)\n",
        "    x = layers.Dense(128, activation='relu')(x)\n",
        "    x = layers.Dense(num_classes, activation='softmax')(x)\n",
        "\n",
        "    return Model(inputs=inputs, outputs=x)"
      ],
      "metadata": {
        "id": "bVtbYUpAbv1C"
      },
      "execution_count": 19,
      "outputs": []
    },
    {
      "cell_type": "markdown",
      "source": [
        "#### Scratch (Mobile-Net and VGG)"
      ],
      "metadata": {
        "id": "dVoOPiIPPr03"
      }
    },
    {
      "cell_type": "code",
      "source": [
        "def vggBlock(inputs, filters, kernel_size, repetitions, pool_size=2, strides=2):\n",
        "  x = inputs\n",
        "  for i in range(repetitions):\n",
        "    x = tf.keras.layers.Conv2D(filters,\n",
        "                               kernel_size,\n",
        "                               activation='relu',\n",
        "                               padding='same')(x)\n",
        "\n",
        "  x = tf.keras.layers.MaxPooling2D(pool_size=pool_size,\n",
        "                                   strides=strides,\n",
        "                                   padding='same')(x)\n",
        "\n",
        "  x = tf.keras.layers.BatchNormalization()(x)\n",
        "\n",
        "  return x"
      ],
      "metadata": {
        "id": "KJSSp_ncOp9K"
      },
      "execution_count": null,
      "outputs": []
    },
    {
      "cell_type": "code",
      "execution_count": null,
      "metadata": {
        "id": "_55l5jwknVhM"
      },
      "outputs": [],
      "source": [
        "def mobileNetBlock(inputs, filters, strides):\n",
        "  # x = tf.keras.layers.DepthwiseConv2D(kernel_size = 3,\n",
        "  #                                     strides = strides,\n",
        "  #                                     padding = 'same')(inputs)\n",
        "  # x = tf.keras.layers.BatchNormalization()(x)\n",
        "  # x = tf.keras.layers.Activation('relu')(x)\n",
        "\n",
        "  x = tf.keras.layers.Conv2D(filters = filters,\n",
        "                            kernel_size = 3,\n",
        "                            strides = 1)(inputs)\n",
        "  x = tf.keras.layers.BatchNormalization()(x)\n",
        "  x = tf.keras.layers.Activation('relu')(x)\n",
        "\n",
        "  return x\n"
      ]
    },
    {
      "cell_type": "code",
      "source": [
        "def baseLayers(inputs):\n",
        "  x = tf.keras.layers.Conv2D(filters = 8, kernel_size = 3, strides = 2, padding = 'same')(inputs)\n",
        "  x = tf.keras.layers.BatchNormalization()(x)\n",
        "  x = tf.keras.layers.ReLU(max_value=6.0)(x)\n",
        "\n",
        "  x = mobileNetBlock(inputs, 16, 1)\n",
        "  x = mobileNetBlock(x, 32, 2)\n",
        "  x = x = mobileNetBlock(x, 32, 1)\n",
        "\n",
        "  return x"
      ],
      "metadata": {
        "id": "PfaVebtkPqM4"
      },
      "execution_count": null,
      "outputs": []
    },
    {
      "cell_type": "code",
      "execution_count": null,
      "metadata": {
        "id": "U_lF3aPwoyxc"
      },
      "outputs": [],
      "source": [
        "def mobileNet(inputs, num_classes):\n",
        "  x = baseLayers(tf.image.rgb_to_grayscale(inputs))\n",
        "\n",
        "  x = tf.keras.layers.GlobalAveragePooling2D()(x)\n",
        "\n",
        "  classification = tf.keras.layers.Dense(num_classes, activation='softmax')(x)\n",
        "\n",
        "  return Model(inputs=inputs, outputs=classification)"
      ]
    },
    {
      "cell_type": "markdown",
      "source": [
        "#### Transfer Learning (Mobile-Net)"
      ],
      "metadata": {
        "id": "PHsiUXctPv1w"
      }
    },
    {
      "cell_type": "code",
      "source": [
        "# Load the pre-trained MobileNet model with the top layers excluded\n",
        "base_model = tf.keras.applications.MobileNetV2(\n",
        "    input_shape=(input_height, input_width, num_channels),  # Specify input shape\n",
        "    alpha=1.0,\n",
        "    include_top=False,  # Exclude the top classification layer\n",
        "    weights=\"imagenet\",  # Load weights pre-trained on ImageNet\n",
        "    input_tensor=None,\n",
        "    pooling=None,  # Use the final conv layer as output\n",
        ")\n",
        "\n",
        "# Freeze the base model\n",
        "base_model.trainable = False\n",
        "\n",
        "# Create the model\n",
        "myCNN = tf.keras.Sequential()\n",
        "\n",
        "# Add the base model\n",
        "myCNN.add(base_model)\n",
        "\n",
        "# Add global average pooling layer\n",
        "myCNN.add(tf.keras.layers.GlobalAveragePooling2D())\n",
        "\n",
        "# Add a dropout layer for regularization\n",
        "myCNN.add(tf.keras.layers.Dropout(0.5))\n",
        "\n",
        "# Add a dense layer with 8 units for the 8 classes\n",
        "myCNN.add(tf.keras.layers.Dense(8, activation='softmax'))\n"
      ],
      "metadata": {
        "id": "TkjbP6lABfZk"
      },
      "execution_count": null,
      "outputs": []
    },
    {
      "cell_type": "markdown",
      "metadata": {
        "id": "97cZGcBzgqcU"
      },
      "source": [
        "## Model Creation (sayang dibuang)"
      ]
    },
    {
      "cell_type": "code",
      "execution_count": null,
      "metadata": {
        "id": "1VH41CO4p8DO"
      },
      "outputs": [],
      "source": [
        "class Conv2DLayers(tf.keras.Model):\n",
        "  def __init__(self, filters, kernel_size, repetitions):\n",
        "    super(Conv2DLayers, self).__init__()\n",
        "    self.filters = filters\n",
        "    self.kernel_size = kernel_size\n",
        "    self.repetitions = repetitions\n",
        "\n",
        "    self.sequential = tf.keras.Sequential()\n",
        "    for i in range(repetitions):\n",
        "      self.sequential.add(\n",
        "          tf.keras.layers.Conv2D(self.filters, self.kernel_size, padding='same', activation='relu'))\n",
        "\n",
        "  def call(self, inputs):\n",
        "    return self.sequential(inputs)"
      ]
    },
    {
      "cell_type": "code",
      "execution_count": null,
      "metadata": {
        "id": "dLP5vdHJp3Kn"
      },
      "outputs": [],
      "source": [
        "class Block(tf.keras.Model):\n",
        "  def __init__(self, filters, kernel_size, repetitions, pool_size=2, strides=2):\n",
        "    super(Block, self).__init__()\n",
        "    self.filters = filters\n",
        "    self.kernel_size = kernel_size\n",
        "    self.repetitions = repetitions\n",
        "\n",
        "    # define a stack of conv2D layers based on repetition\n",
        "    # self.conv2D_layers = Conv2DLayers(self.filters, self.kernel_size, self.repetitions)\n",
        "    for i in range(repetitions):\n",
        "      # Define a Conv2D layer, specifying filters, kernel_size, activation and padding.\n",
        "      vars(self)[f'conv2D_{i}'] = tf.keras.layers.Conv2D(self.filters,\n",
        "                                                          self.kernel_size,\n",
        "                                                          activation='relu',\n",
        "                                                          padding='same')\n",
        "\n",
        "\n",
        "    self.max_pool = tf.keras.layers.MaxPool2D(pool_size=pool_size,\n",
        "                                              strides=strides,\n",
        "                                              padding='same')\n",
        "\n",
        "  def call(self, inputs):\n",
        "    # access the conv2D\n",
        "    # x = self.conv2D_layers(inputs)\n",
        "\n",
        "    # access the class's conv2D_0 layer\n",
        "    conv2D_0 = vars(self)['conv2D_0']\n",
        "\n",
        "    # Connect the conv2D_0 layer to inputs\n",
        "    x = conv2D_0(inputs)\n",
        "\n",
        "    # for the remaining conv2D_i layers from 1 to `repetitions` they will be connected to the previous layer\n",
        "    for i in range(1, self.repetitions):\n",
        "      # access conv2D_i by formatting the integer `i`. (hint: check how these were saved using `vars()` earlier)\n",
        "      conv2D_i = vars(self)[f'conv2D_{i}']\n",
        "\n",
        "      # Use the conv2D_i and connect it to the previous layer\n",
        "      x = conv2D_i(x)\n",
        "\n",
        "    x = self.max_pool(x)\n",
        "\n",
        "    return x"
      ]
    },
    {
      "cell_type": "code",
      "execution_count": null,
      "metadata": {
        "id": "tmJZf3cPRyzA"
      },
      "outputs": [],
      "source": [
        "# VGG based CNN\n",
        "\n",
        "class RGBModel(tf.keras.Model):\n",
        "  def __init__(self, num_classes):\n",
        "    super(RGBModel, self).__init__()\n",
        "\n",
        "    # Creating blocks of VGG with the following\n",
        "    # (filters, kernel_size, repetitions) configurations\n",
        "    self.block_a = Block(64, 3, 2)\n",
        "    self.block_b = Block(128, 3, 2)\n",
        "    self.block_c = Block(256, 3, 3)\n",
        "    self.block_d = Block(512, 3, 3)\n",
        "    self.block_e = Block(512, 3, 3)\n",
        "\n",
        "    # Define a Flatten layer\n",
        "    self.flatten = tf.keras.layers.Flatten()\n",
        "    self.act = tf.keras.layers.Activation('relu')\n",
        "\n",
        "    # Create a Dense layer\n",
        "    self.dense_0 = tf.keras.layers.Dense(256, activation='relu')\n",
        "    self.dense_1 = tf.keras.layers.Dense(512, activation='relu')\n",
        "\n",
        "    # Finally add the softmax classifier using a Dense layer\n",
        "    self.classifier = tf.keras.layers.Dense(num_classes, activation='softmax')\n",
        "\n",
        "  def call(self, inputs):\n",
        "    x = self.block_a(inputs)\n",
        "    x = self.block_b(x)\n",
        "    x = self.block_c(x)\n",
        "    x = self.block_d(x)\n",
        "    x = self.block_e(x)\n",
        "\n",
        "    x = self.flatten(x)\n",
        "    x = self.act(x)\n",
        "\n",
        "    x = self.dense_0(x)\n",
        "    x = self.dense_1(x)\n",
        "\n",
        "    return self.classifier(x)"
      ]
    },
    {
      "cell_type": "code",
      "execution_count": null,
      "metadata": {
        "id": "JUdhF6F-V_-e"
      },
      "outputs": [],
      "source": [
        "class IdentityBlock(tf.keras.Model):\n",
        "    def __init__(self, filters, kernel_size, l2_reg=0.07):\n",
        "        super(IdentityBlock, self).__init__()\n",
        "\n",
        "        self.conv2D_0 = tf.keras.layers.Conv2D(filters, kernel_size, padding='same',\n",
        "                                               kernel_regularizer=tf.keras.regularizers.l2(l2_reg))\n",
        "        self.bn_0 = tf.keras.layers.BatchNormalization()\n",
        "\n",
        "        self.conv2D_1 = tf.keras.layers.Conv2D(filters, kernel_size, padding='same',\n",
        "                                               kernel_regularizer=tf.keras.regularizers.l2(l2_reg))\n",
        "        self.bn_1 = tf.keras.layers.BatchNormalization()\n",
        "\n",
        "        self.conv2D_2 = tf.keras.layers.Conv2D(filters, kernel_size, padding='same',\n",
        "                                               kernel_regularizer=tf.keras.regularizers.l2(l2_reg))\n",
        "\n",
        "        self.act = tf.keras.layers.Activation('relu')\n",
        "        self.add = tf.keras.layers.Add()\n",
        "\n",
        "    def call(self, inputs):\n",
        "        x = self.conv2D_0(inputs)\n",
        "        x = self.bn_0(x)\n",
        "        x = self.act(x)\n",
        "\n",
        "        x = self.conv2D_1(x)\n",
        "        x = self.bn_1(x)\n",
        "        x = self.act(x)\n",
        "\n",
        "        input_conv = self.conv2D_2(inputs)\n",
        "        x = self.add([x, input_conv])\n",
        "        x = self.act(x)\n",
        "\n",
        "        return x\n",
        "\n",
        "class BWModel(tf.keras.Model):\n",
        "    def __init__(self, num_classes, l2_reg=0.07):\n",
        "        super(BWModel, self).__init__()\n",
        "        self.conv2D = tf.keras.layers.Conv2D(64, 7, padding='same',\n",
        "                                             kernel_regularizer=tf.keras.regularizers.l2(l2_reg))\n",
        "        self.bn = tf.keras.layers.BatchNormalization()\n",
        "        self.act = tf.keras.layers.Activation('relu')\n",
        "        self.max_pool = tf.keras.layers.MaxPool2D((3, 3))\n",
        "\n",
        "        # Use the Identity blocks that you just defined\n",
        "        self.id_block_1 = IdentityBlock(64, 3, l2_reg)\n",
        "        self.id_block_2 = IdentityBlock(64, 3, l2_reg)\n",
        "\n",
        "        self.global_pool = tf.keras.layers.GlobalAveragePooling2D()\n",
        "        self.flatten = tf.keras.layers.Flatten()\n",
        "        self.drop = tf.keras.layers.Dropout(0.8)\n",
        "\n",
        "        self.dense_0 = tf.keras.layers.Dense(256, activation='relu')\n",
        "        self.classifier = tf.keras.layers.Dense(num_classes, activation='softmax')\n",
        "\n",
        "    def call(self, inputs):\n",
        "        x = self.conv2D(inputs)\n",
        "        x = self.bn(x)\n",
        "        x = self.act(x)\n",
        "        x = self.max_pool(x)\n",
        "\n",
        "        # Insert the identity blocks in the middle of the network\n",
        "        x = self.id_block_1(x)\n",
        "        x = self.drop(x)\n",
        "        x = self.id_block_2(x)\n",
        "        x = self.drop(x)\n",
        "\n",
        "        x = self.global_pool(x)\n",
        "        x = self.flatten(x)\n",
        "\n",
        "        x = self.dense_0(x)\n",
        "\n",
        "        return self.classifier(x)"
      ]
    },
    {
      "cell_type": "code",
      "execution_count": null,
      "metadata": {
        "id": "ZXa5itSqWCUe"
      },
      "outputs": [],
      "source": [
        "# Combination between VGG and ResNet-18\n",
        "\n",
        "class CNNPalingPerkasa(tf.keras.Model):\n",
        "  def __init__(self, num_classes):\n",
        "    super(CNNPalingPerkasa, self).__init__()\n",
        "    self.rgbModel_1 = RGBModel(num_classes)\n",
        "    # self.rgbModel_2 = RGBModel()\n",
        "    self.bwModel = BWModel(num_classes)\n",
        "\n",
        "    self.act = tf.keras.layers.Activation('relu')\n",
        "\n",
        "    # Create a Dense layer\n",
        "    self.dense_0 = tf.keras.layers.Dense(te256, activation='relu')\n",
        "    self.dense_1 = tf.keras.layers.Dense(512, activation='relu')\n",
        "\n",
        "    # Finally add the softmax classifier using a Dense layer\n",
        "    self.classifier = tf.keras.layers.Dense(num_classes, activation='softmax')\n",
        "\n",
        "  def call(self, inputs):\n",
        "    # Pass each image data to the respective models\n",
        "    rgb_1 = self.rgbModel_1(inputs)\n",
        "    # rgb_2 = self.rgbModel_2(tf.image.rgb_to_grayscale(inputs))\n",
        "    bw = self.bwModel(tf.image.rgb_to_grayscale(inputs))\n",
        "\n",
        "    # Combine the outputs and perform further operations\n",
        "    # x_a = tf.concat([rgb_1, bw], axis=-1)\n",
        "    # x_a = self.act(x_a)\n",
        "\n",
        "    x = tf.concat([rgb_1, bw], axis=-1)\n",
        "    x = self.act(x)\n",
        "    # x = self.dense_0(rgb_1)\n",
        "    x = self.dense_1(x)\n",
        "    x = self.classifier(x)\n",
        "\n",
        "    return x"
      ]
    },
    {
      "cell_type": "markdown",
      "metadata": {
        "id": "96ok8O1Wgs6b"
      },
      "source": [
        "## Model Training"
      ]
    },
    {
      "cell_type": "code",
      "execution_count": 20,
      "metadata": {
        "id": "XMlD8VzsR8nn"
      },
      "outputs": [],
      "source": [
        "input_height = 224\n",
        "input_width = 224\n",
        "num_channels = 3\n",
        "num_classes = 23"
      ]
    },
    {
      "cell_type": "code",
      "source": [
        "# Definisikan input layer\n",
        "inputs = tf.keras.Input(shape=(input_height, input_width, num_channels))"
      ],
      "metadata": {
        "id": "TOFImj_7aZAl"
      },
      "execution_count": 21,
      "outputs": []
    },
    {
      "cell_type": "code",
      "source": [
        "# Bangun model menggunakan fungsi basicModel\n",
        "myCNN = basicModel(inputs, num_classes)"
      ],
      "metadata": {
        "id": "ZqupADdjacLl"
      },
      "execution_count": 22,
      "outputs": []
    },
    {
      "cell_type": "code",
      "execution_count": null,
      "metadata": {
        "id": "3TJDlAjDOJkF"
      },
      "outputs": [],
      "source": [
        "myCNN.summary()"
      ]
    },
    {
      "cell_type": "code",
      "execution_count": 23,
      "metadata": {
        "colab": {
          "base_uri": "https://localhost:8080/"
        },
        "id": "PAINb_aSp-FJ",
        "outputId": "ef4b2eef-c454-4401-b597-a3d21c3752e3"
      },
      "outputs": [
        {
          "output_type": "stream",
          "name": "stdout",
          "text": [
            "Epoch 1/20\n",
            "26/26 [==============================] - 61s 2s/step - loss: 3.0373 - accuracy: 0.1017 - val_loss: 3.0007 - val_accuracy: 0.1398\n",
            "Epoch 2/20\n",
            "26/26 [==============================] - 55s 2s/step - loss: 2.4226 - accuracy: 0.2531 - val_loss: 2.6733 - val_accuracy: 0.1832\n",
            "Epoch 3/20\n",
            "26/26 [==============================] - 57s 2s/step - loss: 1.7663 - accuracy: 0.4317 - val_loss: 2.0094 - val_accuracy: 0.5062\n",
            "Epoch 4/20\n",
            "26/26 [==============================] - 57s 2s/step - loss: 1.3441 - accuracy: 0.5722 - val_loss: 1.7070 - val_accuracy: 0.4255\n",
            "Epoch 5/20\n",
            "26/26 [==============================] - 55s 2s/step - loss: 1.0574 - accuracy: 0.6708 - val_loss: 1.7485 - val_accuracy: 0.4068\n",
            "Epoch 6/20\n",
            "26/26 [==============================] - 64s 2s/step - loss: 0.9286 - accuracy: 0.6949 - val_loss: 1.1257 - val_accuracy: 0.7019\n",
            "Epoch 7/20\n",
            "26/26 [==============================] - 60s 2s/step - loss: 0.7823 - accuracy: 0.7469 - val_loss: 0.8876 - val_accuracy: 0.7267\n",
            "Epoch 8/20\n",
            "26/26 [==============================] - 55s 2s/step - loss: 0.6664 - accuracy: 0.7896 - val_loss: 0.8435 - val_accuracy: 0.7298\n",
            "Epoch 9/20\n",
            "26/26 [==============================] - 57s 2s/step - loss: 0.5793 - accuracy: 0.8183 - val_loss: 0.6896 - val_accuracy: 0.7547\n",
            "Epoch 10/20\n",
            "26/26 [==============================] - 60s 2s/step - loss: 0.5367 - accuracy: 0.8269 - val_loss: 0.5510 - val_accuracy: 0.8323\n",
            "Epoch 11/20\n",
            "26/26 [==============================] - 61s 2s/step - loss: 0.5347 - accuracy: 0.8269 - val_loss: 0.6120 - val_accuracy: 0.7795\n",
            "Epoch 12/20\n",
            "26/26 [==============================] - 55s 2s/step - loss: 0.4526 - accuracy: 0.8672 - val_loss: 0.4092 - val_accuracy: 0.8602\n",
            "Epoch 13/20\n",
            "26/26 [==============================] - 58s 2s/step - loss: 0.3893 - accuracy: 0.8820 - val_loss: 0.2076 - val_accuracy: 0.9472\n",
            "Epoch 14/20\n",
            "26/26 [==============================] - 58s 2s/step - loss: 0.3559 - accuracy: 0.8859 - val_loss: 0.2555 - val_accuracy: 0.9099\n",
            "Epoch 15/20\n",
            "26/26 [==============================] - 58s 2s/step - loss: 0.3361 - accuracy: 0.8905 - val_loss: 0.2498 - val_accuracy: 0.9068\n",
            "Epoch 16/20\n",
            "26/26 [==============================] - 64s 2s/step - loss: 0.3226 - accuracy: 0.8859 - val_loss: 0.4390 - val_accuracy: 0.8851\n",
            "Epoch 17/20\n",
            "26/26 [==============================] - 58s 2s/step - loss: 0.3439 - accuracy: 0.8851 - val_loss: 0.3300 - val_accuracy: 0.9006\n",
            "Epoch 18/20\n",
            "26/26 [==============================] - 58s 2s/step - loss: 0.3044 - accuracy: 0.8983 - val_loss: 0.1265 - val_accuracy: 0.9503\n",
            "Epoch 19/20\n",
            "26/26 [==============================] - 57s 2s/step - loss: 0.2630 - accuracy: 0.9169 - val_loss: 0.7095 - val_accuracy: 0.8168\n",
            "Epoch 20/20\n",
            "26/26 [==============================] - 58s 2s/step - loss: 0.2277 - accuracy: 0.9255 - val_loss: 0.4468 - val_accuracy: 0.9037\n"
          ]
        }
      ],
      "source": [
        "myCNN.compile(optimizer=tf.keras.optimizers.Adam(learning_rate=0.001),\n",
        "              loss='sparse_categorical_crossentropy',\n",
        "              metrics=['accuracy'])\n",
        "\n",
        "history = myCNN.fit(train_generator,\n",
        "                    epochs=20,\n",
        "                    verbose=1,\n",
        "                    validation_data=validation_generator)"
      ]
    },
    {
      "cell_type": "code",
      "execution_count": 24,
      "metadata": {
        "colab": {
          "base_uri": "https://localhost:8080/",
          "height": 887
        },
        "id": "LXjemiYCRz74",
        "outputId": "0cdd8ef9-225d-4ee9-d808-0483d58d96d3"
      },
      "outputs": [
        {
          "output_type": "display_data",
          "data": {
            "text/plain": [
              "<Figure size 640x480 with 1 Axes>"
            ],
            "image/png": "[encoded data removed]"
          },
          "metadata": {}
        },
        {
          "output_type": "display_data",
          "data": {
            "text/plain": [
              "<Figure size 640x480 with 1 Axes>"
            ],
            "image/png": "[encoded data removed]"
          },
          "metadata": {}
        }
      ],
      "source": [
        "acc = history.history['accuracy']\n",
        "val_acc = history.history['val_accuracy']\n",
        "loss = history.history['loss']\n",
        "val_loss = history.history['val_loss']\n",
        "\n",
        "epochs = range(len(acc))\n",
        "\n",
        "plt.plot(epochs, acc, 'r', label='Training accuracy')\n",
        "plt.plot(epochs, val_acc, 'b', label='Validation accuracy')\n",
        "plt.title('Training and validation accuracy')\n",
        "plt.legend()\n",
        "plt.figure()\n",
        "\n",
        "plt.plot(epochs, loss, 'r', label='Training Loss')\n",
        "plt.plot(epochs, val_loss, 'b', label='Validation Loss')\n",
        "plt.title('Training and validation loss')\n",
        "plt.legend()\n",
        "\n",
        "plt.show()"
      ]
    },
    {
      "cell_type": "markdown",
      "metadata": {
        "id": "du-lPwUOgu-k"
      },
      "source": [
        "## Model Testing"
      ]
    },
    {
      "cell_type": "code",
      "execution_count": null,
      "metadata": {
        "id": "Uc4IgFu9_YrU"
      },
      "outputs": [],
      "source": [
        "from google.colab import drive\n",
        "drive.mount('/content/drive')"
      ]
    },
    {
      "cell_type": "code",
      "execution_count": null,
      "metadata": {
        "id": "JKXH2ErsR6mI"
      },
      "outputs": [],
      "source": [
        "# Load the image\n",
        "new_image = plt.imread('/content/drive/MyDrive/Colab Notebooks/CNN-Capstone-Dataset/nu.jpg')\n",
        "\n",
        "# Ensure the image has the correct number of channels (e.g., 3 for RGB)\n",
        "if new_image.shape[-1] != 3:\n",
        "    new_image = tf.image.grayscale_to_rgb(new_image)\n",
        "\n",
        "# Resize the image to the input shape required by your model\n",
        "input_shape = (input_height, input_width)  # Replace with your model's input shape\n",
        "new_image = tf.image.resize(new_image, input_shape)\n",
        "\n",
        "# Normalize the image (if your model was trained on normalized images, e.g., values in range [0, 1])\n",
        "new_image = new_image / 255.0\n",
        "\n",
        "# Add a batch dimension\n",
        "new_image = np.expand_dims(new_image, axis=0)\n",
        "\n",
        "# Make predictions\n",
        "predictions = myCNN.predict(new_image)\n",
        "\n",
        "# Print the predictions\n",
        "print(\"Predictions:\", predictions)\n",
        "\n",
        "# Print the predicted label\n",
        "predicted_label = np.argmax(predictions, axis=1)\n",
        "print(\"Predicted label:\", predicted_label)\n",
        "\n",
        "print(list(train_generator.class_indices)[np.argmax(predictions)])"
      ]
    },
    {
      "cell_type": "markdown",
      "metadata": {
        "id": "CkERJ2xlMFVD"
      },
      "source": [
        "## Model Export"
      ]
    },
    {
      "cell_type": "code",
      "source": [
        "myCNN.save(\"model.h5\")"
      ],
      "metadata": {
        "colab": {
          "base_uri": "https://localhost:8080/"
        },
        "id": "9E7Z916mUlfT",
        "outputId": "f54136e9-6240-4019-ccc4-63c891e83956"
      },
      "execution_count": 25,
      "outputs": [
        {
          "output_type": "stream",
          "name": "stderr",
          "text": [
            "/usr/local/lib/python3.10/dist-packages/keras/src/engine/training.py:3103: UserWarning: You are saving your model as an HDF5 file via `model.save()`. This file format is considered legacy. We recommend using instead the native Keras format, e.g. `model.save('my_model.keras')`.\n",
            "  saving_api.save_model(\n"
          ]
        }
      ]
    },
    {
      "cell_type": "code",
      "execution_count": null,
      "metadata": {
        "id": "0e5vvQatMRoR"
      },
      "outputs": [],
      "source": [
        "export_dir = 'saved_model/1'\n",
        "# myCNN.save(export_dir)\n",
        "tf.saved_model.save(myCNN, export_dir)"
      ]
    },
    {
      "cell_type": "code",
      "execution_count": null,
      "metadata": {
        "id": "VSaY3DD0Q0_p"
      },
      "outputs": [],
      "source": [
        "drink_recog = '/content/Model.h5'\n",
        "\n",
        "myCNN.save(drink_recog, save_format=\"h5\")"
      ]
    },
    {
      "cell_type": "code",
      "execution_count": null,
      "metadata": {
        "id": "TKUO9PRVMHaR"
      },
      "outputs": [],
      "source": [
        "converter = tf.lite.TFLiteConverter.from_saved_model(export_dir)\n",
        "converter.target_spec.supported_ops = [\n",
        "    tf.lite.OpsSet.TFLITE_BUILTINS,  # TFLite built-in ops\n",
        "    tf.lite.OpsSet.SELECT_TF_OPS     # Enable TensorFlow ops\n",
        "]\n",
        "tflite_model = converter.convert()"
      ]
    },
    {
      "cell_type": "code",
      "execution_count": null,
      "metadata": {
        "id": "p36cai8IMm9x"
      },
      "outputs": [],
      "source": [
        "import pathlib\n",
        "\n",
        "tflite_model_file = pathlib.Path('/content/model.tflite')\n",
        "tflite_model_file.write_bytes(tflite_model)\n",
        "\n",
        "print(f\"TFLite model saved at: {tflite_model_file}\")"
      ]
    }
  ],
  "metadata": {
    "colab": {
      "collapsed_sections": [
        "qCdd0faeDiIc",
        "jxmE8lvKQnD_",
        "dVoOPiIPPr03",
        "PHsiUXctPv1w",
        "97cZGcBzgqcU"
      ],
      "gpuType": "T4",
      "provenance": []
    },
    "kernelspec": {
      "display_name": "Python 3",
      "name": "python3"
    },
    "language_info": {
      "name": "python"
    }
  },
  "nbformat": 4,
  "nbformat_minor": 0
}