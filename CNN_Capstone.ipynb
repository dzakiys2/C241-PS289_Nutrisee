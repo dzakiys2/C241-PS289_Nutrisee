{
  "cells": [
    {
      "cell_type": "code",
      "execution_count": 1,
      "metadata": {
        "colab": {
          "base_uri": "https://localhost:8080/"
        },
        "id": "iivcQtXmxY8F",
        "outputId": "bc2935d8-baf9-4aa5-c0ac-8e0d76eab358"
      },
      "outputs": [
        {
          "output_type": "stream",
          "name": "stdout",
          "text": [
            "Colab only includes TensorFlow 2.x; %tensorflow_version has no effect.\n"
          ]
        }
      ],
      "source": [
        "try:\n",
        "    # %tensorflow_version only exists in Colab.\n",
        "    %tensorflow_version 2.x\n",
        "except Exception:\n",
        "    pass\n",
        "\n",
        "import tensorflow as tf\n",
        "from tensorflow.keras.layers import Dense\n",
        "from tensorflow.keras import Model\n",
        "from tensorflow.keras.layers import concatenate\n",
        "from tensorflow.keras.layers import Input\n",
        "from tensorflow.keras.utils import plot_model\n",
        "from tensorflow.keras.preprocessing.image import ImageDataGenerator\n",
        "\n",
        "import os\n",
        "import zipfile\n",
        "import random\n",
        "import shutil\n",
        "from shutil import copyfile\n",
        "import matplotlib.pyplot as plt\n",
        "import string\n",
        "import numpy as np"
      ]
    },
    {
      "cell_type": "markdown",
      "metadata": {
        "id": "2jDwClB9gn_E"
      },
      "source": [
        "# Data Preparation"
      ]
    },
    {
      "cell_type": "markdown",
      "metadata": {
        "id": "0ObCXKlhNgBc"
      },
      "source": [
        "Hyper parameters"
      ]
    },
    {
      "cell_type": "code",
      "execution_count": 2,
      "metadata": {
        "id": "hXN5G3RFNfnb"
      },
      "outputs": [],
      "source": [
        "# Define root directory\n",
        "root_dir = '/tmp/tea'\n",
        "\n",
        "# Define paths\n",
        "SOURCE_DIR = \"/tmp/dataset/\"\n",
        "TRAINING_DIR = \"/tmp/tea/training/\"\n",
        "VALIDATION_DIR = \"/tmp/tea/validation/\"\n",
        "\n",
        "# Define proportion of images used for training\n",
        "split_size = .8\n",
        "\n",
        "# Define input shape details\n",
        "input_height = 224\n",
        "input_width = 224\n",
        "num_channels = 3"
      ]
    },
    {
      "cell_type": "markdown",
      "metadata": {
        "id": "TEMqrCaOhl-z"
      },
      "source": [
        "## Import data from Google Drive"
      ]
    },
    {
      "cell_type": "markdown",
      "source": [
        "### Import from Downloadable Drive"
      ],
      "metadata": {
        "id": "qCdd0faeDiIc"
      }
    },
    {
      "cell_type": "code",
      "source": [
        "# import online"
      ],
      "metadata": {
        "id": "m092edx2Dgqd"
      },
      "execution_count": null,
      "outputs": []
    },
    {
      "cell_type": "markdown",
      "source": [
        "### Import from Local Google Drive"
      ],
      "metadata": {
        "id": "LPWTqyF-DlpX"
      }
    },
    {
      "cell_type": "code",
      "execution_count": 3,
      "metadata": {
        "colab": {
          "base_uri": "https://localhost:8080/"
        },
        "id": "JHS110ojgCzU",
        "outputId": "6a6f546d-e098-4eb8-df29-0cb3e8ccf618"
      },
      "outputs": [
        {
          "output_type": "stream",
          "name": "stdout",
          "text": [
            "Mounted at /content/drive\n"
          ]
        }
      ],
      "source": [
        "# read csv data file\n",
        "from google.colab import drive\n",
        "drive.mount('/content/drive')"
      ]
    },
    {
      "cell_type": "code",
      "execution_count": 4,
      "metadata": {
        "id": "ag8N_WCgg8yv"
      },
      "outputs": [],
      "source": [
        "path = \"/content/drive/MyDrive/Colab Notebooks/CNN-Capstone-Dataset/dataset.zip\"\n",
        "zip_ref   = zipfile.ZipFile(path, 'r')\n",
        "zip_ref.extractall('/tmp/dataset')\n",
        "zip_ref.close()"
      ]
    },
    {
      "cell_type": "code",
      "execution_count": 5,
      "metadata": {
        "colab": {
          "base_uri": "https://localhost:8080/"
        },
        "id": "z3Iq45X-hESK",
        "outputId": "44f00ca3-12a2-486e-e81f-6a8b8cf41183"
      },
      "outputs": [
        {
          "output_type": "stream",
          "name": "stdout",
          "text": [
            "['nu_tea', 'teh_kotak_lemon', 'fruit_tea_strawberry', 'fres_tea', 'teh_botol_kotak', 'teh_kotak_ori', 'teh_botol_botol', 'teh_pucuk']\n"
          ]
        }
      ],
      "source": [
        "# show all exported label\n",
        "print(os.listdir('/tmp/dataset'))"
      ]
    },
    {
      "cell_type": "code",
      "execution_count": 13,
      "metadata": {
        "id": "MFCiksVXJXIF"
      },
      "outputs": [],
      "source": [
        "shutil.rmtree('/tmp')"
      ]
    },
    {
      "cell_type": "markdown",
      "metadata": {
        "id": "E4ddeZ68hX1L"
      },
      "source": [
        "## Directory Creation"
      ]
    },
    {
      "cell_type": "code",
      "execution_count": 6,
      "metadata": {
        "id": "EyhirXoVhI7T"
      },
      "outputs": [],
      "source": [
        "# Empty directory to prevent FileExistsError is the function is run several times\n",
        "if os.path.exists(root_dir):\n",
        "  shutil.rmtree(root_dir)\n",
        "\n",
        "def create_train_val_dirs(root_path, classes):\n",
        "    train_dir = os.path.join(root_path, 'training')\n",
        "    val_dir = os.path.join(root_path, 'validation')\n",
        "\n",
        "    # Make directories for each class in training and validation sets\n",
        "    for class_name in classes:\n",
        "        train_class_dir = os.path.join(train_dir, class_name)\n",
        "        val_class_dir = os.path.join(val_dir, class_name)\n",
        "\n",
        "        os.makedirs(train_class_dir)\n",
        "        os.makedirs(val_class_dir)\n",
        "\n",
        "try:\n",
        "    classes = os.listdir('/tmp/dataset')\n",
        "    create_train_val_dirs(root_path=root_dir, classes=classes)\n",
        "except FileExistsError:\n",
        "  print(\"You should not be seeing this since the upper directory is removed beforehand\")"
      ]
    },
    {
      "cell_type": "code",
      "execution_count": 7,
      "metadata": {
        "colab": {
          "base_uri": "https://localhost:8080/"
        },
        "id": "1t2f_JFIhU7k",
        "outputId": "e9e8c390-614e-45b5-ba79-299a16b17117"
      },
      "outputs": [
        {
          "output_type": "stream",
          "name": "stdout",
          "text": [
            "/tmp/tea/training\n",
            "/tmp/tea/validation\n",
            "/tmp/tea/training/nu_tea\n",
            "/tmp/tea/training/teh_kotak_lemon\n",
            "/tmp/tea/training/fruit_tea_strawberry\n",
            "/tmp/tea/training/fres_tea\n",
            "/tmp/tea/training/teh_botol_kotak\n",
            "/tmp/tea/training/teh_kotak_ori\n",
            "/tmp/tea/training/teh_botol_botol\n",
            "/tmp/tea/training/teh_pucuk\n",
            "/tmp/tea/validation/nu_tea\n",
            "/tmp/tea/validation/teh_kotak_lemon\n",
            "/tmp/tea/validation/fruit_tea_strawberry\n",
            "/tmp/tea/validation/fres_tea\n",
            "/tmp/tea/validation/teh_botol_kotak\n",
            "/tmp/tea/validation/teh_kotak_ori\n",
            "/tmp/tea/validation/teh_botol_botol\n",
            "/tmp/tea/validation/teh_pucuk\n"
          ]
        }
      ],
      "source": [
        "for rootdir, dirs, files in os.walk(root_dir):\n",
        "    for subdir in dirs:\n",
        "        print(os.path.join(rootdir, subdir))"
      ]
    },
    {
      "cell_type": "markdown",
      "metadata": {
        "id": "UmKQpqzCDDTj"
      },
      "source": [
        "## Data Splitting"
      ]
    },
    {
      "cell_type": "code",
      "execution_count": 8,
      "metadata": {
        "id": "XfntDA9ehXQL"
      },
      "outputs": [],
      "source": [
        "def split_data(SOURCE_DIR, TRAINING_DIR, VALIDATION_DIR, SPLIT_SIZE):\n",
        "  # List all files in the source directory\n",
        "  files = os.listdir(SOURCE_DIR)\n",
        "\n",
        "  # Print messages about zero-length images\n",
        "  for file in files:\n",
        "    if os.path.getsize(os.path.join(SOURCE_DIR, file)) == 0:\n",
        "      print(f\"{file} is zero length, so ignoring.\")\n",
        "\n",
        "  # Remove zero-sized images\n",
        "  files = [file for file in files if os.path.getsize(os.path.join(SOURCE_DIR, file)) > 0]\n",
        "\n",
        "  # Calculate the split size\n",
        "  split_count = len(files) - int(len(files) * SPLIT_SIZE)\n",
        "  split_index = len(files)//split_count\n",
        "\n",
        "  # Split the files into training and validation sets\n",
        "  training_files = []\n",
        "  validation_files = []\n",
        "\n",
        "  for i in range(len(files)):\n",
        "    if (i%split_index) == 0:\n",
        "      validation_files.append(files[i])\n",
        "    else:\n",
        "      training_files.append(files[i])\n",
        "\n",
        "  # training_files = files[split_count:]\n",
        "  # validation_files = files[:split_count]\n",
        "\n",
        "  # Copy training files to the training directory\n",
        "  for file in training_files:\n",
        "    source_file = os.path.join(SOURCE_DIR, file)\n",
        "    destination_file = os.path.join(TRAINING_DIR, file)\n",
        "    shutil.copyfile(source_file, destination_file)\n",
        "\n",
        "  # Copy validation files to the validation directory\n",
        "  for file in validation_files:\n",
        "    source_file = os.path.join(SOURCE_DIR, file)\n",
        "    destination_file = os.path.join(VALIDATION_DIR, file)\n",
        "    shutil.copyfile(source_file, destination_file)"
      ]
    },
    {
      "cell_type": "code",
      "execution_count": 9,
      "metadata": {
        "id": "8huuy7uZGEg0"
      },
      "outputs": [],
      "source": [
        "# Make directories for each class in training and validation sets\n",
        "classes_native = os.listdir(SOURCE_DIR)\n",
        "\n",
        "for class_name in classes_native:\n",
        "    TRAINING_CLASS_DIR = os.path.join(TRAINING_DIR, class_name)\n",
        "    VALIDATION_CLASS_DIR = os.path.join(VALIDATION_DIR, class_name)\n",
        "\n",
        "    # Empty directories in case you run this cell multiple times\n",
        "    if len(os.listdir(TRAINING_CLASS_DIR)) > 0:\n",
        "      for file in os.scandir(TRAINING_CLASS_DIR):\n",
        "        os.remove(file.path)\n",
        "    if len(os.listdir(VALIDATION_CLASS_DIR)) > 0:\n",
        "      for file in os.scandir(VALIDATION_CLASS_DIR):\n",
        "        os.remove(file.path)\n",
        "\n",
        "# Run the function\n",
        "# NOTE: Messages about zero length images should be printed out\n",
        "for i in range(len(classes_native)):\n",
        "    TRAINING_CLASS_DIR = os.path.join(TRAINING_DIR, classes[i])\n",
        "    VALIDATION_CLASS_DIR = os.path.join(VALIDATION_DIR, classes[i])\n",
        "\n",
        "    SOURCE_CLASS_DIR = os.path.join(SOURCE_DIR, classes_native[i])\n",
        "    split_data(SOURCE_CLASS_DIR,\n",
        "               TRAINING_CLASS_DIR,\n",
        "               VALIDATION_CLASS_DIR,\n",
        "               split_size)"
      ]
    },
    {
      "cell_type": "code",
      "execution_count": 10,
      "metadata": {
        "colab": {
          "base_uri": "https://localhost:8080/"
        },
        "id": "lHGC8zYINDhV",
        "outputId": "2c934505-c4f8-4cf6-ae64-2607c64f75a9"
      },
      "outputs": [
        {
          "output_type": "stream",
          "name": "stdout",
          "text": [
            "Original nu_tea's directory has 76 images\n",
            "There are 57 images of nu_tea for training\n",
            "There are 19 images of nu_tea for validation\n",
            "\n",
            "\n",
            "Original teh_kotak_lemon's directory has 76 images\n",
            "There are 57 images of teh_kotak_lemon for training\n",
            "There are 19 images of teh_kotak_lemon for validation\n",
            "\n",
            "\n",
            "Original fruit_tea_strawberry's directory has 75 images\n",
            "There are 60 images of fruit_tea_strawberry for training\n",
            "There are 15 images of fruit_tea_strawberry for validation\n",
            "\n",
            "\n",
            "Original fres_tea's directory has 76 images\n",
            "There are 57 images of fres_tea for training\n",
            "There are 19 images of fres_tea for validation\n",
            "\n",
            "\n",
            "Original teh_botol_kotak's directory has 75 images\n",
            "There are 60 images of teh_botol_kotak for training\n",
            "There are 15 images of teh_botol_kotak for validation\n",
            "\n",
            "\n",
            "Original teh_kotak_ori's directory has 76 images\n",
            "There are 57 images of teh_kotak_ori for training\n",
            "There are 19 images of teh_kotak_ori for validation\n",
            "\n",
            "\n",
            "Original teh_botol_botol's directory has 76 images\n",
            "There are 57 images of teh_botol_botol for training\n",
            "There are 19 images of teh_botol_botol for validation\n",
            "\n",
            "\n",
            "Original teh_pucuk's directory has 76 images\n",
            "There are 57 images of teh_pucuk for training\n",
            "There are 19 images of teh_pucuk for validation\n",
            "\n",
            "\n"
          ]
        }
      ],
      "source": [
        "# Your function should perform copies rather than moving images so original directories should contain unchanged images\n",
        "for i in range(len(classes_native)):\n",
        "    TRAINING_CLASS_DIR = os.path.join(TRAINING_DIR, classes[i])\n",
        "    VALIDATION_CLASS_DIR = os.path.join(VALIDATION_DIR, classes[i])\n",
        "    SOURCE_CLASS_DIR = os.path.join(SOURCE_DIR, classes_native[i])\n",
        "\n",
        "    print(f\"Original {classes[i]}'s directory has {len(os.listdir(SOURCE_CLASS_DIR))} images\")\n",
        "\n",
        "    # Training and validation splits. Check that the number of images matches the expected output.\n",
        "    print(f\"There are {len(os.listdir(TRAINING_CLASS_DIR))} images of {classes[i]} for training\")\n",
        "    print(f\"There are {len(os.listdir(VALIDATION_CLASS_DIR))} images of {classes[i]} for validation\")\n",
        "\n",
        "    print(f\"\\n\")"
      ]
    },
    {
      "cell_type": "markdown",
      "metadata": {
        "id": "Pl5WxTZvQsPH"
      },
      "source": [
        "## Data Augmentation Handling"
      ]
    },
    {
      "cell_type": "markdown",
      "metadata": {
        "id": "zfYq-v7gNjpB"
      },
      "source": [
        "### with Image Augmentation"
      ]
    },
    {
      "cell_type": "code",
      "execution_count": 11,
      "metadata": {
        "id": "o5AaFI3dNlfS"
      },
      "outputs": [],
      "source": [
        "def train_val_generators(TRAINING_DIR, VALIDATION_DIR):\n",
        "\n",
        "  # Training datagen\n",
        "  train_datagen = ImageDataGenerator(rescale=(1./255),\n",
        "                                     rotation_range=30,\n",
        "                                     width_shift_range=0.2,\n",
        "                                     height_shift_range=0.2,\n",
        "                                     zoom_range=0.3,\n",
        "                                     brightness_range=[0.05, 0.3],\n",
        "                                     fill_mode='nearest')\n",
        "\n",
        "  # Training generator\n",
        "  train_generator = train_datagen.flow_from_directory(\n",
        "      directory=TRAINING_DIR,\n",
        "      batch_size=50,\n",
        "      class_mode='sparse',\n",
        "      target_size=(input_height, input_width))\n",
        "\n",
        "  # ==================================================\n",
        "\n",
        "  # Validation datagen\n",
        "  validation_datagen = ImageDataGenerator(rescale=(1./255))\n",
        "\n",
        "  # Validation generator\n",
        "  validation_generator = validation_datagen.flow_from_directory(\n",
        "      directory=VALIDATION_DIR,\n",
        "      batch_size=50,\n",
        "      class_mode='sparse',\n",
        "      target_size=(input_height, input_width))\n",
        "\n",
        "  return train_generator, validation_generator"
      ]
    },
    {
      "cell_type": "markdown",
      "metadata": {
        "id": "jxmE8lvKQnD_"
      },
      "source": [
        "### no Image Augmentation"
      ]
    },
    {
      "cell_type": "code",
      "execution_count": null,
      "metadata": {
        "id": "AW72p8hvQmjQ"
      },
      "outputs": [],
      "source": [
        "def train_val_generators(TRAINING_DIR, VALIDATION_DIR):\n",
        "\n",
        "  # Training datagen\n",
        "  train_datagen = ImageDataGenerator(rescale=(1./255))\n",
        "\n",
        "  # Training generator\n",
        "  train_generator = train_datagen.flow_from_directory(\n",
        "      directory=TRAINING_DIR,\n",
        "      batch_size=20,\n",
        "      class_mode='sparse',\n",
        "      target_size=(input_height, input_width))\n",
        "\n",
        "  # ==================================================\n",
        "\n",
        "  # Validation datagen\n",
        "  validation_datagen = ImageDataGenerator(rescale=(1./255))\n",
        "\n",
        "  # Validation generator\n",
        "  validation_generator = validation_datagen.flow_from_directory(\n",
        "      directory=VALIDATION_DIR,\n",
        "      batch_size=20,\n",
        "      class_mode='sparse',\n",
        "      target_size=(input_height, input_width))\n",
        "\n",
        "  return train_generator, validation_generator"
      ]
    },
    {
      "cell_type": "markdown",
      "metadata": {
        "id": "V19z0azNwjxR"
      },
      "source": [
        "### rest of the code..."
      ]
    },
    {
      "cell_type": "code",
      "execution_count": 12,
      "metadata": {
        "colab": {
          "base_uri": "https://localhost:8080/"
        },
        "id": "TxitsB8ZNofL",
        "outputId": "4b5abc28-b1bc-46ef-f98a-be39f010243a"
      },
      "outputs": [
        {
          "output_type": "stream",
          "name": "stdout",
          "text": [
            "Found 462 images belonging to 8 classes.\n",
            "Found 144 images belonging to 8 classes.\n"
          ]
        }
      ],
      "source": [
        "# Test your generators\n",
        "train_generator, validation_generator = train_val_generators(TRAINING_DIR, VALIDATION_DIR)"
      ]
    },
    {
      "cell_type": "code",
      "execution_count": 13,
      "metadata": {
        "colab": {
          "base_uri": "https://localhost:8080/"
        },
        "id": "vOb8KW7ZuMQn",
        "outputId": "7c95fa87-e051-4247-9894-1ed69bd6f745"
      },
      "outputs": [
        {
          "output_type": "stream",
          "name": "stdout",
          "text": [
            "(50, 224, 224, 3)\n",
            "(50,)\n"
          ]
        }
      ],
      "source": [
        "x_batch_train, y_batch_train = next(train_generator)\n",
        "print(x_batch_train.shape)  # Should be (batch_size, height, width, channels)\n",
        "print(y_batch_train.shape)  # Should be (batch_size, num_classes)"
      ]
    },
    {
      "cell_type": "code",
      "execution_count": 14,
      "metadata": {
        "colab": {
          "base_uri": "https://localhost:8080/"
        },
        "id": "2OxeKtPtuRhA",
        "outputId": "a78fcce1-c0fb-4d55-cfd9-2e54d2ccd3e3"
      },
      "outputs": [
        {
          "output_type": "stream",
          "name": "stdout",
          "text": [
            "(50, 224, 224, 3)\n",
            "(50,)\n"
          ]
        }
      ],
      "source": [
        "x_batch_val, y_batch_val = next(validation_generator)\n",
        "print(x_batch_val.shape)  # Should be (batch_size, height, width, channels)\n",
        "print(y_batch_val.shape)  # Should be (batch_size, num_classes)"
      ]
    },
    {
      "cell_type": "code",
      "execution_count": 15,
      "metadata": {
        "colab": {
          "base_uri": "https://localhost:8080/"
        },
        "id": "RwSr1qdZ_Did",
        "outputId": "ee5036ff-4b24-4d92-a1a3-b7be0268cbbc"
      },
      "outputs": [
        {
          "output_type": "stream",
          "name": "stdout",
          "text": [
            "Class indices: {'fres_tea': 0, 'fruit_tea_strawberry': 1, 'nu_tea': 2, 'teh_botol_botol': 3, 'teh_botol_kotak': 4, 'teh_kotak_lemon': 5, 'teh_kotak_ori': 6, 'teh_pucuk': 7}\n",
            "Classes: [0 0 0 0 0 0 0 0 0 0 0 0 0 0 0 0 0 0 0 0 0 0 0 0 0 0 0 0 0 0 0 0 0 0 0 0 0\n",
            " 0 0 0 0 0 0 0 0 0 0 0 0 0 0 0 0 0 0 0 0 1 1 1 1 1 1 1 1 1 1 1 1 1 1 1 1 1\n",
            " 1 1 1 1 1 1 1 1 1 1 1 1 1 1 1 1 1 1 1 1 1 1 1 1 1 1 1 1 1 1 1 1 1 1 1 1 1\n",
            " 1 1 1 1 1 1 2 2 2 2 2 2 2 2 2 2 2 2 2 2 2 2 2 2 2 2 2 2 2 2 2 2 2 2 2 2 2\n",
            " 2 2 2 2 2 2 2 2 2 2 2 2 2 2 2 2 2 2 2 2 2 2 2 2 2 2 3 3 3 3 3 3 3 3 3 3 3\n",
            " 3 3 3 3 3 3 3 3 3 3 3 3 3 3 3 3 3 3 3 3 3 3 3 3 3 3 3 3 3 3 3 3 3 3 3 3 3\n",
            " 3 3 3 3 3 3 3 3 3 4 4 4 4 4 4 4 4 4 4 4 4 4 4 4 4 4 4 4 4 4 4 4 4 4 4 4 4\n",
            " 4 4 4 4 4 4 4 4 4 4 4 4 4 4 4 4 4 4 4 4 4 4 4 4 4 4 4 4 4 4 4 4 5 5 5 5 5\n",
            " 5 5 5 5 5 5 5 5 5 5 5 5 5 5 5 5 5 5 5 5 5 5 5 5 5 5 5 5 5 5 5 5 5 5 5 5 5\n",
            " 5 5 5 5 5 5 5 5 5 5 5 5 5 5 5 6 6 6 6 6 6 6 6 6 6 6 6 6 6 6 6 6 6 6 6 6 6\n",
            " 6 6 6 6 6 6 6 6 6 6 6 6 6 6 6 6 6 6 6 6 6 6 6 6 6 6 6 6 6 6 6 6 6 6 6 7 7\n",
            " 7 7 7 7 7 7 7 7 7 7 7 7 7 7 7 7 7 7 7 7 7 7 7 7 7 7 7 7 7 7 7 7 7 7 7 7 7\n",
            " 7 7 7 7 7 7 7 7 7 7 7 7 7 7 7 7 7 7]\n",
            "Validation Class indices: {'fres_tea': 0, 'fruit_tea_strawberry': 1, 'nu_tea': 2, 'teh_botol_botol': 3, 'teh_botol_kotak': 4, 'teh_kotak_lemon': 5, 'teh_kotak_ori': 6, 'teh_pucuk': 7}\n",
            "Validation Classes: [0 0 0 0 0 0 0 0 0 0 0 0 0 0 0 0 0 0 0 1 1 1 1 1 1 1 1 1 1 1 1 1 1 1 2 2 2\n",
            " 2 2 2 2 2 2 2 2 2 2 2 2 2 2 2 2 3 3 3 3 3 3 3 3 3 3 3 3 3 3 3 3 3 3 3 4 4\n",
            " 4 4 4 4 4 4 4 4 4 4 4 4 4 5 5 5 5 5 5 5 5 5 5 5 5 5 5 5 5 5 5 5 6 6 6 6 6\n",
            " 6 6 6 6 6 6 6 6 6 6 6 6 6 6 7 7 7 7 7 7 7 7 7 7 7 7 7 7 7 7 7 7 7]\n"
          ]
        }
      ],
      "source": [
        "# Check the class indices to see the order of the labels\n",
        "print(\"Class indices:\", train_generator.class_indices)\n",
        "print(\"Classes:\", train_generator.classes)\n",
        "\n",
        "# Similarly for validation generator\n",
        "print(\"Validation Class indices:\", validation_generator.class_indices)\n",
        "print(\"Validation Classes:\", validation_generator.classes)"
      ]
    },
    {
      "cell_type": "markdown",
      "metadata": {
        "id": "T7LwrYtTgzTa"
      },
      "source": [
        "# Data Processing"
      ]
    },
    {
      "cell_type": "markdown",
      "metadata": {
        "id": "BA2YU31am2eV"
      },
      "source": [
        "## Model Creation"
      ]
    },
    {
      "cell_type": "code",
      "source": [
        "def convLayers(inputs):\n",
        "  x = tf.keras.layers.Conv2D(filters = 16,\n",
        "                             kernel_size = 3,\n",
        "                             activation='relu',\n",
        "                             strides = 2,\n",
        "                             padding='same')(inputs)\n",
        "  x = tf.keras.layers.Conv2D(filters = 16,\n",
        "                             kernel_size = 3,\n",
        "                             activation='relu',\n",
        "                             strides = 2,\n",
        "                             padding='same')(x)\n",
        "  x = tf.keras.layers.MaxPooling2D()(x)\n",
        "\n",
        "\n",
        "  x = tf.keras.layers.Conv2D(filters = 32,\n",
        "                             kernel_size = 3,\n",
        "                             activation='relu',\n",
        "                             strides = 2,\n",
        "                             padding='same')(x)\n",
        "  x = tf.keras.layers.Conv2D(filters = 32,\n",
        "                             kernel_size = 3,\n",
        "                             activation='relu',\n",
        "                             strides = 2,\n",
        "                             padding='same')(x)\n",
        "  x = tf.keras.layers.MaxPooling2D()(x)\n",
        "\n",
        "  return x"
      ],
      "metadata": {
        "id": "oPsYff6kXZlE"
      },
      "execution_count": 16,
      "outputs": []
    },
    {
      "cell_type": "code",
      "source": [
        "def basicModel(inputs, num_classes):\n",
        "  x_a = convLayers(inputs)\n",
        "  x_a = tf.keras.layers.Dropout(0.2)(x_a)\n",
        "  x_a = tf.keras.layers.Flatten()(x_a)\n",
        "  x_a = tf.keras.layers.BatchNormalization()(x_a)\n",
        "\n",
        "  x_b = convLayers(tf.image.rgb_to_grayscale(inputs))\n",
        "  x_b = tf.keras.layers.Dropout(0.2)(x_b)\n",
        "  x_b = tf.keras.layers.Flatten()(x_b)\n",
        "  x_b = tf.keras.layers.BatchNormalization()(x_b)\n",
        "\n",
        "  # x = tf.keras.layers.Flatten()(x)\n",
        "\n",
        "  # x = tf.keras.layers.BatchNormalization()(x)\n",
        "  x = tf.keras.layers.Concatenate()([x_a, x_b])\n",
        "  x = tf.keras.layers.Activation('relu')(x)\n",
        "\n",
        "  x = tf.keras.layers.Dense(128, activation='relu')(x)\n",
        "  x = tf.keras.layers.Dense(128, activation='relu')(x)\n",
        "  x = tf.keras.layers.Dense(num_classes, activation='softmax')(x)\n",
        "\n",
        "  return Model(inputs=inputs, outputs=x)"
      ],
      "metadata": {
        "id": "bVtbYUpAbv1C"
      },
      "execution_count": 17,
      "outputs": []
    },
    {
      "cell_type": "markdown",
      "source": [
        "#### Scratch (Mobile-Net and VGG)"
      ],
      "metadata": {
        "id": "dVoOPiIPPr03"
      }
    },
    {
      "cell_type": "code",
      "source": [
        "def vggBlock(inputs, filters, kernel_size, repetitions, pool_size=2, strides=2):\n",
        "  x = inputs\n",
        "  for i in range(repetitions):\n",
        "    x = tf.keras.layers.Conv2D(filters,\n",
        "                               kernel_size,\n",
        "                               activation='relu',\n",
        "                               padding='same')(x)\n",
        "\n",
        "  x = tf.keras.layers.MaxPooling2D(pool_size=pool_size,\n",
        "                                   strides=strides,\n",
        "                                   padding='same')(x)\n",
        "\n",
        "  x = tf.keras.layers.BatchNormalization()(x)\n",
        "\n",
        "  return x"
      ],
      "metadata": {
        "id": "KJSSp_ncOp9K"
      },
      "execution_count": null,
      "outputs": []
    },
    {
      "cell_type": "code",
      "execution_count": null,
      "metadata": {
        "id": "_55l5jwknVhM"
      },
      "outputs": [],
      "source": [
        "def mobileNetBlock(inputs, filters, strides):\n",
        "  # x = tf.keras.layers.DepthwiseConv2D(kernel_size = 3,\n",
        "  #                                     strides = strides,\n",
        "  #                                     padding = 'same')(inputs)\n",
        "  # x = tf.keras.layers.BatchNormalization()(x)\n",
        "  # x = tf.keras.layers.Activation('relu')(x)\n",
        "\n",
        "  x = tf.keras.layers.Conv2D(filters = filters,\n",
        "                            kernel_size = 3,\n",
        "                            strides = 1)(inputs)\n",
        "  x = tf.keras.layers.BatchNormalization()(x)\n",
        "  x = tf.keras.layers.Activation('relu')(x)\n",
        "\n",
        "  return x\n"
      ]
    },
    {
      "cell_type": "code",
      "source": [
        "def baseLayers(inputs):\n",
        "  x = tf.keras.layers.Conv2D(filters = 8, kernel_size = 3, strides = 2, padding = 'same')(inputs)\n",
        "  x = tf.keras.layers.BatchNormalization()(x)\n",
        "  x = tf.keras.layers.ReLU(max_value=6.0)(x)\n",
        "\n",
        "  x = mobileNetBlock(inputs, 16, 1)\n",
        "  x = mobileNetBlock(x, 32, 2)\n",
        "  x = x = mobileNetBlock(x, 32, 1)\n",
        "\n",
        "  return x"
      ],
      "metadata": {
        "id": "PfaVebtkPqM4"
      },
      "execution_count": null,
      "outputs": []
    },
    {
      "cell_type": "code",
      "execution_count": null,
      "metadata": {
        "id": "U_lF3aPwoyxc"
      },
      "outputs": [],
      "source": [
        "def mobileNet(inputs, num_classes):\n",
        "  x = baseLayers(tf.image.rgb_to_grayscale(inputs))\n",
        "\n",
        "  x = tf.keras.layers.GlobalAveragePooling2D()(x)\n",
        "\n",
        "  classification = tf.keras.layers.Dense(num_classes, activation='softmax')(x)\n",
        "\n",
        "  return Model(inputs=inputs, outputs=classification)"
      ]
    },
    {
      "cell_type": "markdown",
      "source": [
        "#### Transfer Learning (Mobile-Net)"
      ],
      "metadata": {
        "id": "PHsiUXctPv1w"
      }
    },
    {
      "cell_type": "code",
      "source": [
        "# Load the pre-trained MobileNet model with the top layers excluded\n",
        "base_model = tf.keras.applications.MobileNetV2(\n",
        "    input_shape=(input_height, input_width, num_channels),  # Specify input shape\n",
        "    alpha=1.0,\n",
        "    include_top=False,  # Exclude the top classification layer\n",
        "    weights=\"imagenet\",  # Load weights pre-trained on ImageNet\n",
        "    input_tensor=None,\n",
        "    pooling=None,  # Use the final conv layer as output\n",
        ")\n",
        "\n",
        "# Freeze the base model\n",
        "base_model.trainable = False\n",
        "\n",
        "# Create the model\n",
        "myCNN = tf.keras.Sequential()\n",
        "\n",
        "# Add the base model\n",
        "myCNN.add(base_model)\n",
        "\n",
        "# Add global average pooling layer\n",
        "myCNN.add(tf.keras.layers.GlobalAveragePooling2D())\n",
        "\n",
        "# Add a dropout layer for regularization\n",
        "myCNN.add(tf.keras.layers.Dropout(0.5))\n",
        "\n",
        "# Add a dense layer with 8 units for the 8 classes\n",
        "myCNN.add(tf.keras.layers.Dense(8, activation='softmax'))\n"
      ],
      "metadata": {
        "id": "TkjbP6lABfZk"
      },
      "execution_count": null,
      "outputs": []
    },
    {
      "cell_type": "markdown",
      "metadata": {
        "id": "97cZGcBzgqcU"
      },
      "source": [
        "## Model Creation (sayang dibuang)"
      ]
    },
    {
      "cell_type": "code",
      "execution_count": null,
      "metadata": {
        "id": "1VH41CO4p8DO"
      },
      "outputs": [],
      "source": [
        "class Conv2DLayers(tf.keras.Model):\n",
        "  def __init__(self, filters, kernel_size, repetitions):\n",
        "    super(Conv2DLayers, self).__init__()\n",
        "    self.filters = filters\n",
        "    self.kernel_size = kernel_size\n",
        "    self.repetitions = repetitions\n",
        "\n",
        "    self.sequential = tf.keras.Sequential()\n",
        "    for i in range(repetitions):\n",
        "      self.sequential.add(\n",
        "          tf.keras.layers.Conv2D(self.filters, self.kernel_size, padding='same', activation='relu'))\n",
        "\n",
        "  def call(self, inputs):\n",
        "    return self.sequential(inputs)"
      ]
    },
    {
      "cell_type": "code",
      "execution_count": null,
      "metadata": {
        "id": "dLP5vdHJp3Kn"
      },
      "outputs": [],
      "source": [
        "class Block(tf.keras.Model):\n",
        "  def __init__(self, filters, kernel_size, repetitions, pool_size=2, strides=2):\n",
        "    super(Block, self).__init__()\n",
        "    self.filters = filters\n",
        "    self.kernel_size = kernel_size\n",
        "    self.repetitions = repetitions\n",
        "\n",
        "    # define a stack of conv2D layers based on repetition\n",
        "    # self.conv2D_layers = Conv2DLayers(self.filters, self.kernel_size, self.repetitions)\n",
        "    for i in range(repetitions):\n",
        "      # Define a Conv2D layer, specifying filters, kernel_size, activation and padding.\n",
        "      vars(self)[f'conv2D_{i}'] = tf.keras.layers.Conv2D(self.filters,\n",
        "                                                          self.kernel_size,\n",
        "                                                          activation='relu',\n",
        "                                                          padding='same')\n",
        "\n",
        "\n",
        "    self.max_pool = tf.keras.layers.MaxPool2D(pool_size=pool_size,\n",
        "                                              strides=strides,\n",
        "                                              padding='same')\n",
        "\n",
        "  def call(self, inputs):\n",
        "    # access the conv2D\n",
        "    # x = self.conv2D_layers(inputs)\n",
        "\n",
        "    # access the class's conv2D_0 layer\n",
        "    conv2D_0 = vars(self)['conv2D_0']\n",
        "\n",
        "    # Connect the conv2D_0 layer to inputs\n",
        "    x = conv2D_0(inputs)\n",
        "\n",
        "    # for the remaining conv2D_i layers from 1 to `repetitions` they will be connected to the previous layer\n",
        "    for i in range(1, self.repetitions):\n",
        "      # access conv2D_i by formatting the integer `i`. (hint: check how these were saved using `vars()` earlier)\n",
        "      conv2D_i = vars(self)[f'conv2D_{i}']\n",
        "\n",
        "      # Use the conv2D_i and connect it to the previous layer\n",
        "      x = conv2D_i(x)\n",
        "\n",
        "    x = self.max_pool(x)\n",
        "\n",
        "    return x"
      ]
    },
    {
      "cell_type": "code",
      "execution_count": null,
      "metadata": {
        "id": "tmJZf3cPRyzA"
      },
      "outputs": [],
      "source": [
        "# VGG based CNN\n",
        "\n",
        "class RGBModel(tf.keras.Model):\n",
        "  def __init__(self, num_classes):\n",
        "    super(RGBModel, self).__init__()\n",
        "\n",
        "    # Creating blocks of VGG with the following\n",
        "    # (filters, kernel_size, repetitions) configurations\n",
        "    self.block_a = Block(64, 3, 2)\n",
        "    self.block_b = Block(128, 3, 2)\n",
        "    self.block_c = Block(256, 3, 3)\n",
        "    self.block_d = Block(512, 3, 3)\n",
        "    self.block_e = Block(512, 3, 3)\n",
        "\n",
        "    # Define a Flatten layer\n",
        "    self.flatten = tf.keras.layers.Flatten()\n",
        "    self.act = tf.keras.layers.Activation('relu')\n",
        "\n",
        "    # Create a Dense layer\n",
        "    self.dense_0 = tf.keras.layers.Dense(256, activation='relu')\n",
        "    self.dense_1 = tf.keras.layers.Dense(512, activation='relu')\n",
        "\n",
        "    # Finally add the softmax classifier using a Dense layer\n",
        "    self.classifier = tf.keras.layers.Dense(num_classes, activation='softmax')\n",
        "\n",
        "  def call(self, inputs):\n",
        "    x = self.block_a(inputs)\n",
        "    x = self.block_b(x)\n",
        "    x = self.block_c(x)\n",
        "    x = self.block_d(x)\n",
        "    x = self.block_e(x)\n",
        "\n",
        "    x = self.flatten(x)\n",
        "    x = self.act(x)\n",
        "\n",
        "    x = self.dense_0(x)\n",
        "    x = self.dense_1(x)\n",
        "\n",
        "    return self.classifier(x)"
      ]
    },
    {
      "cell_type": "code",
      "execution_count": null,
      "metadata": {
        "id": "JUdhF6F-V_-e"
      },
      "outputs": [],
      "source": [
        "class IdentityBlock(tf.keras.Model):\n",
        "    def __init__(self, filters, kernel_size, l2_reg=0.07):\n",
        "        super(IdentityBlock, self).__init__()\n",
        "\n",
        "        self.conv2D_0 = tf.keras.layers.Conv2D(filters, kernel_size, padding='same',\n",
        "                                               kernel_regularizer=tf.keras.regularizers.l2(l2_reg))\n",
        "        self.bn_0 = tf.keras.layers.BatchNormalization()\n",
        "\n",
        "        self.conv2D_1 = tf.keras.layers.Conv2D(filters, kernel_size, padding='same',\n",
        "                                               kernel_regularizer=tf.keras.regularizers.l2(l2_reg))\n",
        "        self.bn_1 = tf.keras.layers.BatchNormalization()\n",
        "\n",
        "        self.conv2D_2 = tf.keras.layers.Conv2D(filters, kernel_size, padding='same',\n",
        "                                               kernel_regularizer=tf.keras.regularizers.l2(l2_reg))\n",
        "\n",
        "        self.act = tf.keras.layers.Activation('relu')\n",
        "        self.add = tf.keras.layers.Add()\n",
        "\n",
        "    def call(self, inputs):\n",
        "        x = self.conv2D_0(inputs)\n",
        "        x = self.bn_0(x)\n",
        "        x = self.act(x)\n",
        "\n",
        "        x = self.conv2D_1(x)\n",
        "        x = self.bn_1(x)\n",
        "        x = self.act(x)\n",
        "\n",
        "        input_conv = self.conv2D_2(inputs)\n",
        "        x = self.add([x, input_conv])\n",
        "        x = self.act(x)\n",
        "\n",
        "        return x\n",
        "\n",
        "class BWModel(tf.keras.Model):\n",
        "    def __init__(self, num_classes, l2_reg=0.07):\n",
        "        super(BWModel, self).__init__()\n",
        "        self.conv2D = tf.keras.layers.Conv2D(64, 7, padding='same',\n",
        "                                             kernel_regularizer=tf.keras.regularizers.l2(l2_reg))\n",
        "        self.bn = tf.keras.layers.BatchNormalization()\n",
        "        self.act = tf.keras.layers.Activation('relu')\n",
        "        self.max_pool = tf.keras.layers.MaxPool2D((3, 3))\n",
        "\n",
        "        # Use the Identity blocks that you just defined\n",
        "        self.id_block_1 = IdentityBlock(64, 3, l2_reg)\n",
        "        self.id_block_2 = IdentityBlock(64, 3, l2_reg)\n",
        "\n",
        "        self.global_pool = tf.keras.layers.GlobalAveragePooling2D()\n",
        "        self.flatten = tf.keras.layers.Flatten()\n",
        "        self.drop = tf.keras.layers.Dropout(0.8)\n",
        "\n",
        "        self.dense_0 = tf.keras.layers.Dense(256, activation='relu')\n",
        "        self.classifier = tf.keras.layers.Dense(num_classes, activation='softmax')\n",
        "\n",
        "    def call(self, inputs):\n",
        "        x = self.conv2D(inputs)\n",
        "        x = self.bn(x)\n",
        "        x = self.act(x)\n",
        "        x = self.max_pool(x)\n",
        "\n",
        "        # Insert the identity blocks in the middle of the network\n",
        "        x = self.id_block_1(x)\n",
        "        x = self.drop(x)\n",
        "        x = self.id_block_2(x)\n",
        "        x = self.drop(x)\n",
        "\n",
        "        x = self.global_pool(x)\n",
        "        x = self.flatten(x)\n",
        "\n",
        "        x = self.dense_0(x)\n",
        "\n",
        "        return self.classifier(x)"
      ]
    },
    {
      "cell_type": "code",
      "execution_count": null,
      "metadata": {
        "id": "ZXa5itSqWCUe"
      },
      "outputs": [],
      "source": [
        "# Combination between VGG and ResNet-18\n",
        "\n",
        "class CNNPalingPerkasa(tf.keras.Model):\n",
        "  def __init__(self, num_classes):\n",
        "    super(CNNPalingPerkasa, self).__init__()\n",
        "    self.rgbModel_1 = RGBModel(num_classes)\n",
        "    # self.rgbModel_2 = RGBModel()\n",
        "    self.bwModel = BWModel(num_classes)\n",
        "\n",
        "    self.act = tf.keras.layers.Activation('relu')\n",
        "\n",
        "    # Create a Dense layer\n",
        "    self.dense_0 = tf.keras.layers.Dense(256, activation='relu')\n",
        "    self.dense_1 = tf.keras.layers.Dense(512, activation='relu')\n",
        "\n",
        "    # Finally add the softmax classifier using a Dense layer\n",
        "    self.classifier = tf.keras.layers.Dense(num_classes, activation='softmax')\n",
        "\n",
        "  def call(self, inputs):\n",
        "    # Pass each image data to the respective models\n",
        "    rgb_1 = self.rgbModel_1(inputs)\n",
        "    # rgb_2 = self.rgbModel_2(tf.image.rgb_to_grayscale(inputs))\n",
        "    bw = self.bwModel(tf.image.rgb_to_grayscale(inputs))\n",
        "\n",
        "    # Combine the outputs and perform further operations\n",
        "    # x_a = tf.concat([rgb_1, bw], axis=-1)\n",
        "    # x_a = self.act(x_a)\n",
        "\n",
        "    x = tf.concat([rgb_1, bw], axis=-1)\n",
        "    x = self.act(x)\n",
        "    # x = self.dense_0(rgb_1)\n",
        "    x = self.dense_1(x)\n",
        "    x = self.classifier(x)\n",
        "\n",
        "    return x"
      ]
    },
    {
      "cell_type": "markdown",
      "metadata": {
        "id": "96ok8O1Wgs6b"
      },
      "source": [
        "## Model Training"
      ]
    },
    {
      "cell_type": "code",
      "execution_count": 18,
      "metadata": {
        "id": "XMlD8VzsR8nn"
      },
      "outputs": [],
      "source": [
        "# myCNN = CNNPalingPerkasa(num_classes=len(classes_native))\n",
        "# myCNN = MobileNet(num_classes=len(classes_native))\n",
        "myCNN = basicModel(tf.keras.layers.Input(shape=(input_height, input_width, num_channels)),\n",
        "                  num_classes=len(classes_native))"
      ]
    },
    {
      "cell_type": "code",
      "execution_count": 19,
      "metadata": {
        "id": "9P--EQo-oa73"
      },
      "outputs": [],
      "source": [
        "myCNN.build(input_shape=(None, input_height, input_width, num_channels))"
      ]
    },
    {
      "cell_type": "code",
      "execution_count": 20,
      "metadata": {
        "colab": {
          "base_uri": "https://localhost:8080/"
        },
        "id": "3TJDlAjDOJkF",
        "outputId": "109710de-ff6d-457d-8f16-25f48452c572"
      },
      "outputs": [
        {
          "output_type": "stream",
          "name": "stdout",
          "text": [
            "Model: \"model\"\n",
            "__________________________________________________________________________________________________\n",
            " Layer (type)                Output Shape                 Param #   Connected to                  \n",
            "==================================================================================================\n",
            " input_1 (InputLayer)        [(None, 224, 224, 3)]        0         []                            \n",
            "                                                                                                  \n",
            " tf.image.rgb_to_grayscale   (None, 224, 224, 1)          0         ['input_1[0][0]']             \n",
            " (TFOpLambda)                                                                                     \n",
            "                                                                                                  \n",
            " conv2d (Conv2D)             (None, 112, 112, 16)         448       ['input_1[0][0]']             \n",
            "                                                                                                  \n",
            " conv2d_4 (Conv2D)           (None, 112, 112, 16)         160       ['tf.image.rgb_to_grayscale[0]\n",
            "                                                                    [0]']                         \n",
            "                                                                                                  \n",
            " conv2d_1 (Conv2D)           (None, 56, 56, 16)           2320      ['conv2d[0][0]']              \n",
            "                                                                                                  \n",
            " conv2d_5 (Conv2D)           (None, 56, 56, 16)           2320      ['conv2d_4[0][0]']            \n",
            "                                                                                                  \n",
            " max_pooling2d (MaxPooling2  (None, 28, 28, 16)           0         ['conv2d_1[0][0]']            \n",
            " D)                                                                                               \n",
            "                                                                                                  \n",
            " max_pooling2d_2 (MaxPoolin  (None, 28, 28, 16)           0         ['conv2d_5[0][0]']            \n",
            " g2D)                                                                                             \n",
            "                                                                                                  \n",
            " conv2d_2 (Conv2D)           (None, 14, 14, 32)           4640      ['max_pooling2d[0][0]']       \n",
            "                                                                                                  \n",
            " conv2d_6 (Conv2D)           (None, 14, 14, 32)           4640      ['max_pooling2d_2[0][0]']     \n",
            "                                                                                                  \n",
            " conv2d_3 (Conv2D)           (None, 7, 7, 32)             9248      ['conv2d_2[0][0]']            \n",
            "                                                                                                  \n",
            " conv2d_7 (Conv2D)           (None, 7, 7, 32)             9248      ['conv2d_6[0][0]']            \n",
            "                                                                                                  \n",
            " max_pooling2d_1 (MaxPoolin  (None, 3, 3, 32)             0         ['conv2d_3[0][0]']            \n",
            " g2D)                                                                                             \n",
            "                                                                                                  \n",
            " max_pooling2d_3 (MaxPoolin  (None, 3, 3, 32)             0         ['conv2d_7[0][0]']            \n",
            " g2D)                                                                                             \n",
            "                                                                                                  \n",
            " dropout (Dropout)           (None, 3, 3, 32)             0         ['max_pooling2d_1[0][0]']     \n",
            "                                                                                                  \n",
            " dropout_1 (Dropout)         (None, 3, 3, 32)             0         ['max_pooling2d_3[0][0]']     \n",
            "                                                                                                  \n",
            " flatten (Flatten)           (None, 288)                  0         ['dropout[0][0]']             \n",
            "                                                                                                  \n",
            " flatten_1 (Flatten)         (None, 288)                  0         ['dropout_1[0][0]']           \n",
            "                                                                                                  \n",
            " batch_normalization (Batch  (None, 288)                  1152      ['flatten[0][0]']             \n",
            " Normalization)                                                                                   \n",
            "                                                                                                  \n",
            " batch_normalization_1 (Bat  (None, 288)                  1152      ['flatten_1[0][0]']           \n",
            " chNormalization)                                                                                 \n",
            "                                                                                                  \n",
            " concatenate (Concatenate)   (None, 576)                  0         ['batch_normalization[0][0]', \n",
            "                                                                     'batch_normalization_1[0][0]'\n",
            "                                                                    ]                             \n",
            "                                                                                                  \n",
            " activation (Activation)     (None, 576)                  0         ['concatenate[0][0]']         \n",
            "                                                                                                  \n",
            " dense (Dense)               (None, 128)                  73856     ['activation[0][0]']          \n",
            "                                                                                                  \n",
            " dense_1 (Dense)             (None, 128)                  16512     ['dense[0][0]']               \n",
            "                                                                                                  \n",
            " dense_2 (Dense)             (None, 8)                    1032      ['dense_1[0][0]']             \n",
            "                                                                                                  \n",
            "==================================================================================================\n",
            "Total params: 126728 (495.03 KB)\n",
            "Trainable params: 125576 (490.53 KB)\n",
            "Non-trainable params: 1152 (4.50 KB)\n",
            "__________________________________________________________________________________________________\n"
          ]
        }
      ],
      "source": [
        "myCNN.summary()"
      ]
    },
    {
      "cell_type": "code",
      "execution_count": 21,
      "metadata": {
        "colab": {
          "base_uri": "https://localhost:8080/"
        },
        "id": "PAINb_aSp-FJ",
        "outputId": "53f6663e-79c7-4a30-cd11-410b23218ff7"
      },
      "outputs": [
        {
          "output_type": "stream",
          "name": "stdout",
          "text": [
            "Epoch 1/20\n",
            "10/10 [==============================] - 28s 2s/step - loss: 2.0629 - accuracy: 0.1558 - val_loss: 2.0484 - val_accuracy: 0.2431\n",
            "Epoch 2/20\n",
            "10/10 [==============================] - 21s 2s/step - loss: 1.8336 - accuracy: 0.2965 - val_loss: 1.8096 - val_accuracy: 0.3611\n",
            "Epoch 3/20\n",
            "10/10 [==============================] - 13s 1s/step - loss: 1.6393 - accuracy: 0.3485 - val_loss: 1.7348 - val_accuracy: 0.1806\n",
            "Epoch 4/20\n",
            "10/10 [==============================] - 13s 1s/step - loss: 1.4638 - accuracy: 0.4242 - val_loss: 1.5131 - val_accuracy: 0.3819\n",
            "Epoch 5/20\n",
            "10/10 [==============================] - 13s 1s/step - loss: 1.4020 - accuracy: 0.4134 - val_loss: 1.8385 - val_accuracy: 0.3264\n",
            "Epoch 6/20\n",
            "10/10 [==============================] - 13s 1s/step - loss: 1.2309 - accuracy: 0.5303 - val_loss: 1.5002 - val_accuracy: 0.4167\n",
            "Epoch 7/20\n",
            "10/10 [==============================] - 14s 1s/step - loss: 1.1044 - accuracy: 0.6320 - val_loss: 1.3048 - val_accuracy: 0.4861\n",
            "Epoch 8/20\n",
            "10/10 [==============================] - 14s 1s/step - loss: 0.8752 - accuracy: 0.7078 - val_loss: 1.2262 - val_accuracy: 0.4583\n",
            "Epoch 9/20\n",
            "10/10 [==============================] - 13s 1s/step - loss: 0.7627 - accuracy: 0.7532 - val_loss: 0.9446 - val_accuracy: 0.6250\n",
            "Epoch 10/20\n",
            "10/10 [==============================] - 13s 1s/step - loss: 0.6611 - accuracy: 0.7554 - val_loss: 1.1841 - val_accuracy: 0.4722\n",
            "Epoch 11/20\n",
            "10/10 [==============================] - 14s 1s/step - loss: 0.5649 - accuracy: 0.8203 - val_loss: 1.0266 - val_accuracy: 0.5694\n",
            "Epoch 12/20\n",
            "10/10 [==============================] - 15s 2s/step - loss: 0.5657 - accuracy: 0.8160 - val_loss: 1.0481 - val_accuracy: 0.5139\n",
            "Epoch 13/20\n",
            "10/10 [==============================] - 13s 1s/step - loss: 0.5074 - accuracy: 0.8312 - val_loss: 0.9271 - val_accuracy: 0.5764\n",
            "Epoch 14/20\n",
            "10/10 [==============================] - 13s 1s/step - loss: 0.4938 - accuracy: 0.8333 - val_loss: 0.9320 - val_accuracy: 0.6389\n",
            "Epoch 15/20\n",
            "10/10 [==============================] - 13s 1s/step - loss: 0.5135 - accuracy: 0.8074 - val_loss: 1.2892 - val_accuracy: 0.5069\n",
            "Epoch 16/20\n",
            "10/10 [==============================] - 13s 1s/step - loss: 0.4764 - accuracy: 0.8463 - val_loss: 0.6688 - val_accuracy: 0.7153\n",
            "Epoch 17/20\n",
            "10/10 [==============================] - 13s 1s/step - loss: 0.5138 - accuracy: 0.8160 - val_loss: 0.6362 - val_accuracy: 0.7847\n",
            "Epoch 18/20\n",
            "10/10 [==============================] - 13s 1s/step - loss: 0.4832 - accuracy: 0.8312 - val_loss: 0.7104 - val_accuracy: 0.6875\n",
            "Epoch 19/20\n",
            "10/10 [==============================] - 13s 1s/step - loss: 0.4120 - accuracy: 0.8701 - val_loss: 1.4613 - val_accuracy: 0.5417\n",
            "Epoch 20/20\n",
            "10/10 [==============================] - 14s 1s/step - loss: 0.3560 - accuracy: 0.8853 - val_loss: 0.5029 - val_accuracy: 0.7986\n"
          ]
        }
      ],
      "source": [
        "myCNN.compile(optimizer=tf.keras.optimizers.Adam(learning_rate=0.001),\n",
        "              loss='sparse_categorical_crossentropy',\n",
        "              metrics=['accuracy'])\n",
        "\n",
        "history = myCNN.fit(train_generator,\n",
        "                    epochs=20,\n",
        "                    verbose=1,\n",
        "                    validation_data=validation_generator)"
      ]
    },
    {
      "cell_type": "code",
      "execution_count": 22,
      "metadata": {
        "colab": {
          "base_uri": "https://localhost:8080/",
          "height": 887
        },
        "id": "LXjemiYCRz74",
        "outputId": "5733171b-b156-4c5d-f612-457f0aa309b6"
      },
      "outputs": [
        {
          "output_type": "display_data",
          "data": {
            "text/plain": [
              "<Figure size 640x480 with 1 Axes>"
            ],
            "image/png": "[encoded data removed]"
          },
          "metadata": {}
        },
        {
          "output_type": "display_data",
          "data": {
            "text/plain": [
              "<Figure size 640x480 with 1 Axes>"
            ],
            "image/png": "[encoded data removed]"
          },
          "metadata": {}
        }
      ],
      "source": [
        "acc = history.history['accuracy']\n",
        "val_acc = history.history['val_accuracy']\n",
        "loss = history.history['loss']\n",
        "val_loss = history.history['val_loss']\n",
        "\n",
        "epochs = range(len(acc))\n",
        "\n",
        "plt.plot(epochs, acc, 'r', label='Training accuracy')\n",
        "plt.plot(epochs, val_acc, 'b', label='Validation accuracy')\n",
        "plt.title('Training and validation accuracy')\n",
        "plt.legend()\n",
        "plt.figure()\n",
        "\n",
        "plt.plot(epochs, loss, 'r', label='Training Loss')\n",
        "plt.plot(epochs, val_loss, 'b', label='Validation Loss')\n",
        "plt.title('Training and validation loss')\n",
        "plt.legend()\n",
        "\n",
        "plt.show()"
      ]
    },
    {
      "cell_type": "markdown",
      "metadata": {
        "id": "du-lPwUOgu-k"
      },
      "source": [
        "## Model Testing"
      ]
    },
    {
      "cell_type": "code",
      "execution_count": null,
      "metadata": {
        "colab": {
          "base_uri": "https://localhost:8080/"
        },
        "id": "Uc4IgFu9_YrU",
        "outputId": "c773ce34-8c95-4b8c-fbfe-cd4c6bb2e4f4"
      },
      "outputs": [
        {
          "name": "stdout",
          "output_type": "stream",
          "text": [
            "Drive already mounted at /content/drive; to attempt to forcibly remount, call drive.mount(\"/content/drive\", force_remount=True).\n"
          ]
        }
      ],
      "source": [
        "from google.colab import drive\n",
        "drive.mount('/content/drive')"
      ]
    },
    {
      "cell_type": "code",
      "execution_count": null,
      "metadata": {
        "colab": {
          "base_uri": "https://localhost:8080/"
        },
        "id": "JKXH2ErsR6mI",
        "outputId": "e5556a49-10a2-4892-a7ea-f148b3beeb67"
      },
      "outputs": [
        {
          "output_type": "stream",
          "name": "stdout",
          "text": [
            "1/1 [==============================] - 0s 99ms/step\n",
            "Predictions: [[4.8344651e-01 2.3278465e-06 4.5160946e-01 4.8102374e-04 8.0546663e-08\n",
            "  1.2651273e-06 6.0666144e-02 3.7932382e-03]]\n",
            "Predicted label: [0]\n",
            "fres_tea\n"
          ]
        }
      ],
      "source": [
        "# Load the image\n",
        "new_image = plt.imread('/content/drive/MyDrive/Colab Notebooks/CNN-Capstone-Dataset/nu.jpg')\n",
        "\n",
        "# Ensure the image has the correct number of channels (e.g., 3 for RGB)\n",
        "if new_image.shape[-1] != 3:\n",
        "    new_image = tf.image.grayscale_to_rgb(new_image)\n",
        "\n",
        "# Resize the image to the input shape required by your model\n",
        "input_shape = (input_height, input_width)  # Replace with your model's input shape\n",
        "new_image = tf.image.resize(new_image, input_shape)\n",
        "\n",
        "# Normalize the image (if your model was trained on normalized images, e.g., values in range [0, 1])\n",
        "new_image = new_image / 255.0\n",
        "\n",
        "# Add a batch dimension\n",
        "new_image = np.expand_dims(new_image, axis=0)\n",
        "\n",
        "# Make predictions\n",
        "predictions = myCNN.predict(new_image)\n",
        "\n",
        "# Print the predictions\n",
        "print(\"Predictions:\", predictions)\n",
        "\n",
        "# Print the predicted label\n",
        "predicted_label = np.argmax(predictions, axis=1)\n",
        "print(\"Predicted label:\", predicted_label)\n",
        "\n",
        "print(list(train_generator.class_indices)[np.argmax(predictions)])"
      ]
    },
    {
      "cell_type": "markdown",
      "metadata": {
        "id": "CkERJ2xlMFVD"
      },
      "source": [
        "## Model Export"
      ]
    },
    {
      "cell_type": "code",
      "source": [
        "myCNN.save(\"model.h5\")"
      ],
      "metadata": {
        "colab": {
          "base_uri": "https://localhost:8080/"
        },
        "id": "9E7Z916mUlfT",
        "outputId": "1900392b-573f-4594-e9fa-3b96c92342d7"
      },
      "execution_count": 24,
      "outputs": [
        {
          "output_type": "stream",
          "name": "stderr",
          "text": [
            "/usr/local/lib/python3.10/dist-packages/keras/src/engine/training.py:3103: UserWarning: You are saving your model as an HDF5 file via `model.save()`. This file format is considered legacy. We recommend using instead the native Keras format, e.g. `model.save('my_model.keras')`.\n",
            "  saving_api.save_model(\n"
          ]
        }
      ]
    },
    {
      "cell_type": "code",
      "execution_count": null,
      "metadata": {
        "colab": {
          "base_uri": "https://localhost:8080/",
          "height": 443
        },
        "id": "0e5vvQatMRoR",
        "outputId": "1a7465f3-f9a0-4a2a-dd95-f6f548b421aa"
      },
      "outputs": [
        {
          "ename": "AssertionError",
          "evalue": "Tried to export a function which references an 'untracked' resource. TensorFlow objects (e.g. tf.Variable) captured by functions must be 'tracked' by assigning them to an attribute of a tracked object or assigned to an attribute of the main object directly. See the information below:\n\tFunction name = b'__inference_signature_wrapper_3156'\n\tCaptured Tensor = <ResourceHandle(name=\"block/conv2d/kernel/18\", device=\"/job:localhost/replica:0/task:0/device:GPU:0\", container=\"Anonymous\", type=\"tensorflow::Var\", dtype and shapes : \"[ DType enum: 1, Shape: [3,3,3,64] ]\")>\n\tTrackable referencing this tensor = <tf.Variable 'block/conv2d/kernel:0' shape=(3, 3, 3, 64) dtype=float32>\n\tInternal Tensor = Tensor(\"3090:0\", shape=(), dtype=resource)",
          "output_type": "error",
          "traceback": [
            "\u001b[0;31m---------------------------------------------------------------------------\u001b[0m",
            "\u001b[0;31mAssertionError\u001b[0m                            Traceback (most recent call last)",
            "\u001b[0;32m<ipython-input-17-b426aab66a26>\u001b[0m in \u001b[0;36m<cell line: 3>\u001b[0;34m()\u001b[0m\n\u001b[1;32m      1\u001b[0m \u001b[0mexport_dir\u001b[0m \u001b[0;34m=\u001b[0m \u001b[0;34m'saved_model/1'\u001b[0m\u001b[0;34m\u001b[0m\u001b[0;34m\u001b[0m\u001b[0m\n\u001b[1;32m      2\u001b[0m \u001b[0;31m# myCNN.save(export_dir)\u001b[0m\u001b[0;34m\u001b[0m\u001b[0;34m\u001b[0m\u001b[0m\n\u001b[0;32m----> 3\u001b[0;31m \u001b[0mtf\u001b[0m\u001b[0;34m.\u001b[0m\u001b[0msaved_model\u001b[0m\u001b[0;34m.\u001b[0m\u001b[0msave\u001b[0m\u001b[0;34m(\u001b[0m\u001b[0mmyCNN\u001b[0m\u001b[0;34m,\u001b[0m \u001b[0mexport_dir\u001b[0m\u001b[0;34m)\u001b[0m\u001b[0;34m\u001b[0m\u001b[0;34m\u001b[0m\u001b[0m\n\u001b[0m",
            "\u001b[0;32m/usr/local/lib/python3.10/dist-packages/tensorflow/python/saved_model/save.py\u001b[0m in \u001b[0;36msave\u001b[0;34m(obj, export_dir, signatures, options)\u001b[0m\n\u001b[1;32m   1334\u001b[0m   \u001b[0;31m# pylint: enable=line-too-long\u001b[0m\u001b[0;34m\u001b[0m\u001b[0;34m\u001b[0m\u001b[0m\n\u001b[1;32m   1335\u001b[0m   \u001b[0mmetrics\u001b[0m\u001b[0;34m.\u001b[0m\u001b[0mIncrementWriteApi\u001b[0m\u001b[0;34m(\u001b[0m\u001b[0m_SAVE_V2_LABEL\u001b[0m\u001b[0;34m)\u001b[0m\u001b[0;34m\u001b[0m\u001b[0;34m\u001b[0m\u001b[0m\n\u001b[0;32m-> 1336\u001b[0;31m   \u001b[0msave_and_return_nodes\u001b[0m\u001b[0;34m(\u001b[0m\u001b[0mobj\u001b[0m\u001b[0;34m,\u001b[0m \u001b[0mexport_dir\u001b[0m\u001b[0;34m,\u001b[0m \u001b[0msignatures\u001b[0m\u001b[0;34m,\u001b[0m \u001b[0moptions\u001b[0m\u001b[0;34m)\u001b[0m\u001b[0;34m\u001b[0m\u001b[0;34m\u001b[0m\u001b[0m\n\u001b[0m\u001b[1;32m   1337\u001b[0m \u001b[0;34m\u001b[0m\u001b[0m\n\u001b[1;32m   1338\u001b[0m   \u001b[0mmetrics\u001b[0m\u001b[0;34m.\u001b[0m\u001b[0mIncrementWrite\u001b[0m\u001b[0;34m(\u001b[0m\u001b[0mwrite_version\u001b[0m\u001b[0;34m=\u001b[0m\u001b[0;34m\"2\"\u001b[0m\u001b[0;34m)\u001b[0m\u001b[0;34m\u001b[0m\u001b[0;34m\u001b[0m\u001b[0m\n",
            "\u001b[0;32m/usr/local/lib/python3.10/dist-packages/tensorflow/python/saved_model/save.py\u001b[0m in \u001b[0;36msave_and_return_nodes\u001b[0;34m(obj, export_dir, signatures, options, experimental_skip_checkpoint)\u001b[0m\n\u001b[1;32m   1369\u001b[0m \u001b[0;34m\u001b[0m\u001b[0m\n\u001b[1;32m   1370\u001b[0m   _, exported_graph, object_saver, asset_info, saved_nodes, node_paths = (\n\u001b[0;32m-> 1371\u001b[0;31m       _build_meta_graph(obj, signatures, options, meta_graph_def))\n\u001b[0m\u001b[1;32m   1372\u001b[0m   saved_model.saved_model_schema_version = (\n\u001b[1;32m   1373\u001b[0m       constants.SAVED_MODEL_SCHEMA_VERSION)\n",
            "\u001b[0;32m/usr/local/lib/python3.10/dist-packages/tensorflow/python/saved_model/save.py\u001b[0m in \u001b[0;36m_build_meta_graph\u001b[0;34m(obj, signatures, options, meta_graph_def)\u001b[0m\n\u001b[1;32m   1582\u001b[0m \u001b[0;34m\u001b[0m\u001b[0m\n\u001b[1;32m   1583\u001b[0m   \u001b[0;32mwith\u001b[0m \u001b[0msave_context\u001b[0m\u001b[0;34m.\u001b[0m\u001b[0msave_context\u001b[0m\u001b[0;34m(\u001b[0m\u001b[0moptions\u001b[0m\u001b[0;34m)\u001b[0m\u001b[0;34m:\u001b[0m\u001b[0;34m\u001b[0m\u001b[0;34m\u001b[0m\u001b[0m\n\u001b[0;32m-> 1584\u001b[0;31m     \u001b[0;32mreturn\u001b[0m \u001b[0m_build_meta_graph_impl\u001b[0m\u001b[0;34m(\u001b[0m\u001b[0mobj\u001b[0m\u001b[0;34m,\u001b[0m \u001b[0msignatures\u001b[0m\u001b[0;34m,\u001b[0m \u001b[0moptions\u001b[0m\u001b[0;34m,\u001b[0m \u001b[0mmeta_graph_def\u001b[0m\u001b[0;34m)\u001b[0m\u001b[0;34m\u001b[0m\u001b[0;34m\u001b[0m\u001b[0m\n\u001b[0m",
            "\u001b[0;32m/usr/local/lib/python3.10/dist-packages/tensorflow/python/saved_model/save.py\u001b[0m in \u001b[0;36m_build_meta_graph_impl\u001b[0;34m(obj, signatures, options, meta_graph_def)\u001b[0m\n\u001b[1;32m   1507\u001b[0m   \u001b[0msaveable_view\u001b[0m \u001b[0;34m=\u001b[0m \u001b[0m_SaveableView\u001b[0m\u001b[0;34m(\u001b[0m\u001b[0maugmented_graph_view\u001b[0m\u001b[0;34m,\u001b[0m \u001b[0moptions\u001b[0m\u001b[0;34m)\u001b[0m\u001b[0;34m\u001b[0m\u001b[0;34m\u001b[0m\u001b[0m\n\u001b[1;32m   1508\u001b[0m   \u001b[0mobject_saver\u001b[0m \u001b[0;34m=\u001b[0m \u001b[0mcheckpoint\u001b[0m\u001b[0;34m.\u001b[0m\u001b[0mTrackableSaver\u001b[0m\u001b[0;34m(\u001b[0m\u001b[0maugmented_graph_view\u001b[0m\u001b[0;34m)\u001b[0m\u001b[0;34m\u001b[0m\u001b[0;34m\u001b[0m\u001b[0m\n\u001b[0;32m-> 1509\u001b[0;31m   asset_info, exported_graph = _fill_meta_graph_def(\n\u001b[0m\u001b[1;32m   1510\u001b[0m       \u001b[0mmeta_graph_def\u001b[0m\u001b[0;34m=\u001b[0m\u001b[0mmeta_graph_def\u001b[0m\u001b[0;34m,\u001b[0m\u001b[0;34m\u001b[0m\u001b[0;34m\u001b[0m\u001b[0m\n\u001b[1;32m   1511\u001b[0m       \u001b[0msaveable_view\u001b[0m\u001b[0;34m=\u001b[0m\u001b[0msaveable_view\u001b[0m\u001b[0;34m,\u001b[0m\u001b[0;34m\u001b[0m\u001b[0;34m\u001b[0m\u001b[0m\n",
            "\u001b[0;32m/usr/local/lib/python3.10/dist-packages/tensorflow/python/saved_model/save.py\u001b[0m in \u001b[0;36m_fill_meta_graph_def\u001b[0;34m(meta_graph_def, saveable_view, signature_functions, namespace_whitelist, save_custom_gradients, create_saver, defaults)\u001b[0m\n\u001b[1;32m    877\u001b[0m   \u001b[0;32mwith\u001b[0m \u001b[0mexported_graph\u001b[0m\u001b[0;34m.\u001b[0m\u001b[0mas_default\u001b[0m\u001b[0;34m(\u001b[0m\u001b[0;34m)\u001b[0m\u001b[0;34m:\u001b[0m\u001b[0;34m\u001b[0m\u001b[0;34m\u001b[0m\u001b[0m\n\u001b[1;32m    878\u001b[0m     \u001b[0mobject_map\u001b[0m\u001b[0;34m,\u001b[0m \u001b[0mtensor_map\u001b[0m\u001b[0;34m,\u001b[0m \u001b[0masset_info\u001b[0m \u001b[0;34m=\u001b[0m \u001b[0msaveable_view\u001b[0m\u001b[0;34m.\u001b[0m\u001b[0mmap_resources\u001b[0m\u001b[0;34m(\u001b[0m\u001b[0;34m)\u001b[0m\u001b[0;34m\u001b[0m\u001b[0;34m\u001b[0m\u001b[0m\n\u001b[0;32m--> 879\u001b[0;31m     \u001b[0msignatures\u001b[0m \u001b[0;34m=\u001b[0m \u001b[0m_generate_signatures\u001b[0m\u001b[0;34m(\u001b[0m\u001b[0msignature_functions\u001b[0m\u001b[0;34m,\u001b[0m \u001b[0mobject_map\u001b[0m\u001b[0;34m,\u001b[0m \u001b[0mdefaults\u001b[0m\u001b[0;34m)\u001b[0m\u001b[0;34m\u001b[0m\u001b[0;34m\u001b[0m\u001b[0m\n\u001b[0m\u001b[1;32m    880\u001b[0m   \u001b[0;32mif\u001b[0m \u001b[0msave_custom_gradients\u001b[0m\u001b[0;34m:\u001b[0m\u001b[0;34m\u001b[0m\u001b[0;34m\u001b[0m\u001b[0m\n\u001b[1;32m    881\u001b[0m     \u001b[0;31m# Custom gradients functions must be traced in the same context as the\u001b[0m\u001b[0;34m\u001b[0m\u001b[0;34m\u001b[0m\u001b[0m\n",
            "\u001b[0;32m/usr/local/lib/python3.10/dist-packages/tensorflow/python/saved_model/save.py\u001b[0m in \u001b[0;36m_generate_signatures\u001b[0;34m(signature_functions, object_map, defaults)\u001b[0m\n\u001b[1;32m    652\u001b[0m         sorted(\n\u001b[1;32m    653\u001b[0m             object_map[function].function.structured_input_signature[1].keys()))\n\u001b[0;32m--> 654\u001b[0;31m     outputs = object_map[function](**{\n\u001b[0m\u001b[1;32m    655\u001b[0m         \u001b[0mkwarg_name\u001b[0m\u001b[0;34m:\u001b[0m \u001b[0mmapped_input\u001b[0m\u001b[0;34m\u001b[0m\u001b[0;34m\u001b[0m\u001b[0m\n\u001b[1;32m    656\u001b[0m         \u001b[0;32mfor\u001b[0m \u001b[0mkwarg_name\u001b[0m\u001b[0;34m,\u001b[0m \u001b[0mmapped_input\u001b[0m \u001b[0;32min\u001b[0m \u001b[0mzip\u001b[0m\u001b[0;34m(\u001b[0m\u001b[0mkwarg_names\u001b[0m\u001b[0;34m,\u001b[0m \u001b[0mmapped_inputs\u001b[0m\u001b[0;34m)\u001b[0m\u001b[0;34m\u001b[0m\u001b[0;34m\u001b[0m\u001b[0m\n",
            "\u001b[0;32m/usr/local/lib/python3.10/dist-packages/tensorflow/python/eager/polymorphic_function/saved_model_exported_concrete.py\u001b[0m in \u001b[0;36m__call__\u001b[0;34m(self, *args, **kwargs)\u001b[0m\n\u001b[1;32m     43\u001b[0m         \u001b[0mbound_arguments\u001b[0m\u001b[0;34m\u001b[0m\u001b[0;34m\u001b[0m\u001b[0m\n\u001b[1;32m     44\u001b[0m     )\n\u001b[0;32m---> 45\u001b[0;31m     export_captures = _map_captures_to_created_tensors(\n\u001b[0m\u001b[1;32m     46\u001b[0m         self.function.graph.captures, self.tensor_map, self.function)\n\u001b[1;32m     47\u001b[0m     \u001b[0;32mreturn\u001b[0m \u001b[0mself\u001b[0m\u001b[0;34m.\u001b[0m\u001b[0mfunction\u001b[0m\u001b[0;34m.\u001b[0m\u001b[0m_call_flat\u001b[0m\u001b[0;34m(\u001b[0m\u001b[0mfiltered_flat_args\u001b[0m\u001b[0;34m,\u001b[0m \u001b[0mexport_captures\u001b[0m\u001b[0;34m)\u001b[0m\u001b[0;34m\u001b[0m\u001b[0;34m\u001b[0m\u001b[0m\n",
            "\u001b[0;32m/usr/local/lib/python3.10/dist-packages/tensorflow/python/eager/polymorphic_function/saved_model_exported_concrete.py\u001b[0m in \u001b[0;36m_map_captures_to_created_tensors\u001b[0;34m(original_captures, tensor_map, function)\u001b[0m\n\u001b[1;32m     72\u001b[0m     \u001b[0mmapped_resource\u001b[0m \u001b[0;34m=\u001b[0m \u001b[0mtensor_map\u001b[0m\u001b[0;34m.\u001b[0m\u001b[0mget\u001b[0m\u001b[0;34m(\u001b[0m\u001b[0mexterior\u001b[0m\u001b[0;34m,\u001b[0m \u001b[0;32mNone\u001b[0m\u001b[0;34m)\u001b[0m\u001b[0;34m\u001b[0m\u001b[0;34m\u001b[0m\u001b[0m\n\u001b[1;32m     73\u001b[0m     \u001b[0;32mif\u001b[0m \u001b[0mmapped_resource\u001b[0m \u001b[0;32mis\u001b[0m \u001b[0;32mNone\u001b[0m\u001b[0;34m:\u001b[0m\u001b[0;34m\u001b[0m\u001b[0;34m\u001b[0m\u001b[0m\n\u001b[0;32m---> 74\u001b[0;31m       \u001b[0m_raise_untracked_capture_error\u001b[0m\u001b[0;34m(\u001b[0m\u001b[0mfunction\u001b[0m\u001b[0;34m.\u001b[0m\u001b[0mname\u001b[0m\u001b[0;34m,\u001b[0m \u001b[0mexterior\u001b[0m\u001b[0;34m,\u001b[0m \u001b[0minterior\u001b[0m\u001b[0;34m)\u001b[0m\u001b[0;34m\u001b[0m\u001b[0;34m\u001b[0m\u001b[0m\n\u001b[0m\u001b[1;32m     75\u001b[0m     \u001b[0mexport_captures\u001b[0m\u001b[0;34m.\u001b[0m\u001b[0mappend\u001b[0m\u001b[0;34m(\u001b[0m\u001b[0mmapped_resource\u001b[0m\u001b[0;34m)\u001b[0m\u001b[0;34m\u001b[0m\u001b[0;34m\u001b[0m\u001b[0m\n\u001b[1;32m     76\u001b[0m   \u001b[0;32mreturn\u001b[0m \u001b[0mexport_captures\u001b[0m\u001b[0;34m\u001b[0m\u001b[0;34m\u001b[0m\u001b[0m\n",
            "\u001b[0;32m/usr/local/lib/python3.10/dist-packages/tensorflow/python/eager/polymorphic_function/saved_model_exported_concrete.py\u001b[0m in \u001b[0;36m_raise_untracked_capture_error\u001b[0;34m(function_name, capture, internal_capture, node_path)\u001b[0m\n\u001b[1;32m     96\u001b[0m   \u001b[0;32mif\u001b[0m \u001b[0minternal_capture\u001b[0m \u001b[0;32mis\u001b[0m \u001b[0;32mnot\u001b[0m \u001b[0;32mNone\u001b[0m\u001b[0;34m:\u001b[0m\u001b[0;34m\u001b[0m\u001b[0;34m\u001b[0m\u001b[0m\n\u001b[1;32m     97\u001b[0m     \u001b[0mmsg\u001b[0m \u001b[0;34m+=\u001b[0m \u001b[0;34mf\"\\n\\tInternal Tensor = {internal_capture}\"\u001b[0m\u001b[0;34m\u001b[0m\u001b[0;34m\u001b[0m\u001b[0m\n\u001b[0;32m---> 98\u001b[0;31m   \u001b[0;32mraise\u001b[0m \u001b[0mAssertionError\u001b[0m\u001b[0;34m(\u001b[0m\u001b[0mmsg\u001b[0m\u001b[0;34m)\u001b[0m\u001b[0;34m\u001b[0m\u001b[0;34m\u001b[0m\u001b[0m\n\u001b[0m\u001b[1;32m     99\u001b[0m \u001b[0;34m\u001b[0m\u001b[0m\n\u001b[1;32m    100\u001b[0m \u001b[0;34m\u001b[0m\u001b[0m\n",
            "\u001b[0;31mAssertionError\u001b[0m: Tried to export a function which references an 'untracked' resource. TensorFlow objects (e.g. tf.Variable) captured by functions must be 'tracked' by assigning them to an attribute of a tracked object or assigned to an attribute of the main object directly. See the information below:\n\tFunction name = b'__inference_signature_wrapper_3156'\n\tCaptured Tensor = <ResourceHandle(name=\"block/conv2d/kernel/18\", device=\"/job:localhost/replica:0/task:0/device:GPU:0\", container=\"Anonymous\", type=\"tensorflow::Var\", dtype and shapes : \"[ DType enum: 1, Shape: [3,3,3,64] ]\")>\n\tTrackable referencing this tensor = <tf.Variable 'block/conv2d/kernel:0' shape=(3, 3, 3, 64) dtype=float32>\n\tInternal Tensor = Tensor(\"3090:0\", shape=(), dtype=resource)"
          ]
        }
      ],
      "source": [
        "export_dir = 'saved_model/1'\n",
        "# myCNN.save(export_dir)\n",
        "tf.saved_model.save(myCNN, export_dir)"
      ]
    },
    {
      "cell_type": "code",
      "execution_count": null,
      "metadata": {
        "colab": {
          "base_uri": "https://localhost:8080/",
          "height": 393
        },
        "id": "VSaY3DD0Q0_p",
        "outputId": "48aed8ae-427a-437c-9922-8c809d71bf0b"
      },
      "outputs": [
        {
          "name": "stderr",
          "output_type": "stream",
          "text": [
            "/usr/local/lib/python3.10/dist-packages/keras/src/engine/training.py:3103: UserWarning: You are saving your model as an HDF5 file via `model.save()`. This file format is considered legacy. We recommend using instead the native Keras format, e.g. `model.save('my_model.keras')`.\n",
            "  saving_api.save_model(\n"
          ]
        },
        {
          "ename": "NotImplementedError",
          "evalue": "Saving the model to HDF5 format requires the model to be a Functional model or a Sequential model. It does not work for subclassed models, because such models are defined via the body of a Python method, which isn't safely serializable. Consider saving to the Tensorflow SavedModel format (by setting save_format=\"tf\") or using `save_weights`.",
          "output_type": "error",
          "traceback": [
            "\u001b[0;31m---------------------------------------------------------------------------\u001b[0m",
            "\u001b[0;31mNotImplementedError\u001b[0m                       Traceback (most recent call last)",
            "\u001b[0;32m<ipython-input-18-380c1e3810ad>\u001b[0m in \u001b[0;36m<cell line: 3>\u001b[0;34m()\u001b[0m\n\u001b[1;32m      1\u001b[0m \u001b[0mdrink_recog\u001b[0m \u001b[0;34m=\u001b[0m \u001b[0;34m'/content/Model.h5'\u001b[0m\u001b[0;34m\u001b[0m\u001b[0;34m\u001b[0m\u001b[0m\n\u001b[1;32m      2\u001b[0m \u001b[0;34m\u001b[0m\u001b[0m\n\u001b[0;32m----> 3\u001b[0;31m \u001b[0mmyCNN\u001b[0m\u001b[0;34m.\u001b[0m\u001b[0msave\u001b[0m\u001b[0;34m(\u001b[0m\u001b[0mdrink_recog\u001b[0m\u001b[0;34m,\u001b[0m \u001b[0msave_format\u001b[0m\u001b[0;34m=\u001b[0m\u001b[0;34m\"h5\"\u001b[0m\u001b[0;34m)\u001b[0m\u001b[0;34m\u001b[0m\u001b[0;34m\u001b[0m\u001b[0m\n\u001b[0m",
            "\u001b[0;32m/usr/local/lib/python3.10/dist-packages/keras/src/utils/traceback_utils.py\u001b[0m in \u001b[0;36merror_handler\u001b[0;34m(*args, **kwargs)\u001b[0m\n\u001b[1;32m     68\u001b[0m             \u001b[0;31m# To get the full stack trace, call:\u001b[0m\u001b[0;34m\u001b[0m\u001b[0;34m\u001b[0m\u001b[0m\n\u001b[1;32m     69\u001b[0m             \u001b[0;31m# `tf.debugging.disable_traceback_filtering()`\u001b[0m\u001b[0;34m\u001b[0m\u001b[0;34m\u001b[0m\u001b[0m\n\u001b[0;32m---> 70\u001b[0;31m             \u001b[0;32mraise\u001b[0m \u001b[0me\u001b[0m\u001b[0;34m.\u001b[0m\u001b[0mwith_traceback\u001b[0m\u001b[0;34m(\u001b[0m\u001b[0mfiltered_tb\u001b[0m\u001b[0;34m)\u001b[0m \u001b[0;32mfrom\u001b[0m \u001b[0;32mNone\u001b[0m\u001b[0;34m\u001b[0m\u001b[0;34m\u001b[0m\u001b[0m\n\u001b[0m\u001b[1;32m     71\u001b[0m         \u001b[0;32mfinally\u001b[0m\u001b[0;34m:\u001b[0m\u001b[0;34m\u001b[0m\u001b[0;34m\u001b[0m\u001b[0m\n\u001b[1;32m     72\u001b[0m             \u001b[0;32mdel\u001b[0m \u001b[0mfiltered_tb\u001b[0m\u001b[0;34m\u001b[0m\u001b[0;34m\u001b[0m\u001b[0m\n",
            "\u001b[0;32m/usr/local/lib/python3.10/dist-packages/keras/src/saving/legacy/save.py\u001b[0m in \u001b[0;36msave_model\u001b[0;34m(model, filepath, overwrite, include_optimizer, save_format, signatures, options, save_traces)\u001b[0m\n\u001b[1;32m    150\u001b[0m             \u001b[0mmodel\u001b[0m\u001b[0;34m,\u001b[0m \u001b[0msequential\u001b[0m\u001b[0;34m.\u001b[0m\u001b[0mSequential\u001b[0m\u001b[0;34m\u001b[0m\u001b[0;34m\u001b[0m\u001b[0m\n\u001b[1;32m    151\u001b[0m         ):\n\u001b[0;32m--> 152\u001b[0;31m             raise NotImplementedError(\n\u001b[0m\u001b[1;32m    153\u001b[0m                 \u001b[0;34m\"Saving the model to HDF5 format requires the model to be a \"\u001b[0m\u001b[0;34m\u001b[0m\u001b[0;34m\u001b[0m\u001b[0m\n\u001b[1;32m    154\u001b[0m                 \u001b[0;34m\"Functional model or a Sequential model. It does not work for \"\u001b[0m\u001b[0;34m\u001b[0m\u001b[0;34m\u001b[0m\u001b[0m\n",
            "\u001b[0;31mNotImplementedError\u001b[0m: Saving the model to HDF5 format requires the model to be a Functional model or a Sequential model. It does not work for subclassed models, because such models are defined via the body of a Python method, which isn't safely serializable. Consider saving to the Tensorflow SavedModel format (by setting save_format=\"tf\") or using `save_weights`."
          ]
        }
      ],
      "source": [
        "drink_recog = '/content/Model.h5'\n",
        "\n",
        "myCNN.save(drink_recog, save_format=\"h5\")"
      ]
    },
    {
      "cell_type": "code",
      "execution_count": null,
      "metadata": {
        "id": "TKUO9PRVMHaR"
      },
      "outputs": [],
      "source": [
        "converter = tf.lite.TFLiteConverter.from_saved_model(export_dir)\n",
        "converter.target_spec.supported_ops = [\n",
        "    tf.lite.OpsSet.TFLITE_BUILTINS,  # TFLite built-in ops\n",
        "    tf.lite.OpsSet.SELECT_TF_OPS     # Enable TensorFlow ops\n",
        "]\n",
        "tflite_model = converter.convert()"
      ]
    },
    {
      "cell_type": "code",
      "execution_count": null,
      "metadata": {
        "colab": {
          "base_uri": "https://localhost:8080/"
        },
        "id": "p36cai8IMm9x",
        "outputId": "0bd2a925-d0f7-407c-ced2-f22a4de23369"
      },
      "outputs": [
        {
          "name": "stdout",
          "output_type": "stream",
          "text": [
            "TFLite model saved at: /content/model.tflite\n"
          ]
        }
      ],
      "source": [
        "import pathlib\n",
        "\n",
        "tflite_model_file = pathlib.Path('/content/model.tflite')\n",
        "tflite_model_file.write_bytes(tflite_model)\n",
        "\n",
        "print(f\"TFLite model saved at: {tflite_model_file}\")"
      ]
    }
  ],
  "metadata": {
    "accelerator": "GPU",
    "colab": {
      "collapsed_sections": [
        "qCdd0faeDiIc",
        "jxmE8lvKQnD_",
        "dVoOPiIPPr03",
        "PHsiUXctPv1w",
        "97cZGcBzgqcU"
      ],
      "gpuType": "T4",
      "provenance": []
    },
    "kernelspec": {
      "display_name": "Python 3",
      "name": "python3"
    },
    "language_info": {
      "name": "python"
    }
  },
  "nbformat": 4,
  "nbformat_minor": 0
}