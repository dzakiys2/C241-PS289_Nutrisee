{
  "cells": [
    {
      "cell_type": "code",
      "execution_count": null,
      "metadata": {
        "colab": {
          "base_uri": "https://localhost:8080/"
        },
        "id": "iivcQtXmxY8F",
        "outputId": "96cba984-280c-48b3-a997-c1d1f7f9580b"
      },
      "outputs": [
        {
          "name": "stdout",
          "output_type": "stream",
          "text": [
            "Colab only includes TensorFlow 2.x; %tensorflow_version has no effect.\n"
          ]
        }
      ],
      "source": [
        "try:\n",
        "    # %tensorflow_version only exists in Colab.\n",
        "    %tensorflow_version 2.x\n",
        "except Exception:\n",
        "    pass\n",
        "\n",
        "import tensorflow as tf\n",
        "from tensorflow.keras.layers import Dense\n",
        "from tensorflow.keras import Model\n",
        "from tensorflow.keras.layers import concatenate\n",
        "from tensorflow.keras.layers import Input\n",
        "from tensorflow.keras.utils import plot_model\n",
        "from tensorflow.keras.preprocessing.image import ImageDataGenerator\n",
        "\n",
        "import os\n",
        "import gdown\n",
        "import zipfile\n",
        "import random\n",
        "import shutil\n",
        "from shutil import copyfile\n",
        "import matplotlib.pyplot as plt\n",
        "import string\n",
        "import numpy as np"
      ]
    },
    {
      "cell_type": "markdown",
      "metadata": {
        "id": "2jDwClB9gn_E"
      },
      "source": [
        "# Data Preparation"
      ]
    },
    {
      "cell_type": "markdown",
      "metadata": {
        "id": "0ObCXKlhNgBc"
      },
      "source": [
        "Hyper parameters"
      ]
    },
    {
      "cell_type": "code",
      "execution_count": null,
      "metadata": {
        "id": "hXN5G3RFNfnb"
      },
      "outputs": [],
      "source": [
        "# Define root directory\n",
        "root_dir = '/tmp/tea'\n",
        "\n",
        "# Define paths\n",
        "SOURCE_DIR = \"/tmp/dataset/\"\n",
        "TRAINING_DIR = \"/tmp/tea/training/\"\n",
        "VALIDATION_DIR = \"/tmp/tea/validation/\"\n",
        "\n",
        "# Define proportion of images used for training\n",
        "split_size = .85\n",
        "\n",
        "# Define input shape details\n",
        "input_height = 224\n",
        "input_width = 224\n",
        "num_channels = 3"
      ]
    },
    {
      "cell_type": "markdown",
      "metadata": {
        "id": "TEMqrCaOhl-z"
      },
      "source": [
        "## Import data from Google Drive"
      ]
    },
    {
      "cell_type": "markdown",
      "metadata": {
        "id": "qCdd0faeDiIc"
      },
      "source": [
        "### Import from Downloadable Drive"
      ]
    },
    {
      "cell_type": "code",
      "execution_count": null,
      "metadata": {
        "colab": {
          "base_uri": "https://localhost:8080/"
        },
        "id": "m092edx2Dgqd",
        "outputId": "fc9b09dc-67e1-4ee2-ae5a-a4558761f11a"
      },
      "outputs": [
        {
          "name": "stderr",
          "output_type": "stream",
          "text": [
            "Downloading...\n",
            "From (original): https://drive.google.com/uc?id=1NWEJE9d0fbwe_eKBIE788w9RgUTmYgeo\n",
            "From (redirected): https://drive.google.com/uc?id=1NWEJE9d0fbwe_eKBIE788w9RgUTmYgeo&confirm=t&uuid=c8e5bef0-8bcc-4935-8f6e-b1a0da93d12c\n",
            "To: /content/cnn_dataset.zip\n",
            "100%|██████████| 395M/395M [00:05<00:00, 67.1MB/s]\n"
          ]
        }
      ],
      "source": [
        "# import online\n",
        "\n",
        "# Google Drive URL\n",
        "url = 'https://drive.google.com/uc?id=1NWEJE9d0fbwe_eKBIE788w9RgUTmYgeo'\n",
        "# Destination to save the file\n",
        "output = './cnn_dataset.zip'\n",
        "\n",
        "# Download the file\n",
        "gdown.download(url, output, quiet=False)\n",
        "\n",
        "# Unzip the file to a local directory\n",
        "local_zip = output\n",
        "with zipfile.ZipFile(local_zip, 'r') as zip_ref:\n",
        "    zip_ref.extractall('/tmp/dataset')"
      ]
    },
    {
      "cell_type": "markdown",
      "metadata": {
        "id": "LPWTqyF-DlpX"
      },
      "source": [
        "### Import from Local Google Drive"
      ]
    },
    {
      "cell_type": "code",
      "execution_count": null,
      "metadata": {
        "id": "ag8N_WCgg8yv"
      },
      "outputs": [],
      "source": [
        "# read csv data file\n",
        "# from google.colab import drive\n",
        "# drive.mount('/content/drive')\n",
        "\n",
        "# path = \"/content/drive/MyDrive/Colab Notebooks/CNN-Capstone-Dataset/dataset.zip\"\n",
        "# zip_ref   = zipfile.ZipFile(path, 'r')\n",
        "# zip_ref.extractall('/tmp/dataset')\n",
        "# zip_ref.close()"
      ]
    },
    {
      "cell_type": "code",
      "execution_count": null,
      "metadata": {
        "colab": {
          "base_uri": "https://localhost:8080/"
        },
        "id": "z3Iq45X-hESK",
        "outputId": "44f00ca3-12a2-486e-e81f-6a8b8cf41183"
      },
      "outputs": [
        {
          "name": "stdout",
          "output_type": "stream",
          "text": [
            "['nu_tea', 'teh_kotak_lemon', 'fruit_tea_strawberry', 'fres_tea', 'teh_botol_kotak', 'teh_kotak_ori', 'teh_botol_botol', 'teh_pucuk']\n"
          ]
        }
      ],
      "source": [
        "# show all exported label\n",
        "print(os.listdir('/tmp/dataset'))"
      ]
    },
    {
      "cell_type": "code",
      "execution_count": null,
      "metadata": {
        "id": "MFCiksVXJXIF"
      },
      "outputs": [],
      "source": [
        "shutil.rmtree('/tmp')"
      ]
    },
    {
      "cell_type": "markdown",
      "metadata": {
        "id": "E4ddeZ68hX1L"
      },
      "source": [
        "## Directory Creation"
      ]
    },
    {
      "cell_type": "code",
      "execution_count": null,
      "metadata": {
        "id": "EyhirXoVhI7T"
      },
      "outputs": [],
      "source": [
        "# Empty directory to prevent FileExistsError is the function is run several times\n",
        "if os.path.exists(root_dir):\n",
        "  shutil.rmtree(root_dir)\n",
        "\n",
        "def create_train_val_dirs(root_path, classes):\n",
        "    train_dir = os.path.join(root_path, 'training')\n",
        "    val_dir = os.path.join(root_path, 'validation')\n",
        "\n",
        "    # Make directories for each class in training and validation sets\n",
        "    for class_name in classes:\n",
        "        train_class_dir = os.path.join(train_dir, class_name)\n",
        "        val_class_dir = os.path.join(val_dir, class_name)\n",
        "\n",
        "        os.makedirs(train_class_dir)\n",
        "        os.makedirs(val_class_dir)\n",
        "\n",
        "try:\n",
        "    classes = os.listdir('/tmp/dataset')\n",
        "    create_train_val_dirs(root_path=root_dir, classes=classes)\n",
        "except FileExistsError:\n",
        "  print(\"You should not be seeing this since the upper directory is removed beforehand\")"
      ]
    },
    {
      "cell_type": "code",
      "execution_count": null,
      "metadata": {
        "colab": {
          "base_uri": "https://localhost:8080/"
        },
        "id": "1t2f_JFIhU7k",
        "outputId": "02f26e5b-f38c-4373-c03b-8678e23f367e"
      },
      "outputs": [
        {
          "name": "stdout",
          "output_type": "stream",
          "text": [
            "/tmp/tea/validation\n",
            "/tmp/tea/training\n",
            "/tmp/tea/validation/plastik_kacang_kupas_duakelinci\n",
            "/tmp/tea/validation/plastik_ringan_keju_twistko\n",
            "/tmp/tea/validation/botol_teh_ori_tehgelas\n",
            "/tmp/tea/validation/plastik_mie_goreng_indomie\n",
            "/tmp/tea/validation/kotak_jus_jerukperasless_nutrisaari\n",
            "/tmp/tea/validation/botol_teh_less_tehpucuk\n",
            "/tmp/tea/validation/plastik_mie_sotospesial_indomie\n",
            "/tmp/tea/validation/kotak_jus_apel_abc\n",
            "/tmp/tea/validation/botol_yogurt_ori_cimory\n",
            "/tmp/tea/validation/kotak_jus_jambu_abc\n",
            "/tmp/tea/validation/cup_mie_ayambawang_popmie\n",
            "/tmp/tea/validation/plastik_mie_goreng_sedaap\n",
            "/tmp/tea/validation/cup_mie_ayam_popmie\n",
            "/tmp/tea/validation/botol_soda_zerosugar_cocacola\n",
            "/tmp/tea/validation/kaleng_susu_ori_beruang\n",
            "/tmp/tea/validation/kotak_susu_straberry_ultramilk\n",
            "/tmp/tea/validation/kotak_jus_jerukmaduless_nutrisari\n",
            "/tmp/tea/validation/plastik_coklat_susu_dairymilk\n",
            "/tmp/tea/validation/botol_teh_blackcurrant_fruittea\n",
            "/tmp/tea/validation/plastik_mie_sotomie_indomie\n",
            "/tmp/tea/validation/botol_soda_strawberry_fanta\n",
            "/tmp/tea/validation/cup_mie_sotoayam_popmie\n",
            "/tmp/tea/validation/botol_kopi_cappuccino_golda\n",
            "/tmp/tea/validation/botol_kopi_aren_kopken\n",
            "/tmp/tea/validation/kotak_susu_fullcream_ultramilk\n",
            "/tmp/tea/validation/botol_soda_jeruk_fanta\n",
            "/tmp/tea/validation/botol_teh_ori_sosro\n",
            "/tmp/tea/validation/plastik_coklat_dark_silverqueen\n",
            "/tmp/tea/validation/plastik_mie_ayambawang_sedaap\n",
            "/tmp/tea/validation/plastik_mie_ayambawang_indomie\n",
            "/tmp/tea/validation/plastik_mie_soto_sedaap\n",
            "/tmp/tea/validation/kaleng_soda_limeapel_greensands\n",
            "/tmp/tea/validation/plastik_mie_kariayam_indomie\n",
            "/tmp/tea/validation/botol_soda_ori_tebs\n",
            "/tmp/tea/validation/kaleng_soda_sodawater_polaris\n",
            "/tmp/tea/validation/plastik_biskuit_doublechoc_goodtime\n",
            "/tmp/tea/validation/plastik_mie_ayampanggangjumbo_indomie\n",
            "/tmp/tea/validation/kaleng_soda_strawberry_fanta\n",
            "/tmp/tea/validation/botol_soda_ori_cocacola\n",
            "/tmp/tea/validation/cup_mie_goreng_sedaap\n",
            "/tmp/tea/validation/botol_teh_apel_frestea\n",
            "/tmp/tea/validation/kaleng_soda_ori_cocacola\n",
            "/tmp/tea/validation/kaca_nrg_ori_kratingdeng\n",
            "/tmp/tea/validation/kotak_susu_coklat_ultramilk\n",
            "/tmp/tea/validation/plastik_mie_ayamkremesisidua_suksess\n",
            "/tmp/tea/validation/plastik_popcorn_ori_poppypop\n",
            "/tmp/tea/validation/botol_teh_less_sosro\n",
            "/tmp/tea/validation/cup_mie_kariayam_popmie\n",
            "/tmp/tea/validation/plastik_biskuit_classic_goodtime\n",
            "/tmp/tea/validation/botol_elektrolit_ori_pocari\n",
            "/tmp/tea/validation/kaleng_soda_ori_sprite\n",
            "/tmp/tea/validation/zipper_kacang_honeyreasted_mrp\n",
            "/tmp/tea/validation/botol_yogurt_mixedfruit_cimory\n",
            "/tmp/tea/validation/botol_kopi_susu_abc\n",
            "/tmp/tea/training/plastik_kacang_kupas_duakelinci\n",
            "/tmp/tea/training/plastik_ringan_keju_twistko\n",
            "/tmp/tea/training/botol_teh_ori_tehgelas\n",
            "/tmp/tea/training/plastik_mie_goreng_indomie\n",
            "/tmp/tea/training/kotak_jus_jerukperasless_nutrisaari\n",
            "/tmp/tea/training/botol_teh_less_tehpucuk\n",
            "/tmp/tea/training/plastik_mie_sotospesial_indomie\n",
            "/tmp/tea/training/kotak_jus_apel_abc\n",
            "/tmp/tea/training/botol_yogurt_ori_cimory\n",
            "/tmp/tea/training/kotak_jus_jambu_abc\n",
            "/tmp/tea/training/cup_mie_ayambawang_popmie\n",
            "/tmp/tea/training/plastik_mie_goreng_sedaap\n",
            "/tmp/tea/training/cup_mie_ayam_popmie\n",
            "/tmp/tea/training/botol_soda_zerosugar_cocacola\n",
            "/tmp/tea/training/kaleng_susu_ori_beruang\n",
            "/tmp/tea/training/kotak_susu_straberry_ultramilk\n",
            "/tmp/tea/training/kotak_jus_jerukmaduless_nutrisari\n",
            "/tmp/tea/training/plastik_coklat_susu_dairymilk\n",
            "/tmp/tea/training/botol_teh_blackcurrant_fruittea\n",
            "/tmp/tea/training/plastik_mie_sotomie_indomie\n",
            "/tmp/tea/training/botol_soda_strawberry_fanta\n",
            "/tmp/tea/training/cup_mie_sotoayam_popmie\n",
            "/tmp/tea/training/botol_kopi_cappuccino_golda\n",
            "/tmp/tea/training/botol_kopi_aren_kopken\n",
            "/tmp/tea/training/kotak_susu_fullcream_ultramilk\n",
            "/tmp/tea/training/botol_soda_jeruk_fanta\n",
            "/tmp/tea/training/botol_teh_ori_sosro\n",
            "/tmp/tea/training/plastik_coklat_dark_silverqueen\n",
            "/tmp/tea/training/plastik_mie_ayambawang_sedaap\n",
            "/tmp/tea/training/plastik_mie_ayambawang_indomie\n",
            "/tmp/tea/training/plastik_mie_soto_sedaap\n",
            "/tmp/tea/training/kaleng_soda_limeapel_greensands\n",
            "/tmp/tea/training/plastik_mie_kariayam_indomie\n",
            "/tmp/tea/training/botol_soda_ori_tebs\n",
            "/tmp/tea/training/kaleng_soda_sodawater_polaris\n",
            "/tmp/tea/training/plastik_biskuit_doublechoc_goodtime\n",
            "/tmp/tea/training/plastik_mie_ayampanggangjumbo_indomie\n",
            "/tmp/tea/training/kaleng_soda_strawberry_fanta\n",
            "/tmp/tea/training/botol_soda_ori_cocacola\n",
            "/tmp/tea/training/cup_mie_goreng_sedaap\n",
            "/tmp/tea/training/botol_teh_apel_frestea\n",
            "/tmp/tea/training/kaleng_soda_ori_cocacola\n",
            "/tmp/tea/training/kaca_nrg_ori_kratingdeng\n",
            "/tmp/tea/training/kotak_susu_coklat_ultramilk\n",
            "/tmp/tea/training/plastik_mie_ayamkremesisidua_suksess\n",
            "/tmp/tea/training/plastik_popcorn_ori_poppypop\n",
            "/tmp/tea/training/botol_teh_less_sosro\n",
            "/tmp/tea/training/cup_mie_kariayam_popmie\n",
            "/tmp/tea/training/plastik_biskuit_classic_goodtime\n",
            "/tmp/tea/training/botol_elektrolit_ori_pocari\n",
            "/tmp/tea/training/kaleng_soda_ori_sprite\n",
            "/tmp/tea/training/zipper_kacang_honeyreasted_mrp\n",
            "/tmp/tea/training/botol_yogurt_mixedfruit_cimory\n",
            "/tmp/tea/training/botol_kopi_susu_abc\n"
          ]
        }
      ],
      "source": [
        "for rootdir, dirs, files in os.walk(root_dir):\n",
        "    for subdir in dirs:\n",
        "        print(os.path.join(rootdir, subdir))"
      ]
    },
    {
      "cell_type": "markdown",
      "metadata": {
        "id": "UmKQpqzCDDTj"
      },
      "source": [
        "## Data Splitting"
      ]
    },
    {
      "cell_type": "code",
      "execution_count": null,
      "metadata": {
        "id": "XfntDA9ehXQL"
      },
      "outputs": [],
      "source": [
        "def split_data(SOURCE_DIR, TRAINING_DIR, VALIDATION_DIR, SPLIT_SIZE):\n",
        "  # List all files in the source directory\n",
        "  files = os.listdir(SOURCE_DIR)\n",
        "\n",
        "  # Print messages about zero-length images\n",
        "  for file in files:\n",
        "    if os.path.getsize(os.path.join(SOURCE_DIR, file)) == 0:\n",
        "      print(f\"{file} is zero length, so ignoring.\")\n",
        "\n",
        "  # Remove zero-sized images\n",
        "  files = [file for file in files if os.path.getsize(os.path.join(SOURCE_DIR, file)) > 0]\n",
        "\n",
        "  # Calculate the split size\n",
        "  split_count = len(files) - int(len(files) * SPLIT_SIZE)\n",
        "  split_index = len(files)//split_count\n",
        "\n",
        "  # Split the files into training and validation sets\n",
        "  training_files = []\n",
        "  validation_files = []\n",
        "\n",
        "  for i in range(len(files)):\n",
        "    if (i%split_index) == 0:\n",
        "      validation_files.append(files[i])\n",
        "    else:\n",
        "      training_files.append(files[i])\n",
        "\n",
        "  # training_files = files[split_count:]\n",
        "  # validation_files = files[:split_count]\n",
        "\n",
        "  # Copy training files to the training directory\n",
        "  for file in training_files:\n",
        "    source_file = os.path.join(SOURCE_DIR, file)\n",
        "    destination_file = os.path.join(TRAINING_DIR, file)\n",
        "    shutil.copyfile(source_file, destination_file)\n",
        "\n",
        "  # Copy validation files to the validation directory\n",
        "  for file in validation_files:\n",
        "    source_file = os.path.join(SOURCE_DIR, file)\n",
        "    destination_file = os.path.join(VALIDATION_DIR, file)\n",
        "    shutil.copyfile(source_file, destination_file)"
      ]
    },
    {
      "cell_type": "code",
      "execution_count": null,
      "metadata": {
        "id": "8huuy7uZGEg0"
      },
      "outputs": [],
      "source": [
        "# Make directories for each class in training and validation sets\n",
        "classes_native = os.listdir(SOURCE_DIR)\n",
        "\n",
        "for class_name in classes_native:\n",
        "    TRAINING_CLASS_DIR = os.path.join(TRAINING_DIR, class_name)\n",
        "    VALIDATION_CLASS_DIR = os.path.join(VALIDATION_DIR, class_name)\n",
        "\n",
        "    # Empty directories in case you run this cell multiple times\n",
        "    if len(os.listdir(TRAINING_CLASS_DIR)) > 0:\n",
        "      for file in os.scandir(TRAINING_CLASS_DIR):\n",
        "        os.remove(file.path)\n",
        "    if len(os.listdir(VALIDATION_CLASS_DIR)) > 0:\n",
        "      for file in os.scandir(VALIDATION_CLASS_DIR):\n",
        "        os.remove(file.path)\n",
        "\n",
        "# Run the function\n",
        "# NOTE: Messages about zero length images should be printed out\n",
        "for i in range(len(classes_native)):\n",
        "    TRAINING_CLASS_DIR = os.path.join(TRAINING_DIR, classes[i])\n",
        "    VALIDATION_CLASS_DIR = os.path.join(VALIDATION_DIR, classes[i])\n",
        "\n",
        "    SOURCE_CLASS_DIR = os.path.join(SOURCE_DIR, classes_native[i])\n",
        "    split_data(SOURCE_CLASS_DIR,\n",
        "               TRAINING_CLASS_DIR,\n",
        "               VALIDATION_CLASS_DIR,\n",
        "               split_size)"
      ]
    },
    {
      "cell_type": "code",
      "execution_count": null,
      "metadata": {
        "colab": {
          "base_uri": "https://localhost:8080/"
        },
        "id": "lHGC8zYINDhV",
        "outputId": "0286bd8a-0e82-4b6c-8be3-9fbfc18bde6d"
      },
      "outputs": [
        {
          "name": "stdout",
          "output_type": "stream",
          "text": [
            "Original plastik_kacang_kupas_duakelinci's directory has 200 images\n",
            "There are 166 images of plastik_kacang_kupas_duakelinci for training\n",
            "There are 34 images of plastik_kacang_kupas_duakelinci for validation\n",
            "\n",
            "\n",
            "Original plastik_ringan_keju_twistko's directory has 200 images\n",
            "There are 166 images of plastik_ringan_keju_twistko for training\n",
            "There are 34 images of plastik_ringan_keju_twistko for validation\n",
            "\n",
            "\n",
            "Original botol_teh_ori_tehgelas's directory has 200 images\n",
            "There are 166 images of botol_teh_ori_tehgelas for training\n",
            "There are 34 images of botol_teh_ori_tehgelas for validation\n",
            "\n",
            "\n",
            "Original plastik_mie_goreng_indomie's directory has 200 images\n",
            "There are 166 images of plastik_mie_goreng_indomie for training\n",
            "There are 34 images of plastik_mie_goreng_indomie for validation\n",
            "\n",
            "\n",
            "Original kotak_jus_jerukperasless_nutrisaari's directory has 200 images\n",
            "There are 166 images of kotak_jus_jerukperasless_nutrisaari for training\n",
            "There are 34 images of kotak_jus_jerukperasless_nutrisaari for validation\n",
            "\n",
            "\n",
            "Original botol_teh_less_tehpucuk's directory has 200 images\n",
            "There are 166 images of botol_teh_less_tehpucuk for training\n",
            "There are 34 images of botol_teh_less_tehpucuk for validation\n",
            "\n",
            "\n",
            "Original plastik_mie_sotospesial_indomie's directory has 200 images\n",
            "There are 166 images of plastik_mie_sotospesial_indomie for training\n",
            "There are 34 images of plastik_mie_sotospesial_indomie for validation\n",
            "\n",
            "\n",
            "Original kotak_jus_apel_abc's directory has 200 images\n",
            "There are 166 images of kotak_jus_apel_abc for training\n",
            "There are 34 images of kotak_jus_apel_abc for validation\n",
            "\n",
            "\n",
            "Original botol_yogurt_ori_cimory's directory has 200 images\n",
            "There are 166 images of botol_yogurt_ori_cimory for training\n",
            "There are 34 images of botol_yogurt_ori_cimory for validation\n",
            "\n",
            "\n",
            "Original kotak_jus_jambu_abc's directory has 200 images\n",
            "There are 166 images of kotak_jus_jambu_abc for training\n",
            "There are 34 images of kotak_jus_jambu_abc for validation\n",
            "\n",
            "\n",
            "Original cup_mie_ayambawang_popmie's directory has 200 images\n",
            "There are 166 images of cup_mie_ayambawang_popmie for training\n",
            "There are 34 images of cup_mie_ayambawang_popmie for validation\n",
            "\n",
            "\n",
            "Original plastik_mie_goreng_sedaap's directory has 200 images\n",
            "There are 166 images of plastik_mie_goreng_sedaap for training\n",
            "There are 34 images of plastik_mie_goreng_sedaap for validation\n",
            "\n",
            "\n",
            "Original cup_mie_ayam_popmie's directory has 200 images\n",
            "There are 166 images of cup_mie_ayam_popmie for training\n",
            "There are 34 images of cup_mie_ayam_popmie for validation\n",
            "\n",
            "\n",
            "Original botol_soda_zerosugar_cocacola's directory has 200 images\n",
            "There are 166 images of botol_soda_zerosugar_cocacola for training\n",
            "There are 34 images of botol_soda_zerosugar_cocacola for validation\n",
            "\n",
            "\n",
            "Original kaleng_susu_ori_beruang's directory has 200 images\n",
            "There are 166 images of kaleng_susu_ori_beruang for training\n",
            "There are 34 images of kaleng_susu_ori_beruang for validation\n",
            "\n",
            "\n",
            "Original kotak_susu_straberry_ultramilk's directory has 200 images\n",
            "There are 166 images of kotak_susu_straberry_ultramilk for training\n",
            "There are 34 images of kotak_susu_straberry_ultramilk for validation\n",
            "\n",
            "\n",
            "Original kotak_jus_jerukmaduless_nutrisari's directory has 200 images\n",
            "There are 166 images of kotak_jus_jerukmaduless_nutrisari for training\n",
            "There are 34 images of kotak_jus_jerukmaduless_nutrisari for validation\n",
            "\n",
            "\n",
            "Original plastik_coklat_susu_dairymilk's directory has 200 images\n",
            "There are 166 images of plastik_coklat_susu_dairymilk for training\n",
            "There are 34 images of plastik_coklat_susu_dairymilk for validation\n",
            "\n",
            "\n",
            "Original botol_teh_blackcurrant_fruittea's directory has 200 images\n",
            "There are 166 images of botol_teh_blackcurrant_fruittea for training\n",
            "There are 34 images of botol_teh_blackcurrant_fruittea for validation\n",
            "\n",
            "\n",
            "Original plastik_mie_sotomie_indomie's directory has 200 images\n",
            "There are 166 images of plastik_mie_sotomie_indomie for training\n",
            "There are 34 images of plastik_mie_sotomie_indomie for validation\n",
            "\n",
            "\n",
            "Original botol_soda_strawberry_fanta's directory has 200 images\n",
            "There are 166 images of botol_soda_strawberry_fanta for training\n",
            "There are 34 images of botol_soda_strawberry_fanta for validation\n",
            "\n",
            "\n",
            "Original cup_mie_sotoayam_popmie's directory has 200 images\n",
            "There are 166 images of cup_mie_sotoayam_popmie for training\n",
            "There are 34 images of cup_mie_sotoayam_popmie for validation\n",
            "\n",
            "\n",
            "Original botol_kopi_cappuccino_golda's directory has 200 images\n",
            "There are 166 images of botol_kopi_cappuccino_golda for training\n",
            "There are 34 images of botol_kopi_cappuccino_golda for validation\n",
            "\n",
            "\n",
            "Original botol_kopi_aren_kopken's directory has 200 images\n",
            "There are 166 images of botol_kopi_aren_kopken for training\n",
            "There are 34 images of botol_kopi_aren_kopken for validation\n",
            "\n",
            "\n",
            "Original kotak_susu_fullcream_ultramilk's directory has 200 images\n",
            "There are 166 images of kotak_susu_fullcream_ultramilk for training\n",
            "There are 34 images of kotak_susu_fullcream_ultramilk for validation\n",
            "\n",
            "\n",
            "Original botol_soda_jeruk_fanta's directory has 200 images\n",
            "There are 166 images of botol_soda_jeruk_fanta for training\n",
            "There are 34 images of botol_soda_jeruk_fanta for validation\n",
            "\n",
            "\n",
            "Original botol_teh_ori_sosro's directory has 200 images\n",
            "There are 166 images of botol_teh_ori_sosro for training\n",
            "There are 34 images of botol_teh_ori_sosro for validation\n",
            "\n",
            "\n",
            "Original plastik_coklat_dark_silverqueen's directory has 200 images\n",
            "There are 166 images of plastik_coklat_dark_silverqueen for training\n",
            "There are 34 images of plastik_coklat_dark_silverqueen for validation\n",
            "\n",
            "\n",
            "Original plastik_mie_ayambawang_sedaap's directory has 200 images\n",
            "There are 166 images of plastik_mie_ayambawang_sedaap for training\n",
            "There are 34 images of plastik_mie_ayambawang_sedaap for validation\n",
            "\n",
            "\n",
            "Original plastik_mie_ayambawang_indomie's directory has 200 images\n",
            "There are 166 images of plastik_mie_ayambawang_indomie for training\n",
            "There are 34 images of plastik_mie_ayambawang_indomie for validation\n",
            "\n",
            "\n",
            "Original plastik_mie_soto_sedaap's directory has 200 images\n",
            "There are 166 images of plastik_mie_soto_sedaap for training\n",
            "There are 34 images of plastik_mie_soto_sedaap for validation\n",
            "\n",
            "\n",
            "Original kaleng_soda_limeapel_greensands's directory has 200 images\n",
            "There are 166 images of kaleng_soda_limeapel_greensands for training\n",
            "There are 34 images of kaleng_soda_limeapel_greensands for validation\n",
            "\n",
            "\n",
            "Original plastik_mie_kariayam_indomie's directory has 200 images\n",
            "There are 166 images of plastik_mie_kariayam_indomie for training\n",
            "There are 34 images of plastik_mie_kariayam_indomie for validation\n",
            "\n",
            "\n",
            "Original botol_soda_ori_tebs's directory has 200 images\n",
            "There are 166 images of botol_soda_ori_tebs for training\n",
            "There are 34 images of botol_soda_ori_tebs for validation\n",
            "\n",
            "\n",
            "Original kaleng_soda_sodawater_polaris's directory has 200 images\n",
            "There are 166 images of kaleng_soda_sodawater_polaris for training\n",
            "There are 34 images of kaleng_soda_sodawater_polaris for validation\n",
            "\n",
            "\n",
            "Original plastik_biskuit_doublechoc_goodtime's directory has 200 images\n",
            "There are 166 images of plastik_biskuit_doublechoc_goodtime for training\n",
            "There are 34 images of plastik_biskuit_doublechoc_goodtime for validation\n",
            "\n",
            "\n",
            "Original plastik_mie_ayampanggangjumbo_indomie's directory has 200 images\n",
            "There are 166 images of plastik_mie_ayampanggangjumbo_indomie for training\n",
            "There are 34 images of plastik_mie_ayampanggangjumbo_indomie for validation\n",
            "\n",
            "\n",
            "Original kaleng_soda_strawberry_fanta's directory has 200 images\n",
            "There are 166 images of kaleng_soda_strawberry_fanta for training\n",
            "There are 34 images of kaleng_soda_strawberry_fanta for validation\n",
            "\n",
            "\n",
            "Original botol_soda_ori_cocacola's directory has 200 images\n",
            "There are 166 images of botol_soda_ori_cocacola for training\n",
            "There are 34 images of botol_soda_ori_cocacola for validation\n",
            "\n",
            "\n",
            "Original cup_mie_goreng_sedaap's directory has 200 images\n",
            "There are 166 images of cup_mie_goreng_sedaap for training\n",
            "There are 34 images of cup_mie_goreng_sedaap for validation\n",
            "\n",
            "\n",
            "Original botol_teh_apel_frestea's directory has 200 images\n",
            "There are 166 images of botol_teh_apel_frestea for training\n",
            "There are 34 images of botol_teh_apel_frestea for validation\n",
            "\n",
            "\n",
            "Original kaleng_soda_ori_cocacola's directory has 200 images\n",
            "There are 166 images of kaleng_soda_ori_cocacola for training\n",
            "There are 34 images of kaleng_soda_ori_cocacola for validation\n",
            "\n",
            "\n",
            "Original kaca_nrg_ori_kratingdeng's directory has 200 images\n",
            "There are 166 images of kaca_nrg_ori_kratingdeng for training\n",
            "There are 34 images of kaca_nrg_ori_kratingdeng for validation\n",
            "\n",
            "\n",
            "Original kotak_susu_coklat_ultramilk's directory has 200 images\n",
            "There are 166 images of kotak_susu_coklat_ultramilk for training\n",
            "There are 34 images of kotak_susu_coklat_ultramilk for validation\n",
            "\n",
            "\n",
            "Original plastik_mie_ayamkremesisidua_suksess's directory has 200 images\n",
            "There are 166 images of plastik_mie_ayamkremesisidua_suksess for training\n",
            "There are 34 images of plastik_mie_ayamkremesisidua_suksess for validation\n",
            "\n",
            "\n",
            "Original plastik_popcorn_ori_poppypop's directory has 200 images\n",
            "There are 166 images of plastik_popcorn_ori_poppypop for training\n",
            "There are 34 images of plastik_popcorn_ori_poppypop for validation\n",
            "\n",
            "\n",
            "Original botol_teh_less_sosro's directory has 200 images\n",
            "There are 166 images of botol_teh_less_sosro for training\n",
            "There are 34 images of botol_teh_less_sosro for validation\n",
            "\n",
            "\n",
            "Original cup_mie_kariayam_popmie's directory has 200 images\n",
            "There are 166 images of cup_mie_kariayam_popmie for training\n",
            "There are 34 images of cup_mie_kariayam_popmie for validation\n",
            "\n",
            "\n",
            "Original plastik_biskuit_classic_goodtime's directory has 200 images\n",
            "There are 166 images of plastik_biskuit_classic_goodtime for training\n",
            "There are 34 images of plastik_biskuit_classic_goodtime for validation\n",
            "\n",
            "\n",
            "Original botol_elektrolit_ori_pocari's directory has 200 images\n",
            "There are 166 images of botol_elektrolit_ori_pocari for training\n",
            "There are 34 images of botol_elektrolit_ori_pocari for validation\n",
            "\n",
            "\n",
            "Original kaleng_soda_ori_sprite's directory has 200 images\n",
            "There are 166 images of kaleng_soda_ori_sprite for training\n",
            "There are 34 images of kaleng_soda_ori_sprite for validation\n",
            "\n",
            "\n",
            "Original zipper_kacang_honeyreasted_mrp's directory has 200 images\n",
            "There are 166 images of zipper_kacang_honeyreasted_mrp for training\n",
            "There are 34 images of zipper_kacang_honeyreasted_mrp for validation\n",
            "\n",
            "\n",
            "Original botol_yogurt_mixedfruit_cimory's directory has 200 images\n",
            "There are 166 images of botol_yogurt_mixedfruit_cimory for training\n",
            "There are 34 images of botol_yogurt_mixedfruit_cimory for validation\n",
            "\n",
            "\n",
            "Original botol_kopi_susu_abc's directory has 200 images\n",
            "There are 166 images of botol_kopi_susu_abc for training\n",
            "There are 34 images of botol_kopi_susu_abc for validation\n",
            "\n",
            "\n"
          ]
        }
      ],
      "source": [
        "# Your function should perform copies rather than moving images so original directories should contain unchanged images\n",
        "for i in range(len(classes_native)):\n",
        "    TRAINING_CLASS_DIR = os.path.join(TRAINING_DIR, classes[i])\n",
        "    VALIDATION_CLASS_DIR = os.path.join(VALIDATION_DIR, classes[i])\n",
        "    SOURCE_CLASS_DIR = os.path.join(SOURCE_DIR, classes_native[i])\n",
        "\n",
        "    print(f\"Original {classes[i]}'s directory has {len(os.listdir(SOURCE_CLASS_DIR))} images\")\n",
        "\n",
        "    # Training and validation splits. Check that the number of images matches the expected output.\n",
        "    print(f\"There are {len(os.listdir(TRAINING_CLASS_DIR))} images of {classes[i]} for training\")\n",
        "    print(f\"There are {len(os.listdir(VALIDATION_CLASS_DIR))} images of {classes[i]} for validation\")\n",
        "\n",
        "    print(f\"\\n\")"
      ]
    },
    {
      "cell_type": "markdown",
      "metadata": {
        "id": "Pl5WxTZvQsPH"
      },
      "source": [
        "## Data Augmentation Handling"
      ]
    },
    {
      "cell_type": "markdown",
      "metadata": {
        "id": "zfYq-v7gNjpB"
      },
      "source": [
        "### with Image Augmentation"
      ]
    },
    {
      "cell_type": "code",
      "execution_count": null,
      "metadata": {
        "id": "o5AaFI3dNlfS"
      },
      "outputs": [],
      "source": [
        "def train_val_generators(TRAINING_DIR, VALIDATION_DIR):\n",
        "\n",
        "  # Training datagen\n",
        "  train_datagen = ImageDataGenerator(rescale=(1./255),\n",
        "                                     rotation_range=30,\n",
        "                                     width_shift_range=0.2,\n",
        "                                     height_shift_range=0.2,\n",
        "                                     zoom_range=0.3,\n",
        "                                     brightness_range=[0.05, 0.3],\n",
        "                                     fill_mode='nearest')\n",
        "\n",
        "  # Training generator\n",
        "  train_generator = train_datagen.flow_from_directory(\n",
        "      directory=TRAINING_DIR,\n",
        "      batch_size=100,\n",
        "      class_mode='sparse',\n",
        "      target_size=(input_height, input_width))\n",
        "\n",
        "  # ==================================================\n",
        "\n",
        "  # Validation datagen\n",
        "  validation_datagen = ImageDataGenerator(rescale=(1./255))\n",
        "\n",
        "  # Validation generator\n",
        "  validation_generator = validation_datagen.flow_from_directory(\n",
        "      directory=VALIDATION_DIR,\n",
        "      batch_size=100,\n",
        "      class_mode='sparse',\n",
        "      target_size=(input_height, input_width))\n",
        "\n",
        "  return train_generator, validation_generator"
      ]
    },
    {
      "cell_type": "markdown",
      "metadata": {
        "id": "jxmE8lvKQnD_"
      },
      "source": [
        "### no Image Augmentation"
      ]
    },
    {
      "cell_type": "code",
      "execution_count": null,
      "metadata": {
        "id": "AW72p8hvQmjQ"
      },
      "outputs": [],
      "source": [
        "def train_val_generators(TRAINING_DIR, VALIDATION_DIR):\n",
        "\n",
        "  # Training datagen\n",
        "  train_datagen = ImageDataGenerator(rescale=(1./255))\n",
        "\n",
        "  # Training generator\n",
        "  train_generator = train_datagen.flow_from_directory(\n",
        "      directory=TRAINING_DIR,\n",
        "      batch_size=20,\n",
        "      class_mode='sparse',\n",
        "      target_size=(input_height, input_width))\n",
        "\n",
        "  # ==================================================\n",
        "\n",
        "  # Validation datagen\n",
        "  validation_datagen = ImageDataGenerator(rescale=(1./255))\n",
        "\n",
        "  # Validation generator\n",
        "  validation_generator = validation_datagen.flow_from_directory(\n",
        "      directory=VALIDATION_DIR,\n",
        "      batch_size=20,\n",
        "      class_mode='sparse',\n",
        "      target_size=(input_height, input_width))\n",
        "\n",
        "  return train_generator, validation_generator"
      ]
    },
    {
      "cell_type": "markdown",
      "metadata": {
        "id": "V19z0azNwjxR"
      },
      "source": [
        "### rest of the code..."
      ]
    },
    {
      "cell_type": "code",
      "execution_count": null,
      "metadata": {
        "colab": {
          "base_uri": "https://localhost:8080/"
        },
        "id": "TxitsB8ZNofL",
        "outputId": "62a91885-7594-44a4-f9a3-3ce216ffa193"
      },
      "outputs": [
        {
          "name": "stdout",
          "output_type": "stream",
          "text": [
            "Found 8964 images belonging to 54 classes.\n",
            "Found 1836 images belonging to 54 classes.\n"
          ]
        }
      ],
      "source": [
        "# Test your generators\n",
        "train_generator, validation_generator = train_val_generators(TRAINING_DIR, VALIDATION_DIR)"
      ]
    },
    {
      "cell_type": "code",
      "execution_count": null,
      "metadata": {
        "colab": {
          "base_uri": "https://localhost:8080/"
        },
        "id": "vOb8KW7ZuMQn",
        "outputId": "989b2113-1f44-44db-eda1-f57d82311202"
      },
      "outputs": [
        {
          "name": "stdout",
          "output_type": "stream",
          "text": [
            "(100, 224, 224, 3)\n",
            "(100,)\n"
          ]
        }
      ],
      "source": [
        "x_batch_train, y_batch_train = next(train_generator)\n",
        "print(x_batch_train.shape)  # Should be (batch_size, height, width, channels)\n",
        "print(y_batch_train.shape)  # Should be (batch_size, num_classes)"
      ]
    },
    {
      "cell_type": "code",
      "execution_count": null,
      "metadata": {
        "colab": {
          "base_uri": "https://localhost:8080/"
        },
        "id": "2OxeKtPtuRhA",
        "outputId": "317551fd-d0ec-4f8a-b68b-4cedbf991a0c"
      },
      "outputs": [
        {
          "name": "stdout",
          "output_type": "stream",
          "text": [
            "(100, 224, 224, 3)\n",
            "(100,)\n"
          ]
        }
      ],
      "source": [
        "x_batch_val, y_batch_val = next(validation_generator)\n",
        "print(x_batch_val.shape)  # Should be (batch_size, height, width, channels)\n",
        "print(y_batch_val.shape)  # Should be (batch_size, num_classes)"
      ]
    },
    {
      "cell_type": "code",
      "execution_count": null,
      "metadata": {
        "colab": {
          "base_uri": "https://localhost:8080/"
        },
        "id": "RwSr1qdZ_Did",
        "outputId": "87205c22-23d6-4b36-cafc-08317e483e40"
      },
      "outputs": [
        {
          "name": "stdout",
          "output_type": "stream",
          "text": [
            "Class indices: {'botol_elektrolit_ori_pocari': 0, 'botol_kopi_aren_kopken': 1, 'botol_kopi_cappuccino_golda': 2, 'botol_kopi_susu_abc': 3, 'botol_soda_jeruk_fanta': 4, 'botol_soda_ori_cocacola': 5, 'botol_soda_ori_tebs': 6, 'botol_soda_strawberry_fanta': 7, 'botol_soda_zerosugar_cocacola': 8, 'botol_teh_apel_frestea': 9, 'botol_teh_blackcurrant_fruittea': 10, 'botol_teh_less_sosro': 11, 'botol_teh_less_tehpucuk': 12, 'botol_teh_ori_sosro': 13, 'botol_teh_ori_tehgelas': 14, 'botol_yogurt_mixedfruit_cimory': 15, 'botol_yogurt_ori_cimory': 16, 'cup_mie_ayam_popmie': 17, 'cup_mie_ayambawang_popmie': 18, 'cup_mie_goreng_sedaap': 19, 'cup_mie_kariayam_popmie': 20, 'cup_mie_sotoayam_popmie': 21, 'kaca_nrg_ori_kratingdeng': 22, 'kaleng_soda_limeapel_greensands': 23, 'kaleng_soda_ori_cocacola': 24, 'kaleng_soda_ori_sprite': 25, 'kaleng_soda_sodawater_polaris': 26, 'kaleng_soda_strawberry_fanta': 27, 'kaleng_susu_ori_beruang': 28, 'kotak_jus_apel_abc': 29, 'kotak_jus_jambu_abc': 30, 'kotak_jus_jerukmaduless_nutrisari': 31, 'kotak_jus_jerukperasless_nutrisaari': 32, 'kotak_susu_coklat_ultramilk': 33, 'kotak_susu_fullcream_ultramilk': 34, 'kotak_susu_straberry_ultramilk': 35, 'plastik_biskuit_classic_goodtime': 36, 'plastik_biskuit_doublechoc_goodtime': 37, 'plastik_coklat_dark_silverqueen': 38, 'plastik_coklat_susu_dairymilk': 39, 'plastik_kacang_kupas_duakelinci': 40, 'plastik_mie_ayambawang_indomie': 41, 'plastik_mie_ayambawang_sedaap': 42, 'plastik_mie_ayamkremesisidua_suksess': 43, 'plastik_mie_ayampanggangjumbo_indomie': 44, 'plastik_mie_goreng_indomie': 45, 'plastik_mie_goreng_sedaap': 46, 'plastik_mie_kariayam_indomie': 47, 'plastik_mie_soto_sedaap': 48, 'plastik_mie_sotomie_indomie': 49, 'plastik_mie_sotospesial_indomie': 50, 'plastik_popcorn_ori_poppypop': 51, 'plastik_ringan_keju_twistko': 52, 'zipper_kacang_honeyreasted_mrp': 53}\n",
            "Classes: [ 0  0  0 ... 53 53 53]\n",
            "Validation Class indices: {'botol_elektrolit_ori_pocari': 0, 'botol_kopi_aren_kopken': 1, 'botol_kopi_cappuccino_golda': 2, 'botol_kopi_susu_abc': 3, 'botol_soda_jeruk_fanta': 4, 'botol_soda_ori_cocacola': 5, 'botol_soda_ori_tebs': 6, 'botol_soda_strawberry_fanta': 7, 'botol_soda_zerosugar_cocacola': 8, 'botol_teh_apel_frestea': 9, 'botol_teh_blackcurrant_fruittea': 10, 'botol_teh_less_sosro': 11, 'botol_teh_less_tehpucuk': 12, 'botol_teh_ori_sosro': 13, 'botol_teh_ori_tehgelas': 14, 'botol_yogurt_mixedfruit_cimory': 15, 'botol_yogurt_ori_cimory': 16, 'cup_mie_ayam_popmie': 17, 'cup_mie_ayambawang_popmie': 18, 'cup_mie_goreng_sedaap': 19, 'cup_mie_kariayam_popmie': 20, 'cup_mie_sotoayam_popmie': 21, 'kaca_nrg_ori_kratingdeng': 22, 'kaleng_soda_limeapel_greensands': 23, 'kaleng_soda_ori_cocacola': 24, 'kaleng_soda_ori_sprite': 25, 'kaleng_soda_sodawater_polaris': 26, 'kaleng_soda_strawberry_fanta': 27, 'kaleng_susu_ori_beruang': 28, 'kotak_jus_apel_abc': 29, 'kotak_jus_jambu_abc': 30, 'kotak_jus_jerukmaduless_nutrisari': 31, 'kotak_jus_jerukperasless_nutrisaari': 32, 'kotak_susu_coklat_ultramilk': 33, 'kotak_susu_fullcream_ultramilk': 34, 'kotak_susu_straberry_ultramilk': 35, 'plastik_biskuit_classic_goodtime': 36, 'plastik_biskuit_doublechoc_goodtime': 37, 'plastik_coklat_dark_silverqueen': 38, 'plastik_coklat_susu_dairymilk': 39, 'plastik_kacang_kupas_duakelinci': 40, 'plastik_mie_ayambawang_indomie': 41, 'plastik_mie_ayambawang_sedaap': 42, 'plastik_mie_ayamkremesisidua_suksess': 43, 'plastik_mie_ayampanggangjumbo_indomie': 44, 'plastik_mie_goreng_indomie': 45, 'plastik_mie_goreng_sedaap': 46, 'plastik_mie_kariayam_indomie': 47, 'plastik_mie_soto_sedaap': 48, 'plastik_mie_sotomie_indomie': 49, 'plastik_mie_sotospesial_indomie': 50, 'plastik_popcorn_ori_poppypop': 51, 'plastik_ringan_keju_twistko': 52, 'zipper_kacang_honeyreasted_mrp': 53}\n",
            "Validation Classes: [ 0  0  0 ... 53 53 53]\n"
          ]
        }
      ],
      "source": [
        "# Check the class indices to see the order of the labels\n",
        "print(\"Class indices:\", train_generator.class_indices)\n",
        "print(\"Classes:\", train_generator.classes)\n",
        "\n",
        "# Similarly for validation generator\n",
        "print(\"Validation Class indices:\", validation_generator.class_indices)\n",
        "print(\"Validation Classes:\", validation_generator.classes)"
      ]
    },
    {
      "cell_type": "markdown",
      "metadata": {
        "id": "T7LwrYtTgzTa"
      },
      "source": [
        "# Data Processing"
      ]
    },
    {
      "cell_type": "markdown",
      "metadata": {
        "id": "BA2YU31am2eV"
      },
      "source": [
        "## Model Creation"
      ]
    },
    {
      "cell_type": "code",
      "execution_count": null,
      "metadata": {
        "id": "oPsYff6kXZlE"
      },
      "outputs": [],
      "source": [
        "def baseLayers(inputs):\n",
        "  x = tf.keras.layers.Conv2D(filters = 32, kernel_size = 3, strides = 2, activation = 'relu', padding='same')(inputs)\n",
        "  x = tf.keras.layers.MaxPooling2D(pool_size=(2, 2), strides=2, padding='same')(x)\n",
        "\n",
        "\n",
        "  x = tf.keras.layers.Conv2D(filters = 64, kernel_size = 3, strides = 2, activation = 'relu', padding='same')(x)\n",
        "  x = tf.keras.layers.MaxPooling2D(pool_size=(2, 2), strides=2, padding='same')(x)\n",
        "\n",
        "\n",
        "  x = tf.keras.layers.Conv2D(filters = 128, kernel_size = 3, strides = 2, activation = 'relu', padding='same')(x)\n",
        "  x = tf.keras.layers.MaxPooling2D(pool_size=(2, 2), strides=2, padding='same')(x)\n",
        "\n",
        "\n",
        "  x = tf.keras.layers.BatchNormalization()(x)\n",
        "  return x"
      ]
    },
    {
      "cell_type": "code",
      "execution_count": null,
      "metadata": {
        "id": "bVtbYUpAbv1C"
      },
      "outputs": [],
      "source": [
        "def basicModel(inputs, num_classes):\n",
        "  x_a = baseLayers(inputs)\n",
        "  x_a = tf.keras.layers.Dropout(0.4)(x_a)\n",
        "  x_a = tf.keras.layers.Flatten()(x_a)\n",
        "\n",
        "  x_b = baseLayers(tf.image.rgb_to_grayscale(inputs))\n",
        "  x_b = tf.keras.layers.Dropout(0.2)(x_b)\n",
        "  x_b = tf.keras.layers.Flatten()(x_b)\n",
        "\n",
        "  x = tf.keras.layers.Concatenate()([x_a, x_b])\n",
        "  x = tf.keras.layers.Activation('relu')(x)\n",
        "\n",
        "  x = tf.keras.layers.Dense(512, activation='relu')(x)\n",
        "  x = tf.keras.layers.Dense(1024, activation='relu')(x)\n",
        "  x = tf.keras.layers.Dense(1024, activation='relu')(x)\n",
        "  x = tf.keras.layers.Dense(num_classes, activation='softmax')(x)\n",
        "\n",
        "  return Model(inputs=inputs, outputs=x)"
      ]
    },
    {
      "cell_type": "markdown",
      "metadata": {
        "id": "96ok8O1Wgs6b"
      },
      "source": [
        "## Model Training"
      ]
    },
    {
      "cell_type": "code",
      "execution_count": null,
      "metadata": {
        "id": "XUj4xRSS4Bgg"
      },
      "outputs": [],
      "source": [
        "# myCNN = CNNPalingPerkasa(num_classes=len(classes_native))\n",
        "# myCNN = MobileNet(num_classes=len(classes_native))\n",
        "myCNN = basicModel(tf.keras.layers.Input(shape=(input_height, input_width, num_channels)),\n",
        "                  num_classes=len(classes_native))"
      ]
    },
    {
      "cell_type": "code",
      "execution_count": null,
      "metadata": {
        "id": "9P--EQo-oa73"
      },
      "outputs": [],
      "source": [
        "myCNN.build(input_shape=(None, input_height, input_width, num_channels))"
      ]
    },
    {
      "cell_type": "code",
      "execution_count": null,
      "metadata": {
        "colab": {
          "base_uri": "https://localhost:8080/"
        },
        "id": "3TJDlAjDOJkF",
        "outputId": "e7ecb76b-4411-45c9-ab29-873d6b3d46ed"
      },
      "outputs": [
        {
          "name": "stdout",
          "output_type": "stream",
          "text": [
            "Model: \"model_2\"\n",
            "__________________________________________________________________________________________________\n",
            " Layer (type)                Output Shape                 Param #   Connected to                  \n",
            "==================================================================================================\n",
            " input_3 (InputLayer)        [(None, 224, 224, 3)]        0         []                            \n",
            "                                                                                                  \n",
            " tf.image.rgb_to_grayscale_  (None, 224, 224, 1)          0         ['input_3[0][0]']             \n",
            " 2 (TFOpLambda)                                                                                   \n",
            "                                                                                                  \n",
            " conv2d_12 (Conv2D)          (None, 112, 112, 32)         896       ['input_3[0][0]']             \n",
            "                                                                                                  \n",
            " conv2d_15 (Conv2D)          (None, 112, 112, 32)         320       ['tf.image.rgb_to_grayscale_2[\n",
            "                                                                    0][0]']                       \n",
            "                                                                                                  \n",
            " max_pooling2d_12 (MaxPooli  (None, 56, 56, 32)           0         ['conv2d_12[0][0]']           \n",
            " ng2D)                                                                                            \n",
            "                                                                                                  \n",
            " max_pooling2d_15 (MaxPooli  (None, 56, 56, 32)           0         ['conv2d_15[0][0]']           \n",
            " ng2D)                                                                                            \n",
            "                                                                                                  \n",
            " conv2d_13 (Conv2D)          (None, 28, 28, 64)           18496     ['max_pooling2d_12[0][0]']    \n",
            "                                                                                                  \n",
            " conv2d_16 (Conv2D)          (None, 28, 28, 64)           18496     ['max_pooling2d_15[0][0]']    \n",
            "                                                                                                  \n",
            " max_pooling2d_13 (MaxPooli  (None, 14, 14, 64)           0         ['conv2d_13[0][0]']           \n",
            " ng2D)                                                                                            \n",
            "                                                                                                  \n",
            " max_pooling2d_16 (MaxPooli  (None, 14, 14, 64)           0         ['conv2d_16[0][0]']           \n",
            " ng2D)                                                                                            \n",
            "                                                                                                  \n",
            " conv2d_14 (Conv2D)          (None, 7, 7, 128)            73856     ['max_pooling2d_13[0][0]']    \n",
            "                                                                                                  \n",
            " conv2d_17 (Conv2D)          (None, 7, 7, 128)            73856     ['max_pooling2d_16[0][0]']    \n",
            "                                                                                                  \n",
            " max_pooling2d_14 (MaxPooli  (None, 4, 4, 128)            0         ['conv2d_14[0][0]']           \n",
            " ng2D)                                                                                            \n",
            "                                                                                                  \n",
            " max_pooling2d_17 (MaxPooli  (None, 4, 4, 128)            0         ['conv2d_17[0][0]']           \n",
            " ng2D)                                                                                            \n",
            "                                                                                                  \n",
            " batch_normalization_4 (Bat  (None, 4, 4, 128)            512       ['max_pooling2d_14[0][0]']    \n",
            " chNormalization)                                                                                 \n",
            "                                                                                                  \n",
            " batch_normalization_5 (Bat  (None, 4, 4, 128)            512       ['max_pooling2d_17[0][0]']    \n",
            " chNormalization)                                                                                 \n",
            "                                                                                                  \n",
            " dropout_4 (Dropout)         (None, 4, 4, 128)            0         ['batch_normalization_4[0][0]'\n",
            "                                                                    ]                             \n",
            "                                                                                                  \n",
            " dropout_5 (Dropout)         (None, 4, 4, 128)            0         ['batch_normalization_5[0][0]'\n",
            "                                                                    ]                             \n",
            "                                                                                                  \n",
            " flatten_4 (Flatten)         (None, 2048)                 0         ['dropout_4[0][0]']           \n",
            "                                                                                                  \n",
            " flatten_5 (Flatten)         (None, 2048)                 0         ['dropout_5[0][0]']           \n",
            "                                                                                                  \n",
            " concatenate_2 (Concatenate  (None, 4096)                 0         ['flatten_4[0][0]',           \n",
            " )                                                                   'flatten_5[0][0]']           \n",
            "                                                                                                  \n",
            " activation_2 (Activation)   (None, 4096)                 0         ['concatenate_2[0][0]']       \n",
            "                                                                                                  \n",
            " dense_8 (Dense)             (None, 512)                  2097664   ['activation_2[0][0]']        \n",
            "                                                                                                  \n",
            " dense_9 (Dense)             (None, 1024)                 525312    ['dense_8[0][0]']             \n",
            "                                                                                                  \n",
            " dense_10 (Dense)            (None, 1024)                 1049600   ['dense_9[0][0]']             \n",
            "                                                                                                  \n",
            " dense_11 (Dense)            (None, 54)                   55350     ['dense_10[0][0]']            \n",
            "                                                                                                  \n",
            "==================================================================================================\n",
            "Total params: 3914870 (14.93 MB)\n",
            "Trainable params: 3914358 (14.93 MB)\n",
            "Non-trainable params: 512 (2.00 KB)\n",
            "__________________________________________________________________________________________________\n"
          ]
        }
      ],
      "source": [
        "myCNN.summary()"
      ]
    },
    {
      "cell_type": "code",
      "execution_count": null,
      "metadata": {
        "id": "1Ylv-IDvWC-6"
      },
      "outputs": [],
      "source": [
        "class MyCallback(tf.keras.callbacks.Callback):\n",
        "        def on_epoch_end(self, epoch, logs={}):\n",
        "            if (logs.get('accuracy') > 0.84 and logs.get('val_accuracy') > 0.84):\n",
        "                self.model.stop_training = True\n",
        "\n",
        "callback = MyCallback()"
      ]
    },
    {
      "cell_type": "code",
      "execution_count": null,
      "metadata": {
        "colab": {
          "base_uri": "https://localhost:8080/"
        },
        "id": "PAINb_aSp-FJ",
        "outputId": "fb202c20-bf23-45ed-9a81-7c19a93a0c0c"
      },
      "outputs": [
        {
          "name": "stdout",
          "output_type": "stream",
          "text": [
            "Epoch 1/50\n",
            "90/90 [==============================] - 140s 2s/step - loss: 3.6858 - accuracy: 0.0656 - val_loss: 3.4605 - val_accuracy: 0.1808\n",
            "Epoch 2/50\n",
            "90/90 [==============================] - 140s 2s/step - loss: 2.3505 - accuracy: 0.3243 - val_loss: 2.4653 - val_accuracy: 0.3382\n",
            "Epoch 3/50\n",
            "90/90 [==============================] - 140s 2s/step - loss: 1.5029 - accuracy: 0.5349 - val_loss: 1.9847 - val_accuracy: 0.3960\n",
            "Epoch 4/50\n",
            "90/90 [==============================] - 135s 2s/step - loss: 1.0542 - accuracy: 0.6586 - val_loss: 1.3226 - val_accuracy: 0.5959\n",
            "Epoch 5/50\n",
            "90/90 [==============================] - 135s 1s/step - loss: 0.7842 - accuracy: 0.7407 - val_loss: 2.2440 - val_accuracy: 0.4951\n",
            "Epoch 6/50\n",
            "90/90 [==============================] - 135s 2s/step - loss: 0.6073 - accuracy: 0.7962 - val_loss: 0.8389 - val_accuracy: 0.7478\n",
            "Epoch 7/50\n",
            "90/90 [==============================] - 136s 2s/step - loss: 0.4992 - accuracy: 0.8274 - val_loss: 1.4636 - val_accuracy: 0.7075\n",
            "Epoch 8/50\n",
            "90/90 [==============================] - 134s 1s/step - loss: 0.4197 - accuracy: 0.8524 - val_loss: 1.3760 - val_accuracy: 0.7876\n",
            "Epoch 9/50\n",
            "90/90 [==============================] - 135s 1s/step - loss: 0.3677 - accuracy: 0.8669 - val_loss: 0.3434 - val_accuracy: 0.8965\n"
          ]
        }
      ],
      "source": [
        "myCNN.compile(optimizer=tf.keras.optimizers.RMSprop(learning_rate=0.0005),\n",
        "              loss='sparse_categorical_crossentropy',\n",
        "              metrics=['accuracy'])\n",
        "\n",
        "history = myCNN.fit(train_generator,\n",
        "                    epochs=50,\n",
        "                    verbose=1,\n",
        "                    callbacks=[callback],\n",
        "                    validation_data=validation_generator)"
      ]
    },
    {
      "cell_type": "code",
      "execution_count": null,
      "metadata": {
        "colab": {
          "base_uri": "https://localhost:8080/",
          "height": 887
        },
        "id": "LXjemiYCRz74",
        "outputId": "df20a70a-4dd1-4b4e-92d9-074d592bbbbb"
      },
      "outputs": [
        {
          "data": {
            "image/png": "[encoded data removed]",
            "text/plain": [
              "<Figure size 640x480 with 1 Axes>"
            ]
          },
          "metadata": {},
          "output_type": "display_data"
        },
        {
          "data": {
            "image/png": "[encoded data removed]",
            "text/plain": [
              "<Figure size 640x480 with 1 Axes>"
            ]
          },
          "metadata": {},
          "output_type": "display_data"
        }
      ],
      "source": [
        "acc = history.history['accuracy']\n",
        "val_acc = history.history['val_accuracy']\n",
        "loss = history.history['loss']\n",
        "val_loss = history.history['val_loss']\n",
        "\n",
        "epochs = range(len(acc))\n",
        "\n",
        "plt.plot(epochs, acc, 'r', label='Training accuracy')\n",
        "plt.plot(epochs, val_acc, 'b', label='Validation accuracy')\n",
        "plt.title('Training and validation accuracy')\n",
        "plt.legend()\n",
        "plt.figure()\n",
        "\n",
        "plt.plot(epochs, loss, 'r', label='Training Loss')\n",
        "plt.plot(epochs, val_loss, 'b', label='Validation Loss')\n",
        "plt.title('Training and validation loss')\n",
        "plt.legend()\n",
        "\n",
        "plt.show()"
      ]
    },
    {
      "cell_type": "markdown",
      "metadata": {
        "id": "du-lPwUOgu-k"
      },
      "source": [
        "## Model Testing"
      ]
    },
    {
      "cell_type": "code",
      "execution_count": null,
      "metadata": {
        "colab": {
          "base_uri": "https://localhost:8080/"
        },
        "id": "Uc4IgFu9_YrU",
        "outputId": "fac3a12f-4377-49c1-99a0-e9d605028479"
      },
      "outputs": [
        {
          "name": "stdout",
          "output_type": "stream",
          "text": [
            "Mounted at /content/drive\n"
          ]
        }
      ],
      "source": [
        "from google.colab import drive\n",
        "drive.mount('/content/drive')"
      ]
    },
    {
      "cell_type": "code",
      "execution_count": null,
      "metadata": {
        "colab": {
          "base_uri": "https://localhost:8080/"
        },
        "id": "JKXH2ErsR6mI",
        "outputId": "3fd38b84-4e02-4258-bc2c-f380129c0d0e"
      },
      "outputs": [
        {
          "name": "stdout",
          "output_type": "stream",
          "text": [
            "1/1 [==============================] - 0s 19ms/step\n",
            "Predictions: [[8.01338230e-14 7.08915434e-21 2.34053642e-23 1.69158771e-19\n",
            "  1.37350146e-13 5.72637895e-15 9.64364944e-17 1.93723712e-23\n",
            "  2.78367535e-18 1.47572020e-21 1.29165419e-17 1.92262930e-17\n",
            "  9.67734472e-22 2.87135684e-20 1.17490081e-21 4.83464420e-01\n",
            "  3.68612640e-10 2.77807916e-11 9.81733463e-15 3.84040004e-06\n",
            "  3.64316111e-06 1.27836329e-20 1.06395415e-13 1.18394692e-16\n",
            "  1.82490958e-19 5.89952657e-23 5.16502798e-01 2.18344541e-21\n",
            "  3.33693407e-14 1.20358553e-19 1.04974077e-21 6.77582100e-16\n",
            "  3.11114761e-14 1.34941738e-05 1.49397537e-14 1.12821559e-21\n",
            "  1.24356727e-22 2.01943513e-20 6.74100249e-07 9.79902688e-06\n",
            "  1.75231041e-25 1.24166126e-15 4.73310152e-16 1.26327654e-06\n",
            "  1.85668883e-10 1.83732825e-20 3.79272290e-16 8.46074784e-15\n",
            "  2.28274727e-21 1.08772471e-22 1.86416049e-15 4.29519874e-21\n",
            "  5.01140470e-14 6.36220873e-17]]\n",
            "Predicted label: [26]\n",
            "kaleng_soda_sodawater_polaris\n"
          ]
        }
      ],
      "source": [
        "# Load the image\n",
        "new_image = plt.imread('/content/drive/MyDrive/Colab Notebooks/CNN-Capstone-Dataset/fres.jpg')\n",
        "\n",
        "# Ensure the image has the correct number of channels (e.g., 3 for RGB)\n",
        "if new_image.shape[-1] != 3:\n",
        "    new_image = tf.image.grayscale_to_rgb(new_image)\n",
        "\n",
        "# Resize the image to the input shape required by your model\n",
        "input_shape = (input_height, input_width)  # Replace with your model's input shape\n",
        "new_image = tf.image.resize(new_image, input_shape)\n",
        "\n",
        "# Normalize the image (if your model was trained on normalized images, e.g., values in range [0, 1])\n",
        "new_image = new_image / 255.0\n",
        "\n",
        "# Add a batch dimension\n",
        "new_image = np.expand_dims(new_image, axis=0)\n",
        "\n",
        "# Make predictions\n",
        "predictions = myCNN.predict(new_image)\n",
        "\n",
        "# Print the predictions\n",
        "print(\"Predictions:\", predictions)\n",
        "\n",
        "# Print the predicted label\n",
        "predicted_label = np.argmax(predictions, axis=1)\n",
        "print(\"Predicted label:\", predicted_label)\n",
        "\n",
        "print(list(train_generator.class_indices)[np.argmax(predictions)])"
      ]
    },
    {
      "cell_type": "markdown",
      "metadata": {
        "id": "CkERJ2xlMFVD"
      },
      "source": [
        "## Model Export"
      ]
    },
    {
      "cell_type": "code",
      "execution_count": null,
      "metadata": {
        "colab": {
          "base_uri": "https://localhost:8080/"
        },
        "id": "9E7Z916mUlfT",
        "outputId": "3140aa30-143d-4aab-c097-9af5c17e240d"
      },
      "outputs": [
        {
          "name": "stderr",
          "output_type": "stream",
          "text": [
            "/usr/local/lib/python3.10/dist-packages/keras/src/engine/training.py:3103: UserWarning: You are saving your model as an HDF5 file via `model.save()`. This file format is considered legacy. We recommend using instead the native Keras format, e.g. `model.save('my_model.keras')`.\n",
            "  saving_api.save_model(\n"
          ]
        }
      ],
      "source": [
        "myCNN.save(\"model.h5\")"
      ]
    }
  ],
  "metadata": {
    "accelerator": "GPU",
    "colab": {
      "collapsed_sections": [
        "jxmE8lvKQnD_",
        "dVoOPiIPPr03",
        "PHsiUXctPv1w",
        "97cZGcBzgqcU"
      ],
      "gpuType": "T4",
      "provenance": []
    },
    "kernelspec": {
      "display_name": "Python 3",
      "name": "python3"
    },
    "language_info": {
      "name": "python"
    }
  },
  "nbformat": 4,
  "nbformat_minor": 0
}
