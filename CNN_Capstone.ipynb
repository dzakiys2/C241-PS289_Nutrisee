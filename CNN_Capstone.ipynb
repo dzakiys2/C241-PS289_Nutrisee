{
  "cells": [
    {
      "cell_type": "code",
      "execution_count": 1,
      "metadata": {
        "colab": {
          "base_uri": "https://localhost:8080/"
        },
        "id": "iivcQtXmxY8F",
        "outputId": "217b3c5e-1721-4738-e790-43c0fd5740cd"
      },
      "outputs": [
        {
          "name": "stdout",
          "output_type": "stream",
          "text": [
            "Colab only includes TensorFlow 2.x; %tensorflow_version has no effect.\n"
          ]
        }
      ],
      "source": [
        "try:\n",
        "    # %tensorflow_version only exists in Colab.\n",
        "    %tensorflow_version 2.x\n",
        "except Exception:\n",
        "    pass\n",
        "\n",
        "import tensorflow as tf\n",
        "from tensorflow.keras.layers import Dense\n",
        "from tensorflow.keras import Model\n",
        "from tensorflow.keras.layers import concatenate\n",
        "from tensorflow.keras.layers import Input\n",
        "from tensorflow.keras.utils import plot_model\n",
        "from tensorflow.keras.preprocessing.image import ImageDataGenerator\n",
        "\n",
        "import os\n",
        "import gdown\n",
        "import zipfile\n",
        "import random\n",
        "import shutil\n",
        "from shutil import copyfile\n",
        "import matplotlib.pyplot as plt\n",
        "import string\n",
        "import numpy as np"
      ]
    },
    {
      "cell_type": "markdown",
      "metadata": {
        "id": "2jDwClB9gn_E"
      },
      "source": [
        "# Data Preparation"
      ]
    },
    {
      "cell_type": "markdown",
      "metadata": {
        "id": "0ObCXKlhNgBc"
      },
      "source": [
        "Hyper parameters"
      ]
    },
    {
      "cell_type": "code",
      "execution_count": 2,
      "metadata": {
        "id": "hXN5G3RFNfnb"
      },
      "outputs": [],
      "source": [
        "# Define root directory\n",
        "root_dir = '/tmp/tea'\n",
        "\n",
        "# Define paths\n",
        "SOURCE_DIR = \"/tmp/dataset/\"\n",
        "TRAINING_DIR = \"/tmp/tea/training/\"\n",
        "VALIDATION_DIR = \"/tmp/tea/validation/\"\n",
        "\n",
        "# Define proportion of images used for training\n",
        "split_size = .85\n",
        "\n",
        "# Define input shape details\n",
        "input_height = 224\n",
        "input_width = 224\n",
        "num_channels = 3"
      ]
    },
    {
      "cell_type": "markdown",
      "metadata": {
        "id": "TEMqrCaOhl-z"
      },
      "source": [
        "## Import data from Google Drive"
      ]
    },
    {
      "cell_type": "markdown",
      "metadata": {
        "id": "qCdd0faeDiIc"
      },
      "source": [
        "### Import from Downloadable Drive"
      ]
    },
    {
      "cell_type": "code",
      "execution_count": 3,
      "metadata": {
        "colab": {
          "base_uri": "https://localhost:8080/"
        },
        "id": "m092edx2Dgqd",
        "outputId": "ffda20bb-4892-4084-f771-d4c7e8b0860d"
      },
      "outputs": [
        {
          "name": "stderr",
          "output_type": "stream",
          "text": [
            "Downloading...\n",
            "From (original): https://drive.google.com/uc?id=1NWEJE9d0fbwe_eKBIE788w9RgUTmYgeo\n",
            "From (redirected): https://drive.google.com/uc?id=1NWEJE9d0fbwe_eKBIE788w9RgUTmYgeo&confirm=t&uuid=e0d64c26-f54e-4de8-897f-33102cf72091\n",
            "To: /content/cnn_dataset.zip\n",
            "100%|██████████| 395M/395M [00:04<00:00, 92.8MB/s]\n"
          ]
        }
      ],
      "source": [
        "# import online\n",
        "\n",
        "# Google Drive URL\n",
        "url = 'https://drive.google.com/uc?id=1NWEJE9d0fbwe_eKBIE788w9RgUTmYgeo'\n",
        "# Destination to save the file\n",
        "output = './cnn_dataset.zip'\n",
        "\n",
        "# Download the file\n",
        "gdown.download(url, output, quiet=False)\n",
        "\n",
        "# Unzip the file to a local directory\n",
        "local_zip = output\n",
        "with zipfile.ZipFile(local_zip, 'r') as zip_ref:\n",
        "    zip_ref.extractall('/tmp/dataset')"
      ]
    },
    {
      "cell_type": "markdown",
      "metadata": {
        "id": "LPWTqyF-DlpX"
      },
      "source": [
        "### Import from Local Google Drive"
      ]
    },
    {
      "cell_type": "code",
      "execution_count": null,
      "metadata": {
        "id": "ag8N_WCgg8yv"
      },
      "outputs": [],
      "source": [
        "# read csv data file\n",
        "# from google.colab import drive\n",
        "# drive.mount('/content/drive')\n",
        "\n",
        "# path = \"/content/drive/MyDrive/Colab Notebooks/CNN-Capstone-Dataset/dataset.zip\"\n",
        "# zip_ref   = zipfile.ZipFile(path, 'r')\n",
        "# zip_ref.extractall('/tmp/dataset')\n",
        "# zip_ref.close()"
      ]
    },
    {
      "cell_type": "code",
      "execution_count": null,
      "metadata": {
        "colab": {
          "base_uri": "https://localhost:8080/"
        },
        "id": "z3Iq45X-hESK",
        "outputId": "44f00ca3-12a2-486e-e81f-6a8b8cf41183"
      },
      "outputs": [
        {
          "name": "stdout",
          "output_type": "stream",
          "text": [
            "['nu_tea', 'teh_kotak_lemon', 'fruit_tea_strawberry', 'fres_tea', 'teh_botol_kotak', 'teh_kotak_ori', 'teh_botol_botol', 'teh_pucuk']\n"
          ]
        }
      ],
      "source": [
        "# show all exported label\n",
        "print(os.listdir('/tmp/dataset'))"
      ]
    },
    {
      "cell_type": "code",
      "execution_count": null,
      "metadata": {
        "id": "MFCiksVXJXIF"
      },
      "outputs": [],
      "source": [
        "shutil.rmtree('/tmp')"
      ]
    },
    {
      "cell_type": "markdown",
      "metadata": {
        "id": "E4ddeZ68hX1L"
      },
      "source": [
        "## Directory Creation"
      ]
    },
    {
      "cell_type": "code",
      "execution_count": 4,
      "metadata": {
        "id": "EyhirXoVhI7T"
      },
      "outputs": [],
      "source": [
        "# Empty directory to prevent FileExistsError is the function is run several times\n",
        "if os.path.exists(root_dir):\n",
        "  shutil.rmtree(root_dir)\n",
        "\n",
        "def create_train_val_dirs(root_path, classes):\n",
        "    train_dir = os.path.join(root_path, 'training')\n",
        "    val_dir = os.path.join(root_path, 'validation')\n",
        "\n",
        "    # Make directories for each class in training and validation sets\n",
        "    for class_name in classes:\n",
        "        train_class_dir = os.path.join(train_dir, class_name)\n",
        "        val_class_dir = os.path.join(val_dir, class_name)\n",
        "\n",
        "        os.makedirs(train_class_dir)\n",
        "        os.makedirs(val_class_dir)\n",
        "\n",
        "try:\n",
        "    classes = os.listdir('/tmp/dataset')\n",
        "    create_train_val_dirs(root_path=root_dir, classes=classes)\n",
        "except FileExistsError:\n",
        "  print(\"You should not be seeing this since the upper directory is removed beforehand\")"
      ]
    },
    {
      "cell_type": "code",
      "execution_count": null,
      "metadata": {
        "colab": {
          "base_uri": "https://localhost:8080/"
        },
        "id": "1t2f_JFIhU7k",
        "outputId": "921adfdf-acf7-41c3-ca8f-1176e541f1cd"
      },
      "outputs": [
        {
          "name": "stdout",
          "output_type": "stream",
          "text": [
            "/tmp/tea/training\n",
            "/tmp/tea/validation\n",
            "/tmp/tea/training/kaleng_soda_limeapel_greensands\n",
            "/tmp/tea/training/plastik_mie_kariayam_indomie\n",
            "/tmp/tea/training/plastik_biskuit_classic_goodtime\n",
            "/tmp/tea/training/kaleng_susu_ori_beruang\n",
            "/tmp/tea/training/botol_teh_less_tehpucuk\n",
            "/tmp/tea/training/botol_yogurt_ori_cimory\n",
            "/tmp/tea/training/kaca_nrg_ori_kratingdeng\n",
            "/tmp/tea/training/kotak_susu_fullcream_ultramilk\n",
            "/tmp/tea/training/cup_mie_goreng_sedaap\n",
            "/tmp/tea/training/botol_kopi_aren_kopken\n",
            "/tmp/tea/training/botol_soda_ori_tebs\n",
            "/tmp/tea/training/kaleng_soda_strawberry_fanta\n",
            "/tmp/tea/training/plastik_mie_sotomie_indomie\n",
            "/tmp/tea/training/botol_teh_ori_tehgelas\n",
            "/tmp/tea/training/plastik_mie_sotospesial_indomie\n",
            "/tmp/tea/training/kotak_jus_jambu_abc\n",
            "/tmp/tea/training/kotak_jus_jerukperasless_nutrisaari\n",
            "/tmp/tea/training/plastik_coklat_susu_dairymilk\n",
            "/tmp/tea/training/botol_teh_blackcurrant_fruittea\n",
            "/tmp/tea/training/plastik_mie_goreng_sedaap\n",
            "/tmp/tea/training/botol_kopi_cappuccino_golda\n",
            "/tmp/tea/training/kotak_jus_apel_abc\n",
            "/tmp/tea/training/plastik_kacang_kupas_duakelinci\n",
            "/tmp/tea/training/botol_teh_ori_sosro\n",
            "/tmp/tea/training/plastik_coklat_dark_silverqueen\n",
            "/tmp/tea/training/plastik_mie_ayambawang_sedaap\n",
            "/tmp/tea/training/kaleng_soda_ori_sprite\n",
            "/tmp/tea/training/plastik_mie_ayamkremesisidua_suksess\n",
            "/tmp/tea/training/botol_soda_ori_cocacola\n",
            "/tmp/tea/training/plastik_mie_ayambawang_indomie\n",
            "/tmp/tea/training/botol_soda_zerosugar_cocacola\n",
            "/tmp/tea/training/plastik_mie_soto_sedaap\n",
            "/tmp/tea/training/botol_teh_less_sosro\n",
            "/tmp/tea/training/kotak_susu_straberry_ultramilk\n",
            "/tmp/tea/training/plastik_biskuit_doublechoc_goodtime\n",
            "/tmp/tea/training/cup_mie_sotoayam_popmie\n",
            "/tmp/tea/training/kotak_susu_coklat_ultramilk\n",
            "/tmp/tea/training/botol_teh_apel_frestea\n",
            "/tmp/tea/training/botol_kopi_susu_abc\n",
            "/tmp/tea/training/cup_mie_kariayam_popmie\n",
            "/tmp/tea/training/botol_elektrolit_ori_pocari\n",
            "/tmp/tea/training/cup_mie_ayam_popmie\n",
            "/tmp/tea/training/zipper_kacang_honeyreasted_mrp\n",
            "/tmp/tea/training/cup_mie_ayambawang_popmie\n",
            "/tmp/tea/training/plastik_ringan_keju_twistko\n",
            "/tmp/tea/training/plastik_popcorn_ori_poppypop\n",
            "/tmp/tea/training/kaleng_soda_ori_cocacola\n",
            "/tmp/tea/training/plastik_mie_goreng_indomie\n",
            "/tmp/tea/training/botol_soda_strawberry_fanta\n",
            "/tmp/tea/training/botol_yogurt_mixedfruit_cimory\n",
            "/tmp/tea/training/kotak_jus_jerukmaduless_nutrisari\n",
            "/tmp/tea/training/kaleng_soda_sodawater_polaris\n",
            "/tmp/tea/training/plastik_mie_ayampanggangjumbo_indomie\n",
            "/tmp/tea/training/botol_soda_jeruk_fanta\n",
            "/tmp/tea/validation/kaleng_soda_limeapel_greensands\n",
            "/tmp/tea/validation/plastik_mie_kariayam_indomie\n",
            "/tmp/tea/validation/plastik_biskuit_classic_goodtime\n",
            "/tmp/tea/validation/kaleng_susu_ori_beruang\n",
            "/tmp/tea/validation/botol_teh_less_tehpucuk\n",
            "/tmp/tea/validation/botol_yogurt_ori_cimory\n",
            "/tmp/tea/validation/kaca_nrg_ori_kratingdeng\n",
            "/tmp/tea/validation/kotak_susu_fullcream_ultramilk\n",
            "/tmp/tea/validation/cup_mie_goreng_sedaap\n",
            "/tmp/tea/validation/botol_kopi_aren_kopken\n",
            "/tmp/tea/validation/botol_soda_ori_tebs\n",
            "/tmp/tea/validation/kaleng_soda_strawberry_fanta\n",
            "/tmp/tea/validation/plastik_mie_sotomie_indomie\n",
            "/tmp/tea/validation/botol_teh_ori_tehgelas\n",
            "/tmp/tea/validation/plastik_mie_sotospesial_indomie\n",
            "/tmp/tea/validation/kotak_jus_jambu_abc\n",
            "/tmp/tea/validation/kotak_jus_jerukperasless_nutrisaari\n",
            "/tmp/tea/validation/plastik_coklat_susu_dairymilk\n",
            "/tmp/tea/validation/botol_teh_blackcurrant_fruittea\n",
            "/tmp/tea/validation/plastik_mie_goreng_sedaap\n",
            "/tmp/tea/validation/botol_kopi_cappuccino_golda\n",
            "/tmp/tea/validation/kotak_jus_apel_abc\n",
            "/tmp/tea/validation/plastik_kacang_kupas_duakelinci\n",
            "/tmp/tea/validation/botol_teh_ori_sosro\n",
            "/tmp/tea/validation/plastik_coklat_dark_silverqueen\n",
            "/tmp/tea/validation/plastik_mie_ayambawang_sedaap\n",
            "/tmp/tea/validation/kaleng_soda_ori_sprite\n",
            "/tmp/tea/validation/plastik_mie_ayamkremesisidua_suksess\n",
            "/tmp/tea/validation/botol_soda_ori_cocacola\n",
            "/tmp/tea/validation/plastik_mie_ayambawang_indomie\n",
            "/tmp/tea/validation/botol_soda_zerosugar_cocacola\n",
            "/tmp/tea/validation/plastik_mie_soto_sedaap\n",
            "/tmp/tea/validation/botol_teh_less_sosro\n",
            "/tmp/tea/validation/kotak_susu_straberry_ultramilk\n",
            "/tmp/tea/validation/plastik_biskuit_doublechoc_goodtime\n",
            "/tmp/tea/validation/cup_mie_sotoayam_popmie\n",
            "/tmp/tea/validation/kotak_susu_coklat_ultramilk\n",
            "/tmp/tea/validation/botol_teh_apel_frestea\n",
            "/tmp/tea/validation/botol_kopi_susu_abc\n",
            "/tmp/tea/validation/cup_mie_kariayam_popmie\n",
            "/tmp/tea/validation/botol_elektrolit_ori_pocari\n",
            "/tmp/tea/validation/cup_mie_ayam_popmie\n",
            "/tmp/tea/validation/zipper_kacang_honeyreasted_mrp\n",
            "/tmp/tea/validation/cup_mie_ayambawang_popmie\n",
            "/tmp/tea/validation/plastik_ringan_keju_twistko\n",
            "/tmp/tea/validation/plastik_popcorn_ori_poppypop\n",
            "/tmp/tea/validation/kaleng_soda_ori_cocacola\n",
            "/tmp/tea/validation/plastik_mie_goreng_indomie\n",
            "/tmp/tea/validation/botol_soda_strawberry_fanta\n",
            "/tmp/tea/validation/botol_yogurt_mixedfruit_cimory\n",
            "/tmp/tea/validation/kotak_jus_jerukmaduless_nutrisari\n",
            "/tmp/tea/validation/kaleng_soda_sodawater_polaris\n",
            "/tmp/tea/validation/plastik_mie_ayampanggangjumbo_indomie\n",
            "/tmp/tea/validation/botol_soda_jeruk_fanta\n"
          ]
        }
      ],
      "source": [
        "for rootdir, dirs, files in os.walk(root_dir):\n",
        "    for subdir in dirs:\n",
        "        print(os.path.join(rootdir, subdir))"
      ]
    },
    {
      "cell_type": "markdown",
      "metadata": {
        "id": "UmKQpqzCDDTj"
      },
      "source": [
        "## Data Splitting"
      ]
    },
    {
      "cell_type": "code",
      "execution_count": 5,
      "metadata": {
        "id": "XfntDA9ehXQL"
      },
      "outputs": [],
      "source": [
        "def split_data(SOURCE_DIR, TRAINING_DIR, VALIDATION_DIR, SPLIT_SIZE):\n",
        "  # List all files in the source directory\n",
        "  files = os.listdir(SOURCE_DIR)\n",
        "\n",
        "  # Print messages about zero-length images\n",
        "  for file in files:\n",
        "    if os.path.getsize(os.path.join(SOURCE_DIR, file)) == 0:\n",
        "      print(f\"{file} is zero length, so ignoring.\")\n",
        "\n",
        "  # Remove zero-sized images\n",
        "  files = [file for file in files if os.path.getsize(os.path.join(SOURCE_DIR, file)) > 0]\n",
        "\n",
        "  # Calculate the split size\n",
        "  split_count = len(files) - int(len(files) * SPLIT_SIZE)\n",
        "  split_index = len(files)//split_count\n",
        "\n",
        "  # Split the files into training and validation sets\n",
        "  training_files = []\n",
        "  validation_files = []\n",
        "\n",
        "  for i in range(len(files)):\n",
        "    if (i%split_index) == 0:\n",
        "      validation_files.append(files[i])\n",
        "    else:\n",
        "      training_files.append(files[i])\n",
        "\n",
        "  # training_files = files[split_count:]\n",
        "  # validation_files = files[:split_count]\n",
        "\n",
        "  # Copy training files to the training directory\n",
        "  for file in training_files:\n",
        "    source_file = os.path.join(SOURCE_DIR, file)\n",
        "    destination_file = os.path.join(TRAINING_DIR, file)\n",
        "    shutil.copyfile(source_file, destination_file)\n",
        "\n",
        "  # Copy validation files to the validation directory\n",
        "  for file in validation_files:\n",
        "    source_file = os.path.join(SOURCE_DIR, file)\n",
        "    destination_file = os.path.join(VALIDATION_DIR, file)\n",
        "    shutil.copyfile(source_file, destination_file)"
      ]
    },
    {
      "cell_type": "code",
      "execution_count": 6,
      "metadata": {
        "id": "8huuy7uZGEg0"
      },
      "outputs": [],
      "source": [
        "# Make directories for each class in training and validation sets\n",
        "classes_native = os.listdir(SOURCE_DIR)\n",
        "\n",
        "for class_name in classes_native:\n",
        "    TRAINING_CLASS_DIR = os.path.join(TRAINING_DIR, class_name)\n",
        "    VALIDATION_CLASS_DIR = os.path.join(VALIDATION_DIR, class_name)\n",
        "\n",
        "    # Empty directories in case you run this cell multiple times\n",
        "    if len(os.listdir(TRAINING_CLASS_DIR)) > 0:\n",
        "      for file in os.scandir(TRAINING_CLASS_DIR):\n",
        "        os.remove(file.path)\n",
        "    if len(os.listdir(VALIDATION_CLASS_DIR)) > 0:\n",
        "      for file in os.scandir(VALIDATION_CLASS_DIR):\n",
        "        os.remove(file.path)\n",
        "\n",
        "# Run the function\n",
        "# NOTE: Messages about zero length images should be printed out\n",
        "for i in range(len(classes_native)):\n",
        "    TRAINING_CLASS_DIR = os.path.join(TRAINING_DIR, classes[i])\n",
        "    VALIDATION_CLASS_DIR = os.path.join(VALIDATION_DIR, classes[i])\n",
        "\n",
        "    SOURCE_CLASS_DIR = os.path.join(SOURCE_DIR, classes_native[i])\n",
        "    split_data(SOURCE_CLASS_DIR,\n",
        "               TRAINING_CLASS_DIR,\n",
        "               VALIDATION_CLASS_DIR,\n",
        "               split_size)"
      ]
    },
    {
      "cell_type": "code",
      "execution_count": 7,
      "metadata": {
        "colab": {
          "base_uri": "https://localhost:8080/"
        },
        "id": "lHGC8zYINDhV",
        "outputId": "bac78b9d-16f1-4f68-c2e7-5f8e97204825"
      },
      "outputs": [
        {
          "name": "stdout",
          "output_type": "stream",
          "text": [
            "Original kaleng_soda_limeapel_greensands's directory has 200 images\n",
            "There are 166 images of kaleng_soda_limeapel_greensands for training\n",
            "There are 34 images of kaleng_soda_limeapel_greensands for validation\n",
            "\n",
            "\n",
            "Original plastik_mie_kariayam_indomie's directory has 200 images\n",
            "There are 166 images of plastik_mie_kariayam_indomie for training\n",
            "There are 34 images of plastik_mie_kariayam_indomie for validation\n",
            "\n",
            "\n",
            "Original plastik_biskuit_classic_goodtime's directory has 200 images\n",
            "There are 166 images of plastik_biskuit_classic_goodtime for training\n",
            "There are 34 images of plastik_biskuit_classic_goodtime for validation\n",
            "\n",
            "\n",
            "Original kaleng_susu_ori_beruang's directory has 200 images\n",
            "There are 166 images of kaleng_susu_ori_beruang for training\n",
            "There are 34 images of kaleng_susu_ori_beruang for validation\n",
            "\n",
            "\n",
            "Original botol_teh_less_tehpucuk's directory has 200 images\n",
            "There are 166 images of botol_teh_less_tehpucuk for training\n",
            "There are 34 images of botol_teh_less_tehpucuk for validation\n",
            "\n",
            "\n",
            "Original botol_yogurt_ori_cimory's directory has 200 images\n",
            "There are 166 images of botol_yogurt_ori_cimory for training\n",
            "There are 34 images of botol_yogurt_ori_cimory for validation\n",
            "\n",
            "\n",
            "Original kaca_nrg_ori_kratingdeng's directory has 200 images\n",
            "There are 166 images of kaca_nrg_ori_kratingdeng for training\n",
            "There are 34 images of kaca_nrg_ori_kratingdeng for validation\n",
            "\n",
            "\n",
            "Original kotak_susu_fullcream_ultramilk's directory has 200 images\n",
            "There are 166 images of kotak_susu_fullcream_ultramilk for training\n",
            "There are 34 images of kotak_susu_fullcream_ultramilk for validation\n",
            "\n",
            "\n",
            "Original cup_mie_goreng_sedaap's directory has 200 images\n",
            "There are 166 images of cup_mie_goreng_sedaap for training\n",
            "There are 34 images of cup_mie_goreng_sedaap for validation\n",
            "\n",
            "\n",
            "Original botol_kopi_aren_kopken's directory has 200 images\n",
            "There are 166 images of botol_kopi_aren_kopken for training\n",
            "There are 34 images of botol_kopi_aren_kopken for validation\n",
            "\n",
            "\n",
            "Original botol_soda_ori_tebs's directory has 200 images\n",
            "There are 166 images of botol_soda_ori_tebs for training\n",
            "There are 34 images of botol_soda_ori_tebs for validation\n",
            "\n",
            "\n",
            "Original kaleng_soda_strawberry_fanta's directory has 200 images\n",
            "There are 166 images of kaleng_soda_strawberry_fanta for training\n",
            "There are 34 images of kaleng_soda_strawberry_fanta for validation\n",
            "\n",
            "\n",
            "Original plastik_mie_sotomie_indomie's directory has 200 images\n",
            "There are 166 images of plastik_mie_sotomie_indomie for training\n",
            "There are 34 images of plastik_mie_sotomie_indomie for validation\n",
            "\n",
            "\n",
            "Original botol_teh_ori_tehgelas's directory has 200 images\n",
            "There are 166 images of botol_teh_ori_tehgelas for training\n",
            "There are 34 images of botol_teh_ori_tehgelas for validation\n",
            "\n",
            "\n",
            "Original plastik_mie_sotospesial_indomie's directory has 200 images\n",
            "There are 166 images of plastik_mie_sotospesial_indomie for training\n",
            "There are 34 images of plastik_mie_sotospesial_indomie for validation\n",
            "\n",
            "\n",
            "Original kotak_jus_jambu_abc's directory has 200 images\n",
            "There are 166 images of kotak_jus_jambu_abc for training\n",
            "There are 34 images of kotak_jus_jambu_abc for validation\n",
            "\n",
            "\n",
            "Original kotak_jus_jerukperasless_nutrisaari's directory has 200 images\n",
            "There are 166 images of kotak_jus_jerukperasless_nutrisaari for training\n",
            "There are 34 images of kotak_jus_jerukperasless_nutrisaari for validation\n",
            "\n",
            "\n",
            "Original plastik_coklat_susu_dairymilk's directory has 200 images\n",
            "There are 166 images of plastik_coklat_susu_dairymilk for training\n",
            "There are 34 images of plastik_coklat_susu_dairymilk for validation\n",
            "\n",
            "\n",
            "Original botol_teh_blackcurrant_fruittea's directory has 200 images\n",
            "There are 166 images of botol_teh_blackcurrant_fruittea for training\n",
            "There are 34 images of botol_teh_blackcurrant_fruittea for validation\n",
            "\n",
            "\n",
            "Original plastik_mie_goreng_sedaap's directory has 200 images\n",
            "There are 166 images of plastik_mie_goreng_sedaap for training\n",
            "There are 34 images of plastik_mie_goreng_sedaap for validation\n",
            "\n",
            "\n",
            "Original botol_kopi_cappuccino_golda's directory has 200 images\n",
            "There are 166 images of botol_kopi_cappuccino_golda for training\n",
            "There are 34 images of botol_kopi_cappuccino_golda for validation\n",
            "\n",
            "\n",
            "Original kotak_jus_apel_abc's directory has 200 images\n",
            "There are 166 images of kotak_jus_apel_abc for training\n",
            "There are 34 images of kotak_jus_apel_abc for validation\n",
            "\n",
            "\n",
            "Original plastik_kacang_kupas_duakelinci's directory has 200 images\n",
            "There are 166 images of plastik_kacang_kupas_duakelinci for training\n",
            "There are 34 images of plastik_kacang_kupas_duakelinci for validation\n",
            "\n",
            "\n",
            "Original botol_teh_ori_sosro's directory has 200 images\n",
            "There are 166 images of botol_teh_ori_sosro for training\n",
            "There are 34 images of botol_teh_ori_sosro for validation\n",
            "\n",
            "\n",
            "Original plastik_coklat_dark_silverqueen's directory has 200 images\n",
            "There are 166 images of plastik_coklat_dark_silverqueen for training\n",
            "There are 34 images of plastik_coklat_dark_silverqueen for validation\n",
            "\n",
            "\n",
            "Original plastik_mie_ayambawang_sedaap's directory has 200 images\n",
            "There are 166 images of plastik_mie_ayambawang_sedaap for training\n",
            "There are 34 images of plastik_mie_ayambawang_sedaap for validation\n",
            "\n",
            "\n",
            "Original kaleng_soda_ori_sprite's directory has 200 images\n",
            "There are 166 images of kaleng_soda_ori_sprite for training\n",
            "There are 34 images of kaleng_soda_ori_sprite for validation\n",
            "\n",
            "\n",
            "Original plastik_mie_ayamkremesisidua_suksess's directory has 200 images\n",
            "There are 166 images of plastik_mie_ayamkremesisidua_suksess for training\n",
            "There are 34 images of plastik_mie_ayamkremesisidua_suksess for validation\n",
            "\n",
            "\n",
            "Original botol_soda_ori_cocacola's directory has 200 images\n",
            "There are 166 images of botol_soda_ori_cocacola for training\n",
            "There are 34 images of botol_soda_ori_cocacola for validation\n",
            "\n",
            "\n",
            "Original plastik_mie_ayambawang_indomie's directory has 200 images\n",
            "There are 166 images of plastik_mie_ayambawang_indomie for training\n",
            "There are 34 images of plastik_mie_ayambawang_indomie for validation\n",
            "\n",
            "\n",
            "Original botol_soda_zerosugar_cocacola's directory has 200 images\n",
            "There are 166 images of botol_soda_zerosugar_cocacola for training\n",
            "There are 34 images of botol_soda_zerosugar_cocacola for validation\n",
            "\n",
            "\n",
            "Original plastik_mie_soto_sedaap's directory has 200 images\n",
            "There are 166 images of plastik_mie_soto_sedaap for training\n",
            "There are 34 images of plastik_mie_soto_sedaap for validation\n",
            "\n",
            "\n",
            "Original botol_teh_less_sosro's directory has 200 images\n",
            "There are 166 images of botol_teh_less_sosro for training\n",
            "There are 34 images of botol_teh_less_sosro for validation\n",
            "\n",
            "\n",
            "Original kotak_susu_straberry_ultramilk's directory has 200 images\n",
            "There are 166 images of kotak_susu_straberry_ultramilk for training\n",
            "There are 34 images of kotak_susu_straberry_ultramilk for validation\n",
            "\n",
            "\n",
            "Original plastik_biskuit_doublechoc_goodtime's directory has 200 images\n",
            "There are 166 images of plastik_biskuit_doublechoc_goodtime for training\n",
            "There are 34 images of plastik_biskuit_doublechoc_goodtime for validation\n",
            "\n",
            "\n",
            "Original cup_mie_sotoayam_popmie's directory has 200 images\n",
            "There are 166 images of cup_mie_sotoayam_popmie for training\n",
            "There are 34 images of cup_mie_sotoayam_popmie for validation\n",
            "\n",
            "\n",
            "Original kotak_susu_coklat_ultramilk's directory has 200 images\n",
            "There are 166 images of kotak_susu_coklat_ultramilk for training\n",
            "There are 34 images of kotak_susu_coklat_ultramilk for validation\n",
            "\n",
            "\n",
            "Original botol_teh_apel_frestea's directory has 200 images\n",
            "There are 166 images of botol_teh_apel_frestea for training\n",
            "There are 34 images of botol_teh_apel_frestea for validation\n",
            "\n",
            "\n",
            "Original botol_kopi_susu_abc's directory has 200 images\n",
            "There are 166 images of botol_kopi_susu_abc for training\n",
            "There are 34 images of botol_kopi_susu_abc for validation\n",
            "\n",
            "\n",
            "Original cup_mie_kariayam_popmie's directory has 200 images\n",
            "There are 166 images of cup_mie_kariayam_popmie for training\n",
            "There are 34 images of cup_mie_kariayam_popmie for validation\n",
            "\n",
            "\n",
            "Original botol_elektrolit_ori_pocari's directory has 200 images\n",
            "There are 166 images of botol_elektrolit_ori_pocari for training\n",
            "There are 34 images of botol_elektrolit_ori_pocari for validation\n",
            "\n",
            "\n",
            "Original cup_mie_ayam_popmie's directory has 200 images\n",
            "There are 166 images of cup_mie_ayam_popmie for training\n",
            "There are 34 images of cup_mie_ayam_popmie for validation\n",
            "\n",
            "\n",
            "Original zipper_kacang_honeyreasted_mrp's directory has 200 images\n",
            "There are 166 images of zipper_kacang_honeyreasted_mrp for training\n",
            "There are 34 images of zipper_kacang_honeyreasted_mrp for validation\n",
            "\n",
            "\n",
            "Original cup_mie_ayambawang_popmie's directory has 200 images\n",
            "There are 166 images of cup_mie_ayambawang_popmie for training\n",
            "There are 34 images of cup_mie_ayambawang_popmie for validation\n",
            "\n",
            "\n",
            "Original plastik_ringan_keju_twistko's directory has 200 images\n",
            "There are 166 images of plastik_ringan_keju_twistko for training\n",
            "There are 34 images of plastik_ringan_keju_twistko for validation\n",
            "\n",
            "\n",
            "Original plastik_popcorn_ori_poppypop's directory has 200 images\n",
            "There are 166 images of plastik_popcorn_ori_poppypop for training\n",
            "There are 34 images of plastik_popcorn_ori_poppypop for validation\n",
            "\n",
            "\n",
            "Original kaleng_soda_ori_cocacola's directory has 200 images\n",
            "There are 166 images of kaleng_soda_ori_cocacola for training\n",
            "There are 34 images of kaleng_soda_ori_cocacola for validation\n",
            "\n",
            "\n",
            "Original plastik_mie_goreng_indomie's directory has 200 images\n",
            "There are 166 images of plastik_mie_goreng_indomie for training\n",
            "There are 34 images of plastik_mie_goreng_indomie for validation\n",
            "\n",
            "\n",
            "Original botol_soda_strawberry_fanta's directory has 200 images\n",
            "There are 166 images of botol_soda_strawberry_fanta for training\n",
            "There are 34 images of botol_soda_strawberry_fanta for validation\n",
            "\n",
            "\n",
            "Original botol_yogurt_mixedfruit_cimory's directory has 200 images\n",
            "There are 166 images of botol_yogurt_mixedfruit_cimory for training\n",
            "There are 34 images of botol_yogurt_mixedfruit_cimory for validation\n",
            "\n",
            "\n",
            "Original kotak_jus_jerukmaduless_nutrisari's directory has 200 images\n",
            "There are 166 images of kotak_jus_jerukmaduless_nutrisari for training\n",
            "There are 34 images of kotak_jus_jerukmaduless_nutrisari for validation\n",
            "\n",
            "\n",
            "Original kaleng_soda_sodawater_polaris's directory has 200 images\n",
            "There are 166 images of kaleng_soda_sodawater_polaris for training\n",
            "There are 34 images of kaleng_soda_sodawater_polaris for validation\n",
            "\n",
            "\n",
            "Original plastik_mie_ayampanggangjumbo_indomie's directory has 200 images\n",
            "There are 166 images of plastik_mie_ayampanggangjumbo_indomie for training\n",
            "There are 34 images of plastik_mie_ayampanggangjumbo_indomie for validation\n",
            "\n",
            "\n",
            "Original botol_soda_jeruk_fanta's directory has 200 images\n",
            "There are 166 images of botol_soda_jeruk_fanta for training\n",
            "There are 34 images of botol_soda_jeruk_fanta for validation\n",
            "\n",
            "\n"
          ]
        }
      ],
      "source": [
        "# Your function should perform copies rather than moving images so original directories should contain unchanged images\n",
        "for i in range(len(classes_native)):\n",
        "    TRAINING_CLASS_DIR = os.path.join(TRAINING_DIR, classes[i])\n",
        "    VALIDATION_CLASS_DIR = os.path.join(VALIDATION_DIR, classes[i])\n",
        "    SOURCE_CLASS_DIR = os.path.join(SOURCE_DIR, classes_native[i])\n",
        "\n",
        "    print(f\"Original {classes[i]}'s directory has {len(os.listdir(SOURCE_CLASS_DIR))} images\")\n",
        "\n",
        "    # Training and validation splits. Check that the number of images matches the expected output.\n",
        "    print(f\"There are {len(os.listdir(TRAINING_CLASS_DIR))} images of {classes[i]} for training\")\n",
        "    print(f\"There are {len(os.listdir(VALIDATION_CLASS_DIR))} images of {classes[i]} for validation\")\n",
        "\n",
        "    print(f\"\\n\")"
      ]
    },
    {
      "cell_type": "markdown",
      "metadata": {
        "id": "Pl5WxTZvQsPH"
      },
      "source": [
        "## Data Augmentation Handling"
      ]
    },
    {
      "cell_type": "markdown",
      "metadata": {
        "id": "zfYq-v7gNjpB"
      },
      "source": [
        "### with Image Augmentation"
      ]
    },
    {
      "cell_type": "code",
      "execution_count": 8,
      "metadata": {
        "id": "o5AaFI3dNlfS"
      },
      "outputs": [],
      "source": [
        "def train_val_generators(TRAINING_DIR, VALIDATION_DIR):\n",
        "\n",
        "  # Training datagen\n",
        "  train_datagen = ImageDataGenerator(rescale=(1./255),\n",
        "                                     rotation_range=30,\n",
        "                                     width_shift_range=0.2,\n",
        "                                     height_shift_range=0.2,\n",
        "                                     zoom_range=0.3,\n",
        "                                     brightness_range=[0.05, 0.3],\n",
        "                                     fill_mode='nearest')\n",
        "\n",
        "  # Training generator\n",
        "  train_generator = train_datagen.flow_from_directory(\n",
        "      directory=TRAINING_DIR,\n",
        "      batch_size=100,\n",
        "      class_mode='sparse',\n",
        "      target_size=(input_height, input_width))\n",
        "\n",
        "  # ==================================================\n",
        "\n",
        "  # Validation datagen\n",
        "  validation_datagen = ImageDataGenerator(rescale=(1./255))\n",
        "\n",
        "  # Validation generator\n",
        "  validation_generator = validation_datagen.flow_from_directory(\n",
        "      directory=VALIDATION_DIR,\n",
        "      batch_size=100,\n",
        "      class_mode='sparse',\n",
        "      target_size=(input_height, input_width))\n",
        "\n",
        "  return train_generator, validation_generator"
      ]
    },
    {
      "cell_type": "markdown",
      "metadata": {
        "id": "jxmE8lvKQnD_"
      },
      "source": [
        "### no Image Augmentation"
      ]
    },
    {
      "cell_type": "code",
      "execution_count": null,
      "metadata": {
        "id": "AW72p8hvQmjQ"
      },
      "outputs": [],
      "source": [
        "def train_val_generators(TRAINING_DIR, VALIDATION_DIR):\n",
        "\n",
        "  # Training datagen\n",
        "  train_datagen = ImageDataGenerator(rescale=(1./255))\n",
        "\n",
        "  # Training generator\n",
        "  train_generator = train_datagen.flow_from_directory(\n",
        "      directory=TRAINING_DIR,\n",
        "      batch_size=20,\n",
        "      class_mode='sparse',\n",
        "      target_size=(input_height, input_width))\n",
        "\n",
        "  # ==================================================\n",
        "\n",
        "  # Validation datagen\n",
        "  validation_datagen = ImageDataGenerator(rescale=(1./255))\n",
        "\n",
        "  # Validation generator\n",
        "  validation_generator = validation_datagen.flow_from_directory(\n",
        "      directory=VALIDATION_DIR,\n",
        "      batch_size=20,\n",
        "      class_mode='sparse',\n",
        "      target_size=(input_height, input_width))\n",
        "\n",
        "  return train_generator, validation_generator"
      ]
    },
    {
      "cell_type": "markdown",
      "metadata": {
        "id": "V19z0azNwjxR"
      },
      "source": [
        "### rest of the code..."
      ]
    },
    {
      "cell_type": "code",
      "execution_count": 9,
      "metadata": {
        "colab": {
          "base_uri": "https://localhost:8080/"
        },
        "id": "TxitsB8ZNofL",
        "outputId": "35ced7cc-4690-4a65-f299-dcc51c722edb"
      },
      "outputs": [
        {
          "name": "stdout",
          "output_type": "stream",
          "text": [
            "Found 8964 images belonging to 54 classes.\n",
            "Found 1836 images belonging to 54 classes.\n"
          ]
        }
      ],
      "source": [
        "# Test your generators\n",
        "train_generator, validation_generator = train_val_generators(TRAINING_DIR, VALIDATION_DIR)"
      ]
    },
    {
      "cell_type": "code",
      "execution_count": 10,
      "metadata": {
        "colab": {
          "base_uri": "https://localhost:8080/"
        },
        "id": "vOb8KW7ZuMQn",
        "outputId": "9305f99c-af9d-4947-c6fe-8e088a58b2a5"
      },
      "outputs": [
        {
          "name": "stdout",
          "output_type": "stream",
          "text": [
            "(100, 224, 224, 3)\n",
            "(100,)\n"
          ]
        }
      ],
      "source": [
        "x_batch_train, y_batch_train = next(train_generator)\n",
        "print(x_batch_train.shape)  # Should be (batch_size, height, width, channels)\n",
        "print(y_batch_train.shape)  # Should be (batch_size, num_classes)"
      ]
    },
    {
      "cell_type": "code",
      "execution_count": 11,
      "metadata": {
        "colab": {
          "base_uri": "https://localhost:8080/"
        },
        "id": "2OxeKtPtuRhA",
        "outputId": "1a2fd0b1-5dce-4c42-f07e-3386b9b46421"
      },
      "outputs": [
        {
          "name": "stdout",
          "output_type": "stream",
          "text": [
            "(100, 224, 224, 3)\n",
            "(100,)\n"
          ]
        }
      ],
      "source": [
        "x_batch_val, y_batch_val = next(validation_generator)\n",
        "print(x_batch_val.shape)  # Should be (batch_size, height, width, channels)\n",
        "print(y_batch_val.shape)  # Should be (batch_size, num_classes)"
      ]
    },
    {
      "cell_type": "code",
      "execution_count": 12,
      "metadata": {
        "colab": {
          "base_uri": "https://localhost:8080/"
        },
        "id": "RwSr1qdZ_Did",
        "outputId": "c73d6460-0427-4bf2-d168-294656a1cd21"
      },
      "outputs": [
        {
          "name": "stdout",
          "output_type": "stream",
          "text": [
            "Class indices: {'botol_elektrolit_ori_pocari': 0, 'botol_kopi_aren_kopken': 1, 'botol_kopi_cappuccino_golda': 2, 'botol_kopi_susu_abc': 3, 'botol_soda_jeruk_fanta': 4, 'botol_soda_ori_cocacola': 5, 'botol_soda_ori_tebs': 6, 'botol_soda_strawberry_fanta': 7, 'botol_soda_zerosugar_cocacola': 8, 'botol_teh_apel_frestea': 9, 'botol_teh_blackcurrant_fruittea': 10, 'botol_teh_less_sosro': 11, 'botol_teh_less_tehpucuk': 12, 'botol_teh_ori_sosro': 13, 'botol_teh_ori_tehgelas': 14, 'botol_yogurt_mixedfruit_cimory': 15, 'botol_yogurt_ori_cimory': 16, 'cup_mie_ayam_popmie': 17, 'cup_mie_ayambawang_popmie': 18, 'cup_mie_goreng_sedaap': 19, 'cup_mie_kariayam_popmie': 20, 'cup_mie_sotoayam_popmie': 21, 'kaca_nrg_ori_kratingdeng': 22, 'kaleng_soda_limeapel_greensands': 23, 'kaleng_soda_ori_cocacola': 24, 'kaleng_soda_ori_sprite': 25, 'kaleng_soda_sodawater_polaris': 26, 'kaleng_soda_strawberry_fanta': 27, 'kaleng_susu_ori_beruang': 28, 'kotak_jus_apel_abc': 29, 'kotak_jus_jambu_abc': 30, 'kotak_jus_jerukmaduless_nutrisari': 31, 'kotak_jus_jerukperasless_nutrisaari': 32, 'kotak_susu_coklat_ultramilk': 33, 'kotak_susu_fullcream_ultramilk': 34, 'kotak_susu_straberry_ultramilk': 35, 'plastik_biskuit_classic_goodtime': 36, 'plastik_biskuit_doublechoc_goodtime': 37, 'plastik_coklat_dark_silverqueen': 38, 'plastik_coklat_susu_dairymilk': 39, 'plastik_kacang_kupas_duakelinci': 40, 'plastik_mie_ayambawang_indomie': 41, 'plastik_mie_ayambawang_sedaap': 42, 'plastik_mie_ayamkremesisidua_suksess': 43, 'plastik_mie_ayampanggangjumbo_indomie': 44, 'plastik_mie_goreng_indomie': 45, 'plastik_mie_goreng_sedaap': 46, 'plastik_mie_kariayam_indomie': 47, 'plastik_mie_soto_sedaap': 48, 'plastik_mie_sotomie_indomie': 49, 'plastik_mie_sotospesial_indomie': 50, 'plastik_popcorn_ori_poppypop': 51, 'plastik_ringan_keju_twistko': 52, 'zipper_kacang_honeyreasted_mrp': 53}\n",
            "Classes: [ 0  0  0 ... 53 53 53]\n",
            "Validation Class indices: {'botol_elektrolit_ori_pocari': 0, 'botol_kopi_aren_kopken': 1, 'botol_kopi_cappuccino_golda': 2, 'botol_kopi_susu_abc': 3, 'botol_soda_jeruk_fanta': 4, 'botol_soda_ori_cocacola': 5, 'botol_soda_ori_tebs': 6, 'botol_soda_strawberry_fanta': 7, 'botol_soda_zerosugar_cocacola': 8, 'botol_teh_apel_frestea': 9, 'botol_teh_blackcurrant_fruittea': 10, 'botol_teh_less_sosro': 11, 'botol_teh_less_tehpucuk': 12, 'botol_teh_ori_sosro': 13, 'botol_teh_ori_tehgelas': 14, 'botol_yogurt_mixedfruit_cimory': 15, 'botol_yogurt_ori_cimory': 16, 'cup_mie_ayam_popmie': 17, 'cup_mie_ayambawang_popmie': 18, 'cup_mie_goreng_sedaap': 19, 'cup_mie_kariayam_popmie': 20, 'cup_mie_sotoayam_popmie': 21, 'kaca_nrg_ori_kratingdeng': 22, 'kaleng_soda_limeapel_greensands': 23, 'kaleng_soda_ori_cocacola': 24, 'kaleng_soda_ori_sprite': 25, 'kaleng_soda_sodawater_polaris': 26, 'kaleng_soda_strawberry_fanta': 27, 'kaleng_susu_ori_beruang': 28, 'kotak_jus_apel_abc': 29, 'kotak_jus_jambu_abc': 30, 'kotak_jus_jerukmaduless_nutrisari': 31, 'kotak_jus_jerukperasless_nutrisaari': 32, 'kotak_susu_coklat_ultramilk': 33, 'kotak_susu_fullcream_ultramilk': 34, 'kotak_susu_straberry_ultramilk': 35, 'plastik_biskuit_classic_goodtime': 36, 'plastik_biskuit_doublechoc_goodtime': 37, 'plastik_coklat_dark_silverqueen': 38, 'plastik_coklat_susu_dairymilk': 39, 'plastik_kacang_kupas_duakelinci': 40, 'plastik_mie_ayambawang_indomie': 41, 'plastik_mie_ayambawang_sedaap': 42, 'plastik_mie_ayamkremesisidua_suksess': 43, 'plastik_mie_ayampanggangjumbo_indomie': 44, 'plastik_mie_goreng_indomie': 45, 'plastik_mie_goreng_sedaap': 46, 'plastik_mie_kariayam_indomie': 47, 'plastik_mie_soto_sedaap': 48, 'plastik_mie_sotomie_indomie': 49, 'plastik_mie_sotospesial_indomie': 50, 'plastik_popcorn_ori_poppypop': 51, 'plastik_ringan_keju_twistko': 52, 'zipper_kacang_honeyreasted_mrp': 53}\n",
            "Validation Classes: [ 0  0  0 ... 53 53 53]\n"
          ]
        }
      ],
      "source": [
        "# Check the class indices to see the order of the labels\n",
        "print(\"Class indices:\", train_generator.class_indices)\n",
        "print(\"Classes:\", train_generator.classes)\n",
        "\n",
        "# Similarly for validation generator\n",
        "print(\"Validation Class indices:\", validation_generator.class_indices)\n",
        "print(\"Validation Classes:\", validation_generator.classes)"
      ]
    },
    {
      "cell_type": "markdown",
      "metadata": {
        "id": "T7LwrYtTgzTa"
      },
      "source": [
        "# Data Processing"
      ]
    },
    {
      "cell_type": "markdown",
      "metadata": {
        "id": "BA2YU31am2eV"
      },
      "source": [
        "## Model Creation"
      ]
    },
    {
      "cell_type": "code",
      "execution_count": 21,
      "metadata": {
        "id": "oPsYff6kXZlE"
      },
      "outputs": [],
      "source": [
        "def baseLayers(inputs):\n",
        "  x = tf.keras.layers.Conv2D(filters = 32, kernel_size = 3, strides = 2, activation = 'relu', padding='same')(inputs)\n",
        "  x = tf.keras.layers.MaxPooling2D(pool_size=(2, 2), strides=2, padding='same')(x)\n",
        "\n",
        "\n",
        "  x = tf.keras.layers.Conv2D(filters = 64, kernel_size = 3, strides = 2, activation = 'relu', padding='same')(x)\n",
        "  x = tf.keras.layers.MaxPooling2D(pool_size=(2, 2), strides=2, padding='same')(x)\n",
        "\n",
        "\n",
        "  x = tf.keras.layers.Conv2D(filters = 128, kernel_size = 3, strides = 2, activation = 'relu', padding='same')(x)\n",
        "  x = tf.keras.layers.MaxPooling2D(pool_size=(2, 2), strides=2, padding='same')(x)\n",
        "\n",
        "\n",
        "  x = tf.keras.layers.BatchNormalization()(x)\n",
        "  return x"
      ]
    },
    {
      "cell_type": "code",
      "execution_count": 22,
      "metadata": {
        "id": "bVtbYUpAbv1C"
      },
      "outputs": [],
      "source": [
        "def basicModel(inputs, num_classes):\n",
        "  x = baseLayers(inputs)\n",
        "  x = tf.keras.layers.Dropout(0.2)(x)\n",
        "  x = tf.keras.layers.Flatten()(x)\n",
        "\n",
        "  # x_b = baseLayers(tf.image.rgb_to_grayscale(inputs))\n",
        "  # x_b = tf.keras.layers.Dropout(0.6)(x_b)\n",
        "  # x_b = tf.keras.layers.Flatten()(x_b)\n",
        "\n",
        "  # x = tf.keras.layers.Concatenate()([x_a, x_b])\n",
        "  # x = tf.keras.layers.Activation('relu')(x)\n",
        "\n",
        "  x = tf.keras.layers.Dense(512, activation='relu')(x)\n",
        "  x = tf.keras.layers.Dense(1024, activation='relu')(x)\n",
        "  x = tf.keras.layers.Dense(1024, activation='relu')(x)\n",
        "  x = tf.keras.layers.Dense(num_classes, activation='softmax')(x)\n",
        "\n",
        "  return Model(inputs=inputs, outputs=x)"
      ]
    },
    {
      "cell_type": "markdown",
      "metadata": {
        "id": "96ok8O1Wgs6b"
      },
      "source": [
        "## Model Training"
      ]
    },
    {
      "cell_type": "code",
      "execution_count": 23,
      "metadata": {
        "id": "XUj4xRSS4Bgg"
      },
      "outputs": [],
      "source": [
        "# myCNN = CNNPalingPerkasa(num_classes=len(classes_native))\n",
        "# myCNN = MobileNet(num_classes=len(classes_native))\n",
        "myCNN = basicModel(tf.keras.layers.Input(shape=(input_height, input_width, num_channels)),\n",
        "                  num_classes=len(classes_native))"
      ]
    },
    {
      "cell_type": "code",
      "execution_count": 24,
      "metadata": {
        "id": "9P--EQo-oa73"
      },
      "outputs": [],
      "source": [
        "myCNN.build(input_shape=(None, input_height, input_width, num_channels))"
      ]
    },
    {
      "cell_type": "code",
      "execution_count": 25,
      "metadata": {
        "colab": {
          "base_uri": "https://localhost:8080/"
        },
        "id": "3TJDlAjDOJkF",
        "outputId": "2b2317cc-f2f2-438c-b3ad-2c37c6289ac1"
      },
      "outputs": [
        {
          "name": "stdout",
          "output_type": "stream",
          "text": [
            "Model: \"model_1\"\n",
            "_________________________________________________________________\n",
            " Layer (type)                Output Shape              Param #   \n",
            "=================================================================\n",
            " input_2 (InputLayer)        [(None, 224, 224, 3)]     0         \n",
            "                                                                 \n",
            " conv2d_8 (Conv2D)           (None, 112, 112, 32)      896       \n",
            "                                                                 \n",
            " max_pooling2d_4 (MaxPoolin  (None, 56, 56, 32)        0         \n",
            " g2D)                                                            \n",
            "                                                                 \n",
            " conv2d_9 (Conv2D)           (None, 28, 28, 64)        18496     \n",
            "                                                                 \n",
            " max_pooling2d_5 (MaxPoolin  (None, 14, 14, 64)        0         \n",
            " g2D)                                                            \n",
            "                                                                 \n",
            " conv2d_10 (Conv2D)          (None, 7, 7, 128)         73856     \n",
            "                                                                 \n",
            " max_pooling2d_6 (MaxPoolin  (None, 4, 4, 128)         0         \n",
            " g2D)                                                            \n",
            "                                                                 \n",
            " batch_normalization_1 (Bat  (None, 4, 4, 128)         512       \n",
            " chNormalization)                                                \n",
            "                                                                 \n",
            " dropout_1 (Dropout)         (None, 4, 4, 128)         0         \n",
            "                                                                 \n",
            " flatten_1 (Flatten)         (None, 2048)              0         \n",
            "                                                                 \n",
            " dense_4 (Dense)             (None, 512)               1049088   \n",
            "                                                                 \n",
            " dense_5 (Dense)             (None, 1024)              525312    \n",
            "                                                                 \n",
            " dense_6 (Dense)             (None, 1024)              1049600   \n",
            "                                                                 \n",
            " dense_7 (Dense)             (None, 54)                55350     \n",
            "                                                                 \n",
            "=================================================================\n",
            "Total params: 2773110 (10.58 MB)\n",
            "Trainable params: 2772854 (10.58 MB)\n",
            "Non-trainable params: 256 (1.00 KB)\n",
            "_________________________________________________________________\n"
          ]
        }
      ],
      "source": [
        "myCNN.summary()"
      ]
    },
    {
      "cell_type": "code",
      "execution_count": 26,
      "metadata": {
        "id": "1Ylv-IDvWC-6"
      },
      "outputs": [],
      "source": [
        "class MyCallback(tf.keras.callbacks.Callback):\n",
        "        def on_epoch_end(self, epoch, logs={}):\n",
        "            if (logs.get('accuracy') > 0.94 and logs.get('val_accuracy') > 0.94):\n",
        "                self.model.stop_training = True\n",
        "\n",
        "callback = MyCallback()"
      ]
    },
    {
      "cell_type": "code",
      "execution_count": 27,
      "metadata": {
        "colab": {
          "base_uri": "https://localhost:8080/"
        },
        "id": "PAINb_aSp-FJ",
        "outputId": "7bf8f3f1-4081-4542-ef68-b6f0f568cc81"
      },
      "outputs": [
        {
          "name": "stdout",
          "output_type": "stream",
          "text": [
            "Epoch 1/50\n",
            "90/90 [==============================] - 143s 2s/step - loss: 3.0628 - accuracy: 0.1865 - val_loss: 3.2385 - val_accuracy: 0.2217\n",
            "Epoch 2/50\n",
            "90/90 [==============================] - 137s 2s/step - loss: 1.4649 - accuracy: 0.5364 - val_loss: 2.3230 - val_accuracy: 0.4455\n",
            "Epoch 3/50\n",
            "90/90 [==============================] - 138s 2s/step - loss: 0.8898 - accuracy: 0.7067 - val_loss: 1.3235 - val_accuracy: 0.6972\n",
            "Epoch 4/50\n",
            "90/90 [==============================] - 140s 2s/step - loss: 0.6637 - accuracy: 0.7777 - val_loss: 0.7950 - val_accuracy: 0.7908\n",
            "Epoch 5/50\n",
            "90/90 [==============================] - 138s 2s/step - loss: 0.5169 - accuracy: 0.8207 - val_loss: 0.4920 - val_accuracy: 0.8290\n",
            "Epoch 6/50\n",
            "90/90 [==============================] - 137s 2s/step - loss: 0.4642 - accuracy: 0.8408 - val_loss: 0.3662 - val_accuracy: 0.8715\n",
            "Epoch 7/50\n",
            "90/90 [==============================] - 143s 2s/step - loss: 0.4254 - accuracy: 0.8537 - val_loss: 0.3884 - val_accuracy: 0.8818\n",
            "Epoch 8/50\n",
            "90/90 [==============================] - 138s 2s/step - loss: 0.3829 - accuracy: 0.8656 - val_loss: 0.4558 - val_accuracy: 0.8747\n",
            "Epoch 9/50\n",
            "90/90 [==============================] - 138s 2s/step - loss: 0.3157 - accuracy: 0.8863 - val_loss: 1.0063 - val_accuracy: 0.8263\n",
            "Epoch 10/50\n",
            "90/90 [==============================] - 139s 2s/step - loss: 0.3210 - accuracy: 0.8896 - val_loss: 0.5761 - val_accuracy: 0.8791\n",
            "Epoch 11/50\n",
            "90/90 [==============================] - 141s 2s/step - loss: 0.2818 - accuracy: 0.9013 - val_loss: 0.5248 - val_accuracy: 0.8943\n",
            "Epoch 12/50\n",
            "90/90 [==============================] - 138s 2s/step - loss: 0.2324 - accuracy: 0.9154 - val_loss: 0.3622 - val_accuracy: 0.9096\n",
            "Epoch 13/50\n",
            "90/90 [==============================] - 136s 2s/step - loss: 0.2513 - accuracy: 0.9057 - val_loss: 0.2696 - val_accuracy: 0.9368\n",
            "Epoch 14/50\n",
            "90/90 [==============================] - 142s 2s/step - loss: 0.2356 - accuracy: 0.9119 - val_loss: 0.2827 - val_accuracy: 0.9336\n",
            "Epoch 15/50\n",
            "90/90 [==============================] - 142s 2s/step - loss: 0.2105 - accuracy: 0.9211 - val_loss: 0.4404 - val_accuracy: 0.9074\n",
            "Epoch 16/50\n",
            "90/90 [==============================] - 142s 2s/step - loss: 0.2277 - accuracy: 0.9164 - val_loss: 0.4860 - val_accuracy: 0.8998\n",
            "Epoch 17/50\n",
            "90/90 [==============================] - 136s 2s/step - loss: 0.2213 - accuracy: 0.9188 - val_loss: 0.2665 - val_accuracy: 0.9341\n",
            "Epoch 18/50\n",
            "90/90 [==============================] - 137s 2s/step - loss: 0.1695 - accuracy: 0.9340 - val_loss: 0.7916 - val_accuracy: 0.8791\n",
            "Epoch 19/50\n",
            "90/90 [==============================] - 142s 2s/step - loss: 0.1939 - accuracy: 0.9250 - val_loss: 0.3575 - val_accuracy: 0.9243\n",
            "Epoch 20/50\n",
            "90/90 [==============================] - 143s 2s/step - loss: 0.1871 - accuracy: 0.9311 - val_loss: 0.2223 - val_accuracy: 0.9483\n",
            "Epoch 21/50\n",
            "90/90 [==============================] - 142s 2s/step - loss: 0.1971 - accuracy: 0.9273 - val_loss: 0.2315 - val_accuracy: 0.9417\n",
            "Epoch 22/50\n",
            "90/90 [==============================] - 142s 2s/step - loss: 0.1728 - accuracy: 0.9352 - val_loss: 0.3550 - val_accuracy: 0.9172\n",
            "Epoch 23/50\n",
            "90/90 [==============================] - 136s 2s/step - loss: 0.1657 - accuracy: 0.9361 - val_loss: 1.1784 - val_accuracy: 0.8660\n",
            "Epoch 24/50\n",
            "90/90 [==============================] - 138s 2s/step - loss: 0.1937 - accuracy: 0.9293 - val_loss: 0.2611 - val_accuracy: 0.9406\n",
            "Epoch 25/50\n",
            "90/90 [==============================] - 137s 2s/step - loss: 0.1727 - accuracy: 0.9325 - val_loss: 0.5682 - val_accuracy: 0.9003\n",
            "Epoch 26/50\n",
            "90/90 [==============================] - 138s 2s/step - loss: 0.1522 - accuracy: 0.9419 - val_loss: 0.5208 - val_accuracy: 0.9221\n",
            "Epoch 27/50\n",
            "90/90 [==============================] - 142s 2s/step - loss: 0.1575 - accuracy: 0.9417 - val_loss: 0.5895 - val_accuracy: 0.8965\n",
            "Epoch 28/50\n",
            "90/90 [==============================] - 137s 2s/step - loss: 0.1565 - accuracy: 0.9417 - val_loss: 0.2713 - val_accuracy: 0.9390\n",
            "Epoch 29/50\n",
            "90/90 [==============================] - 137s 2s/step - loss: 0.1755 - accuracy: 0.9366 - val_loss: 1.4435 - val_accuracy: 0.8214\n",
            "Epoch 30/50\n",
            "90/90 [==============================] - 138s 2s/step - loss: 0.1516 - accuracy: 0.9447 - val_loss: 0.3090 - val_accuracy: 0.9412\n",
            "Epoch 31/50\n",
            "90/90 [==============================] - 138s 2s/step - loss: 0.1550 - accuracy: 0.9409 - val_loss: 1.0744 - val_accuracy: 0.8442\n",
            "Epoch 32/50\n",
            "90/90 [==============================] - 137s 2s/step - loss: 0.1343 - accuracy: 0.9487 - val_loss: 0.6110 - val_accuracy: 0.9205\n",
            "Epoch 33/50\n",
            "90/90 [==============================] - 138s 2s/step - loss: 0.1367 - accuracy: 0.9447 - val_loss: 0.2452 - val_accuracy: 0.9466\n",
            "Epoch 34/50\n",
            "90/90 [==============================] - 138s 2s/step - loss: 0.1561 - accuracy: 0.9407 - val_loss: 0.3224 - val_accuracy: 0.9276\n",
            "Epoch 35/50\n",
            "90/90 [==============================] - 137s 2s/step - loss: 0.1345 - accuracy: 0.9461 - val_loss: 0.5155 - val_accuracy: 0.9074\n",
            "Epoch 36/50\n",
            "90/90 [==============================] - 139s 2s/step - loss: 0.1318 - accuracy: 0.9492 - val_loss: 0.2512 - val_accuracy: 0.9461\n",
            "Epoch 37/50\n",
            "90/90 [==============================] - 138s 2s/step - loss: 0.1534 - accuracy: 0.9404 - val_loss: 0.2310 - val_accuracy: 0.9428\n",
            "Epoch 38/50\n",
            "90/90 [==============================] - 141s 2s/step - loss: 0.1634 - accuracy: 0.9388 - val_loss: 0.2004 - val_accuracy: 0.9401\n",
            "Epoch 39/50\n",
            "90/90 [==============================] - 137s 2s/step - loss: 0.1414 - accuracy: 0.9504 - val_loss: 0.3523 - val_accuracy: 0.9303\n",
            "Epoch 40/50\n",
            "90/90 [==============================] - 139s 2s/step - loss: 0.1339 - accuracy: 0.9494 - val_loss: 0.4159 - val_accuracy: 0.9303\n",
            "Epoch 41/50\n",
            "90/90 [==============================] - 138s 2s/step - loss: 0.1491 - accuracy: 0.9472 - val_loss: 0.9153 - val_accuracy: 0.8644\n",
            "Epoch 42/50\n",
            "90/90 [==============================] - 136s 2s/step - loss: 0.1229 - accuracy: 0.9502 - val_loss: 0.2634 - val_accuracy: 0.9423\n",
            "Epoch 43/50\n",
            "90/90 [==============================] - 138s 2s/step - loss: 0.1098 - accuracy: 0.9560 - val_loss: 0.8523 - val_accuracy: 0.8725\n",
            "Epoch 44/50\n",
            "90/90 [==============================] - 137s 2s/step - loss: 0.1199 - accuracy: 0.9533 - val_loss: 0.6302 - val_accuracy: 0.9090\n",
            "Epoch 45/50\n",
            "90/90 [==============================] - 138s 2s/step - loss: 0.1240 - accuracy: 0.9500 - val_loss: 0.3898 - val_accuracy: 0.9336\n",
            "Epoch 46/50\n",
            "90/90 [==============================] - 143s 2s/step - loss: 0.1433 - accuracy: 0.9454 - val_loss: 0.2466 - val_accuracy: 0.9450\n",
            "Epoch 47/50\n",
            "90/90 [==============================] - 146s 2s/step - loss: 0.1182 - accuracy: 0.9554 - val_loss: 0.4534 - val_accuracy: 0.9259\n",
            "Epoch 48/50\n",
            "90/90 [==============================] - 146s 2s/step - loss: 0.1241 - accuracy: 0.9515 - val_loss: 0.1310 - val_accuracy: 0.9635\n"
          ]
        }
      ],
      "source": [
        "myCNN.compile(optimizer=tf.keras.optimizers.Adam(learning_rate=0.001),\n",
        "              loss='sparse_categorical_crossentropy',\n",
        "              metrics=['accuracy'])\n",
        "\n",
        "history = myCNN.fit(train_generator,\n",
        "                    epochs=50,\n",
        "                    verbose=1,\n",
        "                    callbacks=[callback],\n",
        "                    validation_data=validation_generator)"
      ]
    },
    {
      "cell_type": "code",
      "execution_count": 28,
      "metadata": {
        "colab": {
          "base_uri": "https://localhost:8080/",
          "height": 887
        },
        "id": "LXjemiYCRz74",
        "outputId": "f3921d6a-538a-4ded-959a-7a97fccbf914"
      },
      "outputs": [
        {
          "data": {
            "image/png": "[encoded data removed]",
            "text/plain": [
              "<Figure size 640x480 with 1 Axes>"
            ]
          },
          "metadata": {},
          "output_type": "display_data"
        },
        {
          "data": {
            "image/png": "[encoded data removed]",
            "text/plain": [
              "<Figure size 640x480 with 1 Axes>"
            ]
          },
          "metadata": {},
          "output_type": "display_data"
        }
      ],
      "source": [
        "acc = history.history['accuracy']\n",
        "val_acc = history.history['val_accuracy']\n",
        "loss = history.history['loss']\n",
        "val_loss = history.history['val_loss']\n",
        "\n",
        "epochs = range(len(acc))\n",
        "\n",
        "plt.plot(epochs, acc, 'r', label='Training accuracy')\n",
        "plt.plot(epochs, val_acc, 'b', label='Validation accuracy')\n",
        "plt.title('Training and validation accuracy')\n",
        "plt.legend()\n",
        "plt.figure()\n",
        "\n",
        "plt.plot(epochs, loss, 'r', label='Training Loss')\n",
        "plt.plot(epochs, val_loss, 'b', label='Validation Loss')\n",
        "plt.title('Training and validation loss')\n",
        "plt.legend()\n",
        "\n",
        "plt.show()"
      ]
    },
    {
      "cell_type": "markdown",
      "metadata": {
        "id": "du-lPwUOgu-k"
      },
      "source": [
        "## Model Testing"
      ]
    },
    {
      "cell_type": "code",
      "execution_count": null,
      "metadata": {
        "colab": {
          "base_uri": "https://localhost:8080/",
          "height": 316
        },
        "id": "Uc4IgFu9_YrU",
        "outputId": "fb9f01d9-fd9d-4ca5-ecb1-1724ef64e319"
      },
      "outputs": [
        {
          "ename": "ValueError",
          "evalue": "mount failed",
          "output_type": "error",
          "traceback": [
            "\u001b[0;31m---------------------------------------------------------------------------\u001b[0m",
            "\u001b[0;31mValueError\u001b[0m                                Traceback (most recent call last)",
            "\u001b[0;32m<ipython-input-63-d5df0069828e>\u001b[0m in \u001b[0;36m<cell line: 2>\u001b[0;34m()\u001b[0m\n\u001b[1;32m      1\u001b[0m \u001b[0;32mfrom\u001b[0m \u001b[0mgoogle\u001b[0m\u001b[0;34m.\u001b[0m\u001b[0mcolab\u001b[0m \u001b[0;32mimport\u001b[0m \u001b[0mdrive\u001b[0m\u001b[0;34m\u001b[0m\u001b[0;34m\u001b[0m\u001b[0m\n\u001b[0;32m----> 2\u001b[0;31m \u001b[0mdrive\u001b[0m\u001b[0;34m.\u001b[0m\u001b[0mmount\u001b[0m\u001b[0;34m(\u001b[0m\u001b[0;34m'/content/drive'\u001b[0m\u001b[0;34m)\u001b[0m\u001b[0;34m\u001b[0m\u001b[0;34m\u001b[0m\u001b[0m\n\u001b[0m",
            "\u001b[0;32m/usr/local/lib/python3.10/dist-packages/google/colab/drive.py\u001b[0m in \u001b[0;36mmount\u001b[0;34m(mountpoint, force_remount, timeout_ms, readonly)\u001b[0m\n\u001b[1;32m     98\u001b[0m \u001b[0;32mdef\u001b[0m \u001b[0mmount\u001b[0m\u001b[0;34m(\u001b[0m\u001b[0mmountpoint\u001b[0m\u001b[0;34m,\u001b[0m \u001b[0mforce_remount\u001b[0m\u001b[0;34m=\u001b[0m\u001b[0;32mFalse\u001b[0m\u001b[0;34m,\u001b[0m \u001b[0mtimeout_ms\u001b[0m\u001b[0;34m=\u001b[0m\u001b[0;36m120000\u001b[0m\u001b[0;34m,\u001b[0m \u001b[0mreadonly\u001b[0m\u001b[0;34m=\u001b[0m\u001b[0;32mFalse\u001b[0m\u001b[0;34m)\u001b[0m\u001b[0;34m:\u001b[0m\u001b[0;34m\u001b[0m\u001b[0;34m\u001b[0m\u001b[0m\n\u001b[1;32m     99\u001b[0m   \u001b[0;34m\"\"\"Mount your Google Drive at the specified mountpoint path.\"\"\"\u001b[0m\u001b[0;34m\u001b[0m\u001b[0;34m\u001b[0m\u001b[0m\n\u001b[0;32m--> 100\u001b[0;31m   return _mount(\n\u001b[0m\u001b[1;32m    101\u001b[0m       \u001b[0mmountpoint\u001b[0m\u001b[0;34m,\u001b[0m\u001b[0;34m\u001b[0m\u001b[0;34m\u001b[0m\u001b[0m\n\u001b[1;32m    102\u001b[0m       \u001b[0mforce_remount\u001b[0m\u001b[0;34m=\u001b[0m\u001b[0mforce_remount\u001b[0m\u001b[0;34m,\u001b[0m\u001b[0;34m\u001b[0m\u001b[0;34m\u001b[0m\u001b[0m\n",
            "\u001b[0;32m/usr/local/lib/python3.10/dist-packages/google/colab/drive.py\u001b[0m in \u001b[0;36m_mount\u001b[0;34m(mountpoint, force_remount, timeout_ms, ephemeral, readonly)\u001b[0m\n\u001b[1;32m    281\u001b[0m             \u001b[0;34m'https://research.google.com/colaboratory/faq.html#drive-timeout'\u001b[0m\u001b[0;34m\u001b[0m\u001b[0;34m\u001b[0m\u001b[0m\n\u001b[1;32m    282\u001b[0m         )\n\u001b[0;32m--> 283\u001b[0;31m       \u001b[0;32mraise\u001b[0m \u001b[0mValueError\u001b[0m\u001b[0;34m(\u001b[0m\u001b[0;34m'mount failed'\u001b[0m \u001b[0;34m+\u001b[0m \u001b[0mextra_reason\u001b[0m\u001b[0;34m)\u001b[0m\u001b[0;34m\u001b[0m\u001b[0;34m\u001b[0m\u001b[0m\n\u001b[0m\u001b[1;32m    284\u001b[0m     \u001b[0;32melif\u001b[0m \u001b[0mcase\u001b[0m \u001b[0;34m==\u001b[0m \u001b[0;36m4\u001b[0m\u001b[0;34m:\u001b[0m\u001b[0;34m\u001b[0m\u001b[0;34m\u001b[0m\u001b[0m\n\u001b[1;32m    285\u001b[0m       \u001b[0;31m# Terminate the DriveFS binary before killing bash.\u001b[0m\u001b[0;34m\u001b[0m\u001b[0;34m\u001b[0m\u001b[0m\n",
            "\u001b[0;31mValueError\u001b[0m: mount failed"
          ]
        }
      ],
      "source": [
        "from google.colab import drive\n",
        "drive.mount('/content/drive')"
      ]
    },
    {
      "cell_type": "code",
      "execution_count": null,
      "metadata": {
        "colab": {
          "base_uri": "https://localhost:8080/"
        },
        "id": "JKXH2ErsR6mI",
        "outputId": "e5556a49-10a2-4892-a7ea-f148b3beeb67"
      },
      "outputs": [
        {
          "name": "stdout",
          "output_type": "stream",
          "text": [
            "1/1 [==============================] - 0s 99ms/step\n",
            "Predictions: [[4.8344651e-01 2.3278465e-06 4.5160946e-01 4.8102374e-04 8.0546663e-08\n",
            "  1.2651273e-06 6.0666144e-02 3.7932382e-03]]\n",
            "Predicted label: [0]\n",
            "fres_tea\n"
          ]
        }
      ],
      "source": [
        "# Load the image\n",
        "new_image = plt.imread('/content/drive/MyDrive/Colab Notebooks/CNN-Capstone-Dataset/nu.jpg')\n",
        "\n",
        "# Ensure the image has the correct number of channels (e.g., 3 for RGB)\n",
        "if new_image.shape[-1] != 3:\n",
        "    new_image = tf.image.grayscale_to_rgb(new_image)\n",
        "\n",
        "# Resize the image to the input shape required by your model\n",
        "input_shape = (input_height, input_width)  # Replace with your model's input shape\n",
        "new_image = tf.image.resize(new_image, input_shape)\n",
        "\n",
        "# Normalize the image (if your model was trained on normalized images, e.g., values in range [0, 1])\n",
        "new_image = new_image / 255.0\n",
        "\n",
        "# Add a batch dimension\n",
        "new_image = np.expand_dims(new_image, axis=0)\n",
        "\n",
        "# Make predictions\n",
        "predictions = myCNN.predict(new_image)\n",
        "\n",
        "# Print the predictions\n",
        "print(\"Predictions:\", predictions)\n",
        "\n",
        "# Print the predicted label\n",
        "predicted_label = np.argmax(predictions, axis=1)\n",
        "print(\"Predicted label:\", predicted_label)\n",
        "\n",
        "print(list(train_generator.class_indices)[np.argmax(predictions)])"
      ]
    },
    {
      "cell_type": "markdown",
      "metadata": {
        "id": "CkERJ2xlMFVD"
      },
      "source": [
        "## Model Export"
      ]
    },
    {
      "cell_type": "code",
      "execution_count": 29,
      "metadata": {
        "colab": {
          "base_uri": "https://localhost:8080/"
        },
        "id": "9E7Z916mUlfT",
        "outputId": "1b0d0d3c-01a6-4858-de1a-4a2295fd048b"
      },
      "outputs": [
        {
          "name": "stderr",
          "output_type": "stream",
          "text": [
            "/usr/local/lib/python3.10/dist-packages/keras/src/engine/training.py:3103: UserWarning: You are saving your model as an HDF5 file via `model.save()`. This file format is considered legacy. We recommend using instead the native Keras format, e.g. `model.save('my_model.keras')`.\n",
            "  saving_api.save_model(\n"
          ]
        }
      ],
      "source": [
        "myCNN.save(\"model.h5\")"
      ]
    }
  ],
  "metadata": {
    "accelerator": "GPU",
    "colab": {
      "collapsed_sections": [
        "jxmE8lvKQnD_",
        "dVoOPiIPPr03",
        "PHsiUXctPv1w",
        "97cZGcBzgqcU"
      ],
      "gpuType": "T4",
      "provenance": []
    },
    "kernelspec": {
      "display_name": "Python 3",
      "name": "python3"
    },
    "language_info": {
      "name": "python"
    }
  },
  "nbformat": 4,
  "nbformat_minor": 0
}
