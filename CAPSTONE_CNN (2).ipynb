{
  "cells": [
    {
      "cell_type": "code",
      "source": [
        "!pip install tensorflow\n",
        "!pip install keras"
      ],
      "metadata": {
        "colab": {
          "base_uri": "https://localhost:8080/"
        },
        "id": "leypn4QZZQIx",
        "outputId": "14332797-e263-4227-aec2-68f1253fab1b"
      },
      "execution_count": 1,
      "outputs": [
        {
          "output_type": "stream",
          "name": "stdout",
          "text": [
            "Requirement already satisfied: tensorflow in /usr/local/lib/python3.10/dist-packages (2.15.0)\n",
            "Requirement already satisfied: absl-py>=1.0.0 in /usr/local/lib/python3.10/dist-packages (from tensorflow) (1.4.0)\n",
            "Requirement already satisfied: astunparse>=1.6.0 in /usr/local/lib/python3.10/dist-packages (from tensorflow) (1.6.3)\n",
            "Requirement already satisfied: flatbuffers>=23.5.26 in /usr/local/lib/python3.10/dist-packages (from tensorflow) (24.3.25)\n",
            "Requirement already satisfied: gast!=0.5.0,!=0.5.1,!=0.5.2,>=0.2.1 in /usr/local/lib/python3.10/dist-packages (from tensorflow) (0.5.4)\n",
            "Requirement already satisfied: google-pasta>=0.1.1 in /usr/local/lib/python3.10/dist-packages (from tensorflow) (0.2.0)\n",
            "Requirement already satisfied: h5py>=2.9.0 in /usr/local/lib/python3.10/dist-packages (from tensorflow) (3.11.0)\n",
            "Requirement already satisfied: libclang>=13.0.0 in /usr/local/lib/python3.10/dist-packages (from tensorflow) (18.1.1)\n",
            "Requirement already satisfied: ml-dtypes~=0.2.0 in /usr/local/lib/python3.10/dist-packages (from tensorflow) (0.2.0)\n",
            "Requirement already satisfied: numpy<2.0.0,>=1.23.5 in /usr/local/lib/python3.10/dist-packages (from tensorflow) (1.25.2)\n",
            "Requirement already satisfied: opt-einsum>=2.3.2 in /usr/local/lib/python3.10/dist-packages (from tensorflow) (3.3.0)\n",
            "Requirement already satisfied: packaging in /usr/local/lib/python3.10/dist-packages (from tensorflow) (24.1)\n",
            "Requirement already satisfied: protobuf!=4.21.0,!=4.21.1,!=4.21.2,!=4.21.3,!=4.21.4,!=4.21.5,<5.0.0dev,>=3.20.3 in /usr/local/lib/python3.10/dist-packages (from tensorflow) (3.20.3)\n",
            "Requirement already satisfied: setuptools in /usr/local/lib/python3.10/dist-packages (from tensorflow) (67.7.2)\n",
            "Requirement already satisfied: six>=1.12.0 in /usr/local/lib/python3.10/dist-packages (from tensorflow) (1.16.0)\n",
            "Requirement already satisfied: termcolor>=1.1.0 in /usr/local/lib/python3.10/dist-packages (from tensorflow) (2.4.0)\n",
            "Requirement already satisfied: typing-extensions>=3.6.6 in /usr/local/lib/python3.10/dist-packages (from tensorflow) (4.12.2)\n",
            "Requirement already satisfied: wrapt<1.15,>=1.11.0 in /usr/local/lib/python3.10/dist-packages (from tensorflow) (1.14.1)\n",
            "Requirement already satisfied: tensorflow-io-gcs-filesystem>=0.23.1 in /usr/local/lib/python3.10/dist-packages (from tensorflow) (0.37.0)\n",
            "Requirement already satisfied: grpcio<2.0,>=1.24.3 in /usr/local/lib/python3.10/dist-packages (from tensorflow) (1.64.1)\n",
            "Requirement already satisfied: tensorboard<2.16,>=2.15 in /usr/local/lib/python3.10/dist-packages (from tensorflow) (2.15.2)\n",
            "Requirement already satisfied: tensorflow-estimator<2.16,>=2.15.0 in /usr/local/lib/python3.10/dist-packages (from tensorflow) (2.15.0)\n",
            "Requirement already satisfied: keras<2.16,>=2.15.0 in /usr/local/lib/python3.10/dist-packages (from tensorflow) (2.15.0)\n",
            "Requirement already satisfied: wheel<1.0,>=0.23.0 in /usr/local/lib/python3.10/dist-packages (from astunparse>=1.6.0->tensorflow) (0.43.0)\n",
            "Requirement already satisfied: google-auth<3,>=1.6.3 in /usr/local/lib/python3.10/dist-packages (from tensorboard<2.16,>=2.15->tensorflow) (2.27.0)\n",
            "Requirement already satisfied: google-auth-oauthlib<2,>=0.5 in /usr/local/lib/python3.10/dist-packages (from tensorboard<2.16,>=2.15->tensorflow) (1.2.0)\n",
            "Requirement already satisfied: markdown>=2.6.8 in /usr/local/lib/python3.10/dist-packages (from tensorboard<2.16,>=2.15->tensorflow) (3.6)\n",
            "Requirement already satisfied: requests<3,>=2.21.0 in /usr/local/lib/python3.10/dist-packages (from tensorboard<2.16,>=2.15->tensorflow) (2.31.0)\n",
            "Requirement already satisfied: tensorboard-data-server<0.8.0,>=0.7.0 in /usr/local/lib/python3.10/dist-packages (from tensorboard<2.16,>=2.15->tensorflow) (0.7.2)\n",
            "Requirement already satisfied: werkzeug>=1.0.1 in /usr/local/lib/python3.10/dist-packages (from tensorboard<2.16,>=2.15->tensorflow) (3.0.3)\n",
            "Requirement already satisfied: cachetools<6.0,>=2.0.0 in /usr/local/lib/python3.10/dist-packages (from google-auth<3,>=1.6.3->tensorboard<2.16,>=2.15->tensorflow) (5.3.3)\n",
            "Requirement already satisfied: pyasn1-modules>=0.2.1 in /usr/local/lib/python3.10/dist-packages (from google-auth<3,>=1.6.3->tensorboard<2.16,>=2.15->tensorflow) (0.4.0)\n",
            "Requirement already satisfied: rsa<5,>=3.1.4 in /usr/local/lib/python3.10/dist-packages (from google-auth<3,>=1.6.3->tensorboard<2.16,>=2.15->tensorflow) (4.9)\n",
            "Requirement already satisfied: requests-oauthlib>=0.7.0 in /usr/local/lib/python3.10/dist-packages (from google-auth-oauthlib<2,>=0.5->tensorboard<2.16,>=2.15->tensorflow) (2.0.0)\n",
            "Requirement already satisfied: charset-normalizer<4,>=2 in /usr/local/lib/python3.10/dist-packages (from requests<3,>=2.21.0->tensorboard<2.16,>=2.15->tensorflow) (3.3.2)\n",
            "Requirement already satisfied: idna<4,>=2.5 in /usr/local/lib/python3.10/dist-packages (from requests<3,>=2.21.0->tensorboard<2.16,>=2.15->tensorflow) (3.7)\n",
            "Requirement already satisfied: urllib3<3,>=1.21.1 in /usr/local/lib/python3.10/dist-packages (from requests<3,>=2.21.0->tensorboard<2.16,>=2.15->tensorflow) (2.0.7)\n",
            "Requirement already satisfied: certifi>=2017.4.17 in /usr/local/lib/python3.10/dist-packages (from requests<3,>=2.21.0->tensorboard<2.16,>=2.15->tensorflow) (2024.6.2)\n",
            "Requirement already satisfied: MarkupSafe>=2.1.1 in /usr/local/lib/python3.10/dist-packages (from werkzeug>=1.0.1->tensorboard<2.16,>=2.15->tensorflow) (2.1.5)\n",
            "Requirement already satisfied: pyasn1<0.7.0,>=0.4.6 in /usr/local/lib/python3.10/dist-packages (from pyasn1-modules>=0.2.1->google-auth<3,>=1.6.3->tensorboard<2.16,>=2.15->tensorflow) (0.6.0)\n",
            "Requirement already satisfied: oauthlib>=3.0.0 in /usr/local/lib/python3.10/dist-packages (from requests-oauthlib>=0.7.0->google-auth-oauthlib<2,>=0.5->tensorboard<2.16,>=2.15->tensorflow) (3.2.2)\n",
            "Requirement already satisfied: keras in /usr/local/lib/python3.10/dist-packages (2.15.0)\n"
          ]
        }
      ]
    },
    {
      "cell_type": "code",
      "execution_count": 2,
      "metadata": {
        "colab": {
          "base_uri": "https://localhost:8080/"
        },
        "id": "iivcQtXmxY8F",
        "outputId": "3d30c846-5886-407e-9849-762ee08a4eee"
      },
      "outputs": [
        {
          "output_type": "stream",
          "name": "stdout",
          "text": [
            "Colab only includes TensorFlow 2.x; %tensorflow_version has no effect.\n"
          ]
        }
      ],
      "source": [
        "try:\n",
        "    # %tensorflow_version only exists in Colab.\n",
        "    %tensorflow_version 2.x\n",
        "except Exception:\n",
        "    pass\n",
        "\n",
        "import tensorflow as tf\n",
        "from tensorflow import keras\n",
        "from tensorflow.keras import layers, Model\n",
        "from tensorflow.keras.layers import Dense\n",
        "from tensorflow.keras.layers import concatenate\n",
        "from tensorflow.keras.layers import Input\n",
        "from tensorflow.keras.utils import plot_model\n",
        "from tensorflow.keras.preprocessing.image import ImageDataGenerator\n",
        "\n",
        "import os\n",
        "import zipfile\n",
        "import random\n",
        "import shutil\n",
        "from shutil import copyfile\n",
        "import matplotlib.pyplot as plt\n",
        "import string\n",
        "import numpy as np\n",
        "import urllib.request"
      ]
    },
    {
      "cell_type": "markdown",
      "metadata": {
        "id": "2jDwClB9gn_E"
      },
      "source": [
        "# Data Preparation"
      ]
    },
    {
      "cell_type": "code",
      "source": [
        "data_url = \"https://storage.cloud.google.com/dataset_nutrisee\"\n",
        "data_file_name = \"dataset.zip\""
      ],
      "metadata": {
        "id": "71IUNvcSQxoW"
      },
      "execution_count": 3,
      "outputs": []
    },
    {
      "cell_type": "markdown",
      "metadata": {
        "id": "0ObCXKlhNgBc"
      },
      "source": [
        "Hyper parameters"
      ]
    },
    {
      "cell_type": "code",
      "execution_count": 4,
      "metadata": {
        "id": "hXN5G3RFNfnb"
      },
      "outputs": [],
      "source": [
        "# Define root directory\n",
        "root_dir = '/tmp/data'\n",
        "\n",
        "# Define paths\n",
        "SOURCE_DIR = \"/tmp/dataset/\"\n",
        "TRAINING_DIR = \"/tmp/data/training/\"\n",
        "VALIDATION_DIR = \"/tmp/data/validation/\"\n",
        "\n",
        "# Define proportion of images used for training\n",
        "split_size = .8\n",
        "\n",
        "# Define input shape details\n",
        "input_height = 224\n",
        "input_width = 224\n",
        "num_channels = 3"
      ]
    },
    {
      "cell_type": "markdown",
      "metadata": {
        "id": "TEMqrCaOhl-z"
      },
      "source": [
        "## Import data from Google Drive"
      ]
    },
    {
      "cell_type": "markdown",
      "source": [
        "### Import from Downloadable Drive"
      ],
      "metadata": {
        "id": "qCdd0faeDiIc"
      }
    },
    {
      "cell_type": "code",
      "source": [
        "# import online"
      ],
      "metadata": {
        "id": "m092edx2Dgqd"
      },
      "execution_count": null,
      "outputs": []
    },
    {
      "cell_type": "markdown",
      "source": [
        "### Import from Local Google Drive"
      ],
      "metadata": {
        "id": "LPWTqyF-DlpX"
      }
    },
    {
      "cell_type": "code",
      "execution_count": 5,
      "metadata": {
        "colab": {
          "base_uri": "https://localhost:8080/"
        },
        "id": "JHS110ojgCzU",
        "outputId": "ab02d162-7c7a-4f5f-a10c-f88556734007"
      },
      "outputs": [
        {
          "output_type": "stream",
          "name": "stdout",
          "text": [
            "Drive already mounted at /content/drive; to attempt to forcibly remount, call drive.mount(\"/content/drive\", force_remount=True).\n"
          ]
        }
      ],
      "source": [
        "# read csv data file\n",
        "from google.colab import drive\n",
        "drive.mount('/content/drive')"
      ]
    },
    {
      "cell_type": "code",
      "execution_count": 6,
      "metadata": {
        "id": "ag8N_WCgg8yv"
      },
      "outputs": [],
      "source": [
        "path = \"/content/drive/MyDrive/Colab Notebooks/CNN-Capstone-Dataset/dataset.zip\"\n",
        "zip_ref   = zipfile.ZipFile(path, 'r')\n",
        "zip_ref.extractall('/tmp/dataset')\n",
        "zip_ref.close()"
      ]
    },
    {
      "cell_type": "code",
      "execution_count": 7,
      "metadata": {
        "colab": {
          "base_uri": "https://localhost:8080/"
        },
        "id": "z3Iq45X-hESK",
        "outputId": "4c0da61e-d761-44a3-8134-b0466154c459"
      },
      "outputs": [
        {
          "output_type": "stream",
          "name": "stdout",
          "text": [
            "['kotak_jus_jerukmaduless_nutrisari', 'cup_mie_ayambawang_popmie', 'cup_mie_ayam_popmie', 'plastik_mie_goreng_sedaap', 'plastik_mie_ayampanggangjumbo_indomie', 'plastik_mie_ayambawang_sedaap', 'botol_teh_ori_tehgelas', 'zipper_kacang_honeyreasted_mrp', 'botol_yogurt_mixedfruit_cimory', 'kotak_jus_jambu_abc', 'botol_kopi_aren_kopken', 'botol_teh_less_sosro', 'botol_teh_less_tehpucuk', 'plastik_mie_soto_sedaap', 'kaca_nrg_ori_kratingdeng', 'plastik_coklat_dark_silverqueen', 'kotak_jus_apel_abc', 'kotak_susu_fullcream_ultramilk', 'botol_elektrolit_ori_pocari', 'botol_kopi_cappuccino_golda', 'plastik_biskuit_classic_goodtime', 'kaleng_soda_sodawater_polaris', 'kotak_susu_straberry_ultramilk', 'plastik_ringan_keju_twistko', 'plastik_mie_ayambawang_indomie', 'plastik_mie_sotomie_indomie', 'plastik_mie_sotospesial_indomie', 'kaleng_soda_limeapel_greensands', 'cup_mie_goreng_sedaap', 'kaleng_soda_ori_cocacola', 'botol_soda_zerosugar_cocacola', 'botol_soda_strawberry_fanta', 'kaleng_soda_strawberry_fanta', 'plastik_biskuit_doublechoc_goodtime', 'kotak_jus_jerukperasless_nutrisaari', 'plastik_mie_goreng_indomie', 'kaleng_soda_ori_sprite', 'kotak_susu_coklat_ultramilk', 'plastik_mie_ayamkremesisidua_suksess', 'botol_teh_apel_frestea', 'plastik_mie_kariayam_indomie', 'botol_soda_jeruk_fanta', 'botol_yogurt_ori_cimory', 'botol_teh_ori_sosro', 'botol_teh_blackcurrant_fruittea', 'plastik_popcorn_ori_poppypop', 'cup_mie_sotoayam_popmie', 'botol_soda_ori_cocacola', 'kaleng_susu_ori_beruang', 'plastik_coklat_susu_dairymilk', 'plastik_kacang_kupas_duakelinci', 'botol_soda_ori_tebs', 'cup_mie_kariayam_popmie', 'botol_kopi_susu_abc']\n"
          ]
        }
      ],
      "source": [
        "# show all exported label\n",
        "print(os.listdir('/tmp/dataset'))"
      ]
    },
    {
      "cell_type": "code",
      "execution_count": null,
      "metadata": {
        "id": "MFCiksVXJXIF"
      },
      "outputs": [],
      "source": [
        "shutil.rmtree('/tmp')"
      ]
    },
    {
      "cell_type": "markdown",
      "metadata": {
        "id": "E4ddeZ68hX1L"
      },
      "source": [
        "## Directory Creation"
      ]
    },
    {
      "cell_type": "code",
      "execution_count": 8,
      "metadata": {
        "id": "EyhirXoVhI7T"
      },
      "outputs": [],
      "source": [
        "# Empty directory to prevent FileExistsError is the function is run several times\n",
        "if os.path.exists(root_dir):\n",
        "  shutil.rmtree(root_dir)\n",
        "\n",
        "def create_train_val_dirs(root_path, classes):\n",
        "    train_dir = os.path.join(root_path, 'training')\n",
        "    val_dir = os.path.join(root_path, 'validation')\n",
        "\n",
        "    # Make directories for each class in training and validation sets\n",
        "    for class_name in classes:\n",
        "        train_class_dir = os.path.join(train_dir, class_name)\n",
        "        val_class_dir = os.path.join(val_dir, class_name)\n",
        "\n",
        "        os.makedirs(train_class_dir)\n",
        "        os.makedirs(val_class_dir)\n",
        "\n",
        "try:\n",
        "    classes = os.listdir('/tmp/dataset')\n",
        "    create_train_val_dirs(root_path=root_dir, classes=classes)\n",
        "except FileExistsError:\n",
        "  print(\"You should not be seeing this since the upper directory is removed beforehand\")"
      ]
    },
    {
      "cell_type": "code",
      "execution_count": 9,
      "metadata": {
        "colab": {
          "base_uri": "https://localhost:8080/"
        },
        "id": "1t2f_JFIhU7k",
        "outputId": "bb2ceb5d-bc2a-4b38-ac1f-b46dc20c3914"
      },
      "outputs": [
        {
          "output_type": "stream",
          "name": "stdout",
          "text": [
            "/tmp/data/validation\n",
            "/tmp/data/training\n",
            "/tmp/data/validation/kotak_jus_jerukmaduless_nutrisari\n",
            "/tmp/data/validation/cup_mie_ayambawang_popmie\n",
            "/tmp/data/validation/cup_mie_ayam_popmie\n",
            "/tmp/data/validation/plastik_mie_goreng_sedaap\n",
            "/tmp/data/validation/plastik_mie_ayampanggangjumbo_indomie\n",
            "/tmp/data/validation/plastik_mie_ayambawang_sedaap\n",
            "/tmp/data/validation/botol_teh_ori_tehgelas\n",
            "/tmp/data/validation/zipper_kacang_honeyreasted_mrp\n",
            "/tmp/data/validation/botol_yogurt_mixedfruit_cimory\n",
            "/tmp/data/validation/kotak_jus_jambu_abc\n",
            "/tmp/data/validation/botol_kopi_aren_kopken\n",
            "/tmp/data/validation/botol_teh_less_sosro\n",
            "/tmp/data/validation/botol_teh_less_tehpucuk\n",
            "/tmp/data/validation/plastik_mie_soto_sedaap\n",
            "/tmp/data/validation/kaca_nrg_ori_kratingdeng\n",
            "/tmp/data/validation/plastik_coklat_dark_silverqueen\n",
            "/tmp/data/validation/kotak_jus_apel_abc\n",
            "/tmp/data/validation/kotak_susu_fullcream_ultramilk\n",
            "/tmp/data/validation/botol_elektrolit_ori_pocari\n",
            "/tmp/data/validation/botol_kopi_cappuccino_golda\n",
            "/tmp/data/validation/plastik_biskuit_classic_goodtime\n",
            "/tmp/data/validation/kaleng_soda_sodawater_polaris\n",
            "/tmp/data/validation/kotak_susu_straberry_ultramilk\n",
            "/tmp/data/validation/plastik_ringan_keju_twistko\n",
            "/tmp/data/validation/plastik_mie_ayambawang_indomie\n",
            "/tmp/data/validation/plastik_mie_sotomie_indomie\n",
            "/tmp/data/validation/plastik_mie_sotospesial_indomie\n",
            "/tmp/data/validation/kaleng_soda_limeapel_greensands\n",
            "/tmp/data/validation/cup_mie_goreng_sedaap\n",
            "/tmp/data/validation/kaleng_soda_ori_cocacola\n",
            "/tmp/data/validation/botol_soda_zerosugar_cocacola\n",
            "/tmp/data/validation/botol_soda_strawberry_fanta\n",
            "/tmp/data/validation/kaleng_soda_strawberry_fanta\n",
            "/tmp/data/validation/plastik_biskuit_doublechoc_goodtime\n",
            "/tmp/data/validation/kotak_jus_jerukperasless_nutrisaari\n",
            "/tmp/data/validation/plastik_mie_goreng_indomie\n",
            "/tmp/data/validation/kaleng_soda_ori_sprite\n",
            "/tmp/data/validation/kotak_susu_coklat_ultramilk\n",
            "/tmp/data/validation/plastik_mie_ayamkremesisidua_suksess\n",
            "/tmp/data/validation/botol_teh_apel_frestea\n",
            "/tmp/data/validation/plastik_mie_kariayam_indomie\n",
            "/tmp/data/validation/botol_soda_jeruk_fanta\n",
            "/tmp/data/validation/botol_yogurt_ori_cimory\n",
            "/tmp/data/validation/botol_teh_ori_sosro\n",
            "/tmp/data/validation/botol_teh_blackcurrant_fruittea\n",
            "/tmp/data/validation/plastik_popcorn_ori_poppypop\n",
            "/tmp/data/validation/cup_mie_sotoayam_popmie\n",
            "/tmp/data/validation/botol_soda_ori_cocacola\n",
            "/tmp/data/validation/kaleng_susu_ori_beruang\n",
            "/tmp/data/validation/plastik_coklat_susu_dairymilk\n",
            "/tmp/data/validation/plastik_kacang_kupas_duakelinci\n",
            "/tmp/data/validation/botol_soda_ori_tebs\n",
            "/tmp/data/validation/cup_mie_kariayam_popmie\n",
            "/tmp/data/validation/botol_kopi_susu_abc\n",
            "/tmp/data/training/kotak_jus_jerukmaduless_nutrisari\n",
            "/tmp/data/training/cup_mie_ayambawang_popmie\n",
            "/tmp/data/training/cup_mie_ayam_popmie\n",
            "/tmp/data/training/plastik_mie_goreng_sedaap\n",
            "/tmp/data/training/plastik_mie_ayampanggangjumbo_indomie\n",
            "/tmp/data/training/plastik_mie_ayambawang_sedaap\n",
            "/tmp/data/training/botol_teh_ori_tehgelas\n",
            "/tmp/data/training/zipper_kacang_honeyreasted_mrp\n",
            "/tmp/data/training/botol_yogurt_mixedfruit_cimory\n",
            "/tmp/data/training/kotak_jus_jambu_abc\n",
            "/tmp/data/training/botol_kopi_aren_kopken\n",
            "/tmp/data/training/botol_teh_less_sosro\n",
            "/tmp/data/training/botol_teh_less_tehpucuk\n",
            "/tmp/data/training/plastik_mie_soto_sedaap\n",
            "/tmp/data/training/kaca_nrg_ori_kratingdeng\n",
            "/tmp/data/training/plastik_coklat_dark_silverqueen\n",
            "/tmp/data/training/kotak_jus_apel_abc\n",
            "/tmp/data/training/kotak_susu_fullcream_ultramilk\n",
            "/tmp/data/training/botol_elektrolit_ori_pocari\n",
            "/tmp/data/training/botol_kopi_cappuccino_golda\n",
            "/tmp/data/training/plastik_biskuit_classic_goodtime\n",
            "/tmp/data/training/kaleng_soda_sodawater_polaris\n",
            "/tmp/data/training/kotak_susu_straberry_ultramilk\n",
            "/tmp/data/training/plastik_ringan_keju_twistko\n",
            "/tmp/data/training/plastik_mie_ayambawang_indomie\n",
            "/tmp/data/training/plastik_mie_sotomie_indomie\n",
            "/tmp/data/training/plastik_mie_sotospesial_indomie\n",
            "/tmp/data/training/kaleng_soda_limeapel_greensands\n",
            "/tmp/data/training/cup_mie_goreng_sedaap\n",
            "/tmp/data/training/kaleng_soda_ori_cocacola\n",
            "/tmp/data/training/botol_soda_zerosugar_cocacola\n",
            "/tmp/data/training/botol_soda_strawberry_fanta\n",
            "/tmp/data/training/kaleng_soda_strawberry_fanta\n",
            "/tmp/data/training/plastik_biskuit_doublechoc_goodtime\n",
            "/tmp/data/training/kotak_jus_jerukperasless_nutrisaari\n",
            "/tmp/data/training/plastik_mie_goreng_indomie\n",
            "/tmp/data/training/kaleng_soda_ori_sprite\n",
            "/tmp/data/training/kotak_susu_coklat_ultramilk\n",
            "/tmp/data/training/plastik_mie_ayamkremesisidua_suksess\n",
            "/tmp/data/training/botol_teh_apel_frestea\n",
            "/tmp/data/training/plastik_mie_kariayam_indomie\n",
            "/tmp/data/training/botol_soda_jeruk_fanta\n",
            "/tmp/data/training/botol_yogurt_ori_cimory\n",
            "/tmp/data/training/botol_teh_ori_sosro\n",
            "/tmp/data/training/botol_teh_blackcurrant_fruittea\n",
            "/tmp/data/training/plastik_popcorn_ori_poppypop\n",
            "/tmp/data/training/cup_mie_sotoayam_popmie\n",
            "/tmp/data/training/botol_soda_ori_cocacola\n",
            "/tmp/data/training/kaleng_susu_ori_beruang\n",
            "/tmp/data/training/plastik_coklat_susu_dairymilk\n",
            "/tmp/data/training/plastik_kacang_kupas_duakelinci\n",
            "/tmp/data/training/botol_soda_ori_tebs\n",
            "/tmp/data/training/cup_mie_kariayam_popmie\n",
            "/tmp/data/training/botol_kopi_susu_abc\n"
          ]
        }
      ],
      "source": [
        "for rootdir, dirs, files in os.walk(root_dir):\n",
        "    for subdir in dirs:\n",
        "        print(os.path.join(rootdir, subdir))"
      ]
    },
    {
      "cell_type": "markdown",
      "metadata": {
        "id": "UmKQpqzCDDTj"
      },
      "source": [
        "## Data Splitting"
      ]
    },
    {
      "cell_type": "code",
      "execution_count": 10,
      "metadata": {
        "id": "XfntDA9ehXQL"
      },
      "outputs": [],
      "source": [
        "def split_data(SOURCE_DIR, TRAINING_DIR, VALIDATION_DIR, SPLIT_SIZE):\n",
        "  # List all files in the source directory\n",
        "  files = os.listdir(SOURCE_DIR)\n",
        "\n",
        "  # Print messages about zero-length images\n",
        "  for file in files:\n",
        "    if os.path.getsize(os.path.join(SOURCE_DIR, file)) == 0:\n",
        "      print(f\"{file} is zero length, so ignoring.\")\n",
        "\n",
        "  # Remove zero-sized images\n",
        "  files = [file for file in files if os.path.getsize(os.path.join(SOURCE_DIR, file)) > 0]\n",
        "\n",
        "  # Calculate the split size\n",
        "  split_count = len(files) - int(len(files) * SPLIT_SIZE)\n",
        "  split_index = len(files)//split_count\n",
        "\n",
        "  # Split the files into training and validation sets\n",
        "  training_files = []\n",
        "  validation_files = []\n",
        "\n",
        "  for i in range(len(files)):\n",
        "    if (i%split_index) == 0:\n",
        "      validation_files.append(files[i])\n",
        "    else:\n",
        "      training_files.append(files[i])\n",
        "\n",
        "  # training_files = files[split_count:]\n",
        "  # validation_files = files[:split_count]\n",
        "\n",
        "  # Copy training files to the training directory\n",
        "  for file in training_files:\n",
        "    source_file = os.path.join(SOURCE_DIR, file)\n",
        "    destination_file = os.path.join(TRAINING_DIR, file)\n",
        "    shutil.copyfile(source_file, destination_file)\n",
        "\n",
        "  # Copy validation files to the validation directory\n",
        "  for file in validation_files:\n",
        "    source_file = os.path.join(SOURCE_DIR, file)\n",
        "    destination_file = os.path.join(VALIDATION_DIR, file)\n",
        "    shutil.copyfile(source_file, destination_file)"
      ]
    },
    {
      "cell_type": "code",
      "execution_count": 11,
      "metadata": {
        "id": "8huuy7uZGEg0"
      },
      "outputs": [],
      "source": [
        "# Make directories for each class in training and validation sets\n",
        "classes_native = os.listdir(SOURCE_DIR)\n",
        "\n",
        "for class_name in classes_native:\n",
        "    TRAINING_CLASS_DIR = os.path.join(TRAINING_DIR, class_name)\n",
        "    VALIDATION_CLASS_DIR = os.path.join(VALIDATION_DIR, class_name)\n",
        "\n",
        "    # Empty directories in case you run this cell multiple times\n",
        "    if len(os.listdir(TRAINING_CLASS_DIR)) > 0:\n",
        "      for file in os.scandir(TRAINING_CLASS_DIR):\n",
        "        os.remove(file.path)\n",
        "    if len(os.listdir(VALIDATION_CLASS_DIR)) > 0:\n",
        "      for file in os.scandir(VALIDATION_CLASS_DIR):\n",
        "        os.remove(file.path)\n",
        "\n",
        "# Run the function\n",
        "# NOTE: Messages about zero length images should be printed out\n",
        "for i in range(len(classes_native)):\n",
        "    TRAINING_CLASS_DIR = os.path.join(TRAINING_DIR, classes[i])\n",
        "    VALIDATION_CLASS_DIR = os.path.join(VALIDATION_DIR, classes[i])\n",
        "\n",
        "    SOURCE_CLASS_DIR = os.path.join(SOURCE_DIR, classes_native[i])\n",
        "    split_data(SOURCE_CLASS_DIR,\n",
        "               TRAINING_CLASS_DIR,\n",
        "               VALIDATION_CLASS_DIR,\n",
        "               split_size)"
      ]
    },
    {
      "cell_type": "code",
      "execution_count": 12,
      "metadata": {
        "colab": {
          "base_uri": "https://localhost:8080/"
        },
        "id": "lHGC8zYINDhV",
        "outputId": "6bb1a71a-8943-4ca5-ac89-8d148bb767ee"
      },
      "outputs": [
        {
          "output_type": "stream",
          "name": "stdout",
          "text": [
            "Original kotak_jus_jerukmaduless_nutrisari's directory has 200 images\n",
            "There are 160 images of kotak_jus_jerukmaduless_nutrisari for training\n",
            "There are 40 images of kotak_jus_jerukmaduless_nutrisari for validation\n",
            "\n",
            "\n",
            "Original cup_mie_ayambawang_popmie's directory has 200 images\n",
            "There are 160 images of cup_mie_ayambawang_popmie for training\n",
            "There are 40 images of cup_mie_ayambawang_popmie for validation\n",
            "\n",
            "\n",
            "Original cup_mie_ayam_popmie's directory has 200 images\n",
            "There are 160 images of cup_mie_ayam_popmie for training\n",
            "There are 40 images of cup_mie_ayam_popmie for validation\n",
            "\n",
            "\n",
            "Original plastik_mie_goreng_sedaap's directory has 200 images\n",
            "There are 160 images of plastik_mie_goreng_sedaap for training\n",
            "There are 40 images of plastik_mie_goreng_sedaap for validation\n",
            "\n",
            "\n",
            "Original plastik_mie_ayampanggangjumbo_indomie's directory has 200 images\n",
            "There are 160 images of plastik_mie_ayampanggangjumbo_indomie for training\n",
            "There are 40 images of plastik_mie_ayampanggangjumbo_indomie for validation\n",
            "\n",
            "\n",
            "Original plastik_mie_ayambawang_sedaap's directory has 200 images\n",
            "There are 160 images of plastik_mie_ayambawang_sedaap for training\n",
            "There are 40 images of plastik_mie_ayambawang_sedaap for validation\n",
            "\n",
            "\n",
            "Original botol_teh_ori_tehgelas's directory has 200 images\n",
            "There are 160 images of botol_teh_ori_tehgelas for training\n",
            "There are 40 images of botol_teh_ori_tehgelas for validation\n",
            "\n",
            "\n",
            "Original zipper_kacang_honeyreasted_mrp's directory has 200 images\n",
            "There are 160 images of zipper_kacang_honeyreasted_mrp for training\n",
            "There are 40 images of zipper_kacang_honeyreasted_mrp for validation\n",
            "\n",
            "\n",
            "Original botol_yogurt_mixedfruit_cimory's directory has 200 images\n",
            "There are 160 images of botol_yogurt_mixedfruit_cimory for training\n",
            "There are 40 images of botol_yogurt_mixedfruit_cimory for validation\n",
            "\n",
            "\n",
            "Original kotak_jus_jambu_abc's directory has 200 images\n",
            "There are 160 images of kotak_jus_jambu_abc for training\n",
            "There are 40 images of kotak_jus_jambu_abc for validation\n",
            "\n",
            "\n",
            "Original botol_kopi_aren_kopken's directory has 200 images\n",
            "There are 160 images of botol_kopi_aren_kopken for training\n",
            "There are 40 images of botol_kopi_aren_kopken for validation\n",
            "\n",
            "\n",
            "Original botol_teh_less_sosro's directory has 200 images\n",
            "There are 160 images of botol_teh_less_sosro for training\n",
            "There are 40 images of botol_teh_less_sosro for validation\n",
            "\n",
            "\n",
            "Original botol_teh_less_tehpucuk's directory has 200 images\n",
            "There are 160 images of botol_teh_less_tehpucuk for training\n",
            "There are 40 images of botol_teh_less_tehpucuk for validation\n",
            "\n",
            "\n",
            "Original plastik_mie_soto_sedaap's directory has 200 images\n",
            "There are 160 images of plastik_mie_soto_sedaap for training\n",
            "There are 40 images of plastik_mie_soto_sedaap for validation\n",
            "\n",
            "\n",
            "Original kaca_nrg_ori_kratingdeng's directory has 200 images\n",
            "There are 160 images of kaca_nrg_ori_kratingdeng for training\n",
            "There are 40 images of kaca_nrg_ori_kratingdeng for validation\n",
            "\n",
            "\n",
            "Original plastik_coklat_dark_silverqueen's directory has 200 images\n",
            "There are 160 images of plastik_coklat_dark_silverqueen for training\n",
            "There are 40 images of plastik_coklat_dark_silverqueen for validation\n",
            "\n",
            "\n",
            "Original kotak_jus_apel_abc's directory has 200 images\n",
            "There are 160 images of kotak_jus_apel_abc for training\n",
            "There are 40 images of kotak_jus_apel_abc for validation\n",
            "\n",
            "\n",
            "Original kotak_susu_fullcream_ultramilk's directory has 200 images\n",
            "There are 160 images of kotak_susu_fullcream_ultramilk for training\n",
            "There are 40 images of kotak_susu_fullcream_ultramilk for validation\n",
            "\n",
            "\n",
            "Original botol_elektrolit_ori_pocari's directory has 200 images\n",
            "There are 160 images of botol_elektrolit_ori_pocari for training\n",
            "There are 40 images of botol_elektrolit_ori_pocari for validation\n",
            "\n",
            "\n",
            "Original botol_kopi_cappuccino_golda's directory has 200 images\n",
            "There are 160 images of botol_kopi_cappuccino_golda for training\n",
            "There are 40 images of botol_kopi_cappuccino_golda for validation\n",
            "\n",
            "\n",
            "Original plastik_biskuit_classic_goodtime's directory has 200 images\n",
            "There are 160 images of plastik_biskuit_classic_goodtime for training\n",
            "There are 40 images of plastik_biskuit_classic_goodtime for validation\n",
            "\n",
            "\n",
            "Original kaleng_soda_sodawater_polaris's directory has 200 images\n",
            "There are 160 images of kaleng_soda_sodawater_polaris for training\n",
            "There are 40 images of kaleng_soda_sodawater_polaris for validation\n",
            "\n",
            "\n",
            "Original kotak_susu_straberry_ultramilk's directory has 200 images\n",
            "There are 160 images of kotak_susu_straberry_ultramilk for training\n",
            "There are 40 images of kotak_susu_straberry_ultramilk for validation\n",
            "\n",
            "\n",
            "Original plastik_ringan_keju_twistko's directory has 200 images\n",
            "There are 160 images of plastik_ringan_keju_twistko for training\n",
            "There are 40 images of plastik_ringan_keju_twistko for validation\n",
            "\n",
            "\n",
            "Original plastik_mie_ayambawang_indomie's directory has 200 images\n",
            "There are 160 images of plastik_mie_ayambawang_indomie for training\n",
            "There are 40 images of plastik_mie_ayambawang_indomie for validation\n",
            "\n",
            "\n",
            "Original plastik_mie_sotomie_indomie's directory has 200 images\n",
            "There are 160 images of plastik_mie_sotomie_indomie for training\n",
            "There are 40 images of plastik_mie_sotomie_indomie for validation\n",
            "\n",
            "\n",
            "Original plastik_mie_sotospesial_indomie's directory has 200 images\n",
            "There are 160 images of plastik_mie_sotospesial_indomie for training\n",
            "There are 40 images of plastik_mie_sotospesial_indomie for validation\n",
            "\n",
            "\n",
            "Original kaleng_soda_limeapel_greensands's directory has 200 images\n",
            "There are 160 images of kaleng_soda_limeapel_greensands for training\n",
            "There are 40 images of kaleng_soda_limeapel_greensands for validation\n",
            "\n",
            "\n",
            "Original cup_mie_goreng_sedaap's directory has 200 images\n",
            "There are 160 images of cup_mie_goreng_sedaap for training\n",
            "There are 40 images of cup_mie_goreng_sedaap for validation\n",
            "\n",
            "\n",
            "Original kaleng_soda_ori_cocacola's directory has 200 images\n",
            "There are 160 images of kaleng_soda_ori_cocacola for training\n",
            "There are 40 images of kaleng_soda_ori_cocacola for validation\n",
            "\n",
            "\n",
            "Original botol_soda_zerosugar_cocacola's directory has 200 images\n",
            "There are 160 images of botol_soda_zerosugar_cocacola for training\n",
            "There are 40 images of botol_soda_zerosugar_cocacola for validation\n",
            "\n",
            "\n",
            "Original botol_soda_strawberry_fanta's directory has 200 images\n",
            "There are 160 images of botol_soda_strawberry_fanta for training\n",
            "There are 40 images of botol_soda_strawberry_fanta for validation\n",
            "\n",
            "\n",
            "Original kaleng_soda_strawberry_fanta's directory has 200 images\n",
            "There are 160 images of kaleng_soda_strawberry_fanta for training\n",
            "There are 40 images of kaleng_soda_strawberry_fanta for validation\n",
            "\n",
            "\n",
            "Original plastik_biskuit_doublechoc_goodtime's directory has 200 images\n",
            "There are 160 images of plastik_biskuit_doublechoc_goodtime for training\n",
            "There are 40 images of plastik_biskuit_doublechoc_goodtime for validation\n",
            "\n",
            "\n",
            "Original kotak_jus_jerukperasless_nutrisaari's directory has 200 images\n",
            "There are 160 images of kotak_jus_jerukperasless_nutrisaari for training\n",
            "There are 40 images of kotak_jus_jerukperasless_nutrisaari for validation\n",
            "\n",
            "\n",
            "Original plastik_mie_goreng_indomie's directory has 200 images\n",
            "There are 160 images of plastik_mie_goreng_indomie for training\n",
            "There are 40 images of plastik_mie_goreng_indomie for validation\n",
            "\n",
            "\n",
            "Original kaleng_soda_ori_sprite's directory has 200 images\n",
            "There are 160 images of kaleng_soda_ori_sprite for training\n",
            "There are 40 images of kaleng_soda_ori_sprite for validation\n",
            "\n",
            "\n",
            "Original kotak_susu_coklat_ultramilk's directory has 200 images\n",
            "There are 160 images of kotak_susu_coklat_ultramilk for training\n",
            "There are 40 images of kotak_susu_coklat_ultramilk for validation\n",
            "\n",
            "\n",
            "Original plastik_mie_ayamkremesisidua_suksess's directory has 200 images\n",
            "There are 160 images of plastik_mie_ayamkremesisidua_suksess for training\n",
            "There are 40 images of plastik_mie_ayamkremesisidua_suksess for validation\n",
            "\n",
            "\n",
            "Original botol_teh_apel_frestea's directory has 200 images\n",
            "There are 160 images of botol_teh_apel_frestea for training\n",
            "There are 40 images of botol_teh_apel_frestea for validation\n",
            "\n",
            "\n",
            "Original plastik_mie_kariayam_indomie's directory has 200 images\n",
            "There are 160 images of plastik_mie_kariayam_indomie for training\n",
            "There are 40 images of plastik_mie_kariayam_indomie for validation\n",
            "\n",
            "\n",
            "Original botol_soda_jeruk_fanta's directory has 200 images\n",
            "There are 160 images of botol_soda_jeruk_fanta for training\n",
            "There are 40 images of botol_soda_jeruk_fanta for validation\n",
            "\n",
            "\n",
            "Original botol_yogurt_ori_cimory's directory has 200 images\n",
            "There are 160 images of botol_yogurt_ori_cimory for training\n",
            "There are 40 images of botol_yogurt_ori_cimory for validation\n",
            "\n",
            "\n",
            "Original botol_teh_ori_sosro's directory has 200 images\n",
            "There are 160 images of botol_teh_ori_sosro for training\n",
            "There are 40 images of botol_teh_ori_sosro for validation\n",
            "\n",
            "\n",
            "Original botol_teh_blackcurrant_fruittea's directory has 200 images\n",
            "There are 160 images of botol_teh_blackcurrant_fruittea for training\n",
            "There are 40 images of botol_teh_blackcurrant_fruittea for validation\n",
            "\n",
            "\n",
            "Original plastik_popcorn_ori_poppypop's directory has 200 images\n",
            "There are 160 images of plastik_popcorn_ori_poppypop for training\n",
            "There are 40 images of plastik_popcorn_ori_poppypop for validation\n",
            "\n",
            "\n",
            "Original cup_mie_sotoayam_popmie's directory has 200 images\n",
            "There are 160 images of cup_mie_sotoayam_popmie for training\n",
            "There are 40 images of cup_mie_sotoayam_popmie for validation\n",
            "\n",
            "\n",
            "Original botol_soda_ori_cocacola's directory has 200 images\n",
            "There are 160 images of botol_soda_ori_cocacola for training\n",
            "There are 40 images of botol_soda_ori_cocacola for validation\n",
            "\n",
            "\n",
            "Original kaleng_susu_ori_beruang's directory has 200 images\n",
            "There are 160 images of kaleng_susu_ori_beruang for training\n",
            "There are 40 images of kaleng_susu_ori_beruang for validation\n",
            "\n",
            "\n",
            "Original plastik_coklat_susu_dairymilk's directory has 200 images\n",
            "There are 160 images of plastik_coklat_susu_dairymilk for training\n",
            "There are 40 images of plastik_coklat_susu_dairymilk for validation\n",
            "\n",
            "\n",
            "Original plastik_kacang_kupas_duakelinci's directory has 200 images\n",
            "There are 160 images of plastik_kacang_kupas_duakelinci for training\n",
            "There are 40 images of plastik_kacang_kupas_duakelinci for validation\n",
            "\n",
            "\n",
            "Original botol_soda_ori_tebs's directory has 200 images\n",
            "There are 160 images of botol_soda_ori_tebs for training\n",
            "There are 40 images of botol_soda_ori_tebs for validation\n",
            "\n",
            "\n",
            "Original cup_mie_kariayam_popmie's directory has 200 images\n",
            "There are 160 images of cup_mie_kariayam_popmie for training\n",
            "There are 40 images of cup_mie_kariayam_popmie for validation\n",
            "\n",
            "\n",
            "Original botol_kopi_susu_abc's directory has 200 images\n",
            "There are 160 images of botol_kopi_susu_abc for training\n",
            "There are 40 images of botol_kopi_susu_abc for validation\n",
            "\n",
            "\n"
          ]
        }
      ],
      "source": [
        "# Your function should perform copies rather than moving images so original directories should contain unchanged images\n",
        "for i in range(len(classes_native)):\n",
        "    TRAINING_CLASS_DIR = os.path.join(TRAINING_DIR, classes[i])\n",
        "    VALIDATION_CLASS_DIR = os.path.join(VALIDATION_DIR, classes[i])\n",
        "    SOURCE_CLASS_DIR = os.path.join(SOURCE_DIR, classes_native[i])\n",
        "\n",
        "    print(f\"Original {classes[i]}'s directory has {len(os.listdir(SOURCE_CLASS_DIR))} images\")\n",
        "\n",
        "    # Training and validation splits. Check that the number of images matches the expected output.\n",
        "    print(f\"There are {len(os.listdir(TRAINING_CLASS_DIR))} images of {classes[i]} for training\")\n",
        "    print(f\"There are {len(os.listdir(VALIDATION_CLASS_DIR))} images of {classes[i]} for validation\")\n",
        "\n",
        "    print(f\"\\n\")"
      ]
    },
    {
      "cell_type": "markdown",
      "metadata": {
        "id": "Pl5WxTZvQsPH"
      },
      "source": [
        "## Data Augmentation Handling"
      ]
    },
    {
      "cell_type": "markdown",
      "metadata": {
        "id": "zfYq-v7gNjpB"
      },
      "source": [
        "### with Image Augmentation"
      ]
    },
    {
      "cell_type": "code",
      "execution_count": 13,
      "metadata": {
        "id": "o5AaFI3dNlfS"
      },
      "outputs": [],
      "source": [
        "def train_val_generators(TRAINING_DIR, VALIDATION_DIR):\n",
        "\n",
        "  # Training datagen\n",
        "  train_datagen = ImageDataGenerator(rescale=(1./255),\n",
        "                                     rotation_range=30,\n",
        "                                     width_shift_range=0.2,\n",
        "                                     height_shift_range=0.2,\n",
        "                                     zoom_range=0.3,\n",
        "                                     brightness_range=[0.05, 0.3],\n",
        "                                     fill_mode='nearest')\n",
        "\n",
        "  # Training generator\n",
        "  train_generator = train_datagen.flow_from_directory(\n",
        "      directory=TRAINING_DIR,\n",
        "      batch_size=50,\n",
        "      class_mode='sparse',\n",
        "      target_size=(input_height, input_width))\n",
        "\n",
        "  # ==================================================\n",
        "\n",
        "  # Validation datagen\n",
        "  validation_datagen = ImageDataGenerator(rescale=(1./255))\n",
        "\n",
        "  # Validation generator\n",
        "  validation_generator = validation_datagen.flow_from_directory(\n",
        "      directory=VALIDATION_DIR,\n",
        "      batch_size=50,\n",
        "      class_mode='sparse',\n",
        "      target_size=(input_height, input_width))\n",
        "\n",
        "  return train_generator, validation_generator"
      ]
    },
    {
      "cell_type": "markdown",
      "metadata": {
        "id": "jxmE8lvKQnD_"
      },
      "source": [
        "### no Image Augmentation"
      ]
    },
    {
      "cell_type": "code",
      "execution_count": null,
      "metadata": {
        "id": "AW72p8hvQmjQ"
      },
      "outputs": [],
      "source": [
        "def train_val_generators(TRAINING_DIR, VALIDATION_DIR):\n",
        "\n",
        "  # Training datagen\n",
        "  train_datagen = ImageDataGenerator(rescale=(1./255))\n",
        "\n",
        "  # Training generator\n",
        "  train_generator = train_datagen.flow_from_directory(\n",
        "      directory=TRAINING_DIR,\n",
        "      batch_size=20,\n",
        "      class_mode='sparse',\n",
        "      target_size=(input_height, input_width))\n",
        "\n",
        "  # ==================================================\n",
        "\n",
        "  # Validation datagen\n",
        "  validation_datagen = ImageDataGenerator(rescale=(1./255))\n",
        "\n",
        "  # Validation generator\n",
        "  validation_generator = validation_datagen.flow_from_directory(\n",
        "      directory=VALIDATION_DIR,\n",
        "      batch_size=20,\n",
        "      class_mode='sparse',\n",
        "      target_size=(input_height, input_width))\n",
        "\n",
        "  return train_generator, validation_generator"
      ]
    },
    {
      "cell_type": "markdown",
      "metadata": {
        "id": "V19z0azNwjxR"
      },
      "source": [
        "### rest of the code..."
      ]
    },
    {
      "cell_type": "code",
      "execution_count": 14,
      "metadata": {
        "colab": {
          "base_uri": "https://localhost:8080/"
        },
        "id": "TxitsB8ZNofL",
        "outputId": "16c281f4-c2d4-479f-d31d-9339655cfa1f"
      },
      "outputs": [
        {
          "output_type": "stream",
          "name": "stdout",
          "text": [
            "Found 8640 images belonging to 54 classes.\n",
            "Found 2160 images belonging to 54 classes.\n"
          ]
        }
      ],
      "source": [
        "# Test your generators\n",
        "train_generator, validation_generator = train_val_generators(TRAINING_DIR, VALIDATION_DIR)"
      ]
    },
    {
      "cell_type": "code",
      "execution_count": 15,
      "metadata": {
        "colab": {
          "base_uri": "https://localhost:8080/"
        },
        "id": "vOb8KW7ZuMQn",
        "outputId": "cbb60845-4507-4e5d-a1c4-d555aa956287"
      },
      "outputs": [
        {
          "output_type": "stream",
          "name": "stdout",
          "text": [
            "(50, 224, 224, 3)\n",
            "(50,)\n"
          ]
        }
      ],
      "source": [
        "x_batch_train, y_batch_train = next(train_generator)\n",
        "print(x_batch_train.shape)  # Should be (batch_size, height, width, channels)\n",
        "print(y_batch_train.shape)  # Should be (batch_size, num_classes)"
      ]
    },
    {
      "cell_type": "code",
      "execution_count": 16,
      "metadata": {
        "colab": {
          "base_uri": "https://localhost:8080/"
        },
        "id": "2OxeKtPtuRhA",
        "outputId": "88bba0d0-f495-4e63-c1d6-9cc06e954bae"
      },
      "outputs": [
        {
          "output_type": "stream",
          "name": "stdout",
          "text": [
            "(50, 224, 224, 3)\n",
            "(50,)\n"
          ]
        }
      ],
      "source": [
        "x_batch_val, y_batch_val = next(validation_generator)\n",
        "print(x_batch_val.shape)  # Should be (batch_size, height, width, channels)\n",
        "print(y_batch_val.shape)  # Should be (batch_size, num_classes)"
      ]
    },
    {
      "cell_type": "code",
      "execution_count": 17,
      "metadata": {
        "colab": {
          "base_uri": "https://localhost:8080/"
        },
        "id": "RwSr1qdZ_Did",
        "outputId": "f96981d0-4cd4-4bfe-84c1-b213b7850057"
      },
      "outputs": [
        {
          "output_type": "stream",
          "name": "stdout",
          "text": [
            "Class indices: {'botol_elektrolit_ori_pocari': 0, 'botol_kopi_aren_kopken': 1, 'botol_kopi_cappuccino_golda': 2, 'botol_kopi_susu_abc': 3, 'botol_soda_jeruk_fanta': 4, 'botol_soda_ori_cocacola': 5, 'botol_soda_ori_tebs': 6, 'botol_soda_strawberry_fanta': 7, 'botol_soda_zerosugar_cocacola': 8, 'botol_teh_apel_frestea': 9, 'botol_teh_blackcurrant_fruittea': 10, 'botol_teh_less_sosro': 11, 'botol_teh_less_tehpucuk': 12, 'botol_teh_ori_sosro': 13, 'botol_teh_ori_tehgelas': 14, 'botol_yogurt_mixedfruit_cimory': 15, 'botol_yogurt_ori_cimory': 16, 'cup_mie_ayam_popmie': 17, 'cup_mie_ayambawang_popmie': 18, 'cup_mie_goreng_sedaap': 19, 'cup_mie_kariayam_popmie': 20, 'cup_mie_sotoayam_popmie': 21, 'kaca_nrg_ori_kratingdeng': 22, 'kaleng_soda_limeapel_greensands': 23, 'kaleng_soda_ori_cocacola': 24, 'kaleng_soda_ori_sprite': 25, 'kaleng_soda_sodawater_polaris': 26, 'kaleng_soda_strawberry_fanta': 27, 'kaleng_susu_ori_beruang': 28, 'kotak_jus_apel_abc': 29, 'kotak_jus_jambu_abc': 30, 'kotak_jus_jerukmaduless_nutrisari': 31, 'kotak_jus_jerukperasless_nutrisaari': 32, 'kotak_susu_coklat_ultramilk': 33, 'kotak_susu_fullcream_ultramilk': 34, 'kotak_susu_straberry_ultramilk': 35, 'plastik_biskuit_classic_goodtime': 36, 'plastik_biskuit_doublechoc_goodtime': 37, 'plastik_coklat_dark_silverqueen': 38, 'plastik_coklat_susu_dairymilk': 39, 'plastik_kacang_kupas_duakelinci': 40, 'plastik_mie_ayambawang_indomie': 41, 'plastik_mie_ayambawang_sedaap': 42, 'plastik_mie_ayamkremesisidua_suksess': 43, 'plastik_mie_ayampanggangjumbo_indomie': 44, 'plastik_mie_goreng_indomie': 45, 'plastik_mie_goreng_sedaap': 46, 'plastik_mie_kariayam_indomie': 47, 'plastik_mie_soto_sedaap': 48, 'plastik_mie_sotomie_indomie': 49, 'plastik_mie_sotospesial_indomie': 50, 'plastik_popcorn_ori_poppypop': 51, 'plastik_ringan_keju_twistko': 52, 'zipper_kacang_honeyreasted_mrp': 53}\n",
            "Classes: [ 0  0  0 ... 53 53 53]\n",
            "Validation Class indices: {'botol_elektrolit_ori_pocari': 0, 'botol_kopi_aren_kopken': 1, 'botol_kopi_cappuccino_golda': 2, 'botol_kopi_susu_abc': 3, 'botol_soda_jeruk_fanta': 4, 'botol_soda_ori_cocacola': 5, 'botol_soda_ori_tebs': 6, 'botol_soda_strawberry_fanta': 7, 'botol_soda_zerosugar_cocacola': 8, 'botol_teh_apel_frestea': 9, 'botol_teh_blackcurrant_fruittea': 10, 'botol_teh_less_sosro': 11, 'botol_teh_less_tehpucuk': 12, 'botol_teh_ori_sosro': 13, 'botol_teh_ori_tehgelas': 14, 'botol_yogurt_mixedfruit_cimory': 15, 'botol_yogurt_ori_cimory': 16, 'cup_mie_ayam_popmie': 17, 'cup_mie_ayambawang_popmie': 18, 'cup_mie_goreng_sedaap': 19, 'cup_mie_kariayam_popmie': 20, 'cup_mie_sotoayam_popmie': 21, 'kaca_nrg_ori_kratingdeng': 22, 'kaleng_soda_limeapel_greensands': 23, 'kaleng_soda_ori_cocacola': 24, 'kaleng_soda_ori_sprite': 25, 'kaleng_soda_sodawater_polaris': 26, 'kaleng_soda_strawberry_fanta': 27, 'kaleng_susu_ori_beruang': 28, 'kotak_jus_apel_abc': 29, 'kotak_jus_jambu_abc': 30, 'kotak_jus_jerukmaduless_nutrisari': 31, 'kotak_jus_jerukperasless_nutrisaari': 32, 'kotak_susu_coklat_ultramilk': 33, 'kotak_susu_fullcream_ultramilk': 34, 'kotak_susu_straberry_ultramilk': 35, 'plastik_biskuit_classic_goodtime': 36, 'plastik_biskuit_doublechoc_goodtime': 37, 'plastik_coklat_dark_silverqueen': 38, 'plastik_coklat_susu_dairymilk': 39, 'plastik_kacang_kupas_duakelinci': 40, 'plastik_mie_ayambawang_indomie': 41, 'plastik_mie_ayambawang_sedaap': 42, 'plastik_mie_ayamkremesisidua_suksess': 43, 'plastik_mie_ayampanggangjumbo_indomie': 44, 'plastik_mie_goreng_indomie': 45, 'plastik_mie_goreng_sedaap': 46, 'plastik_mie_kariayam_indomie': 47, 'plastik_mie_soto_sedaap': 48, 'plastik_mie_sotomie_indomie': 49, 'plastik_mie_sotospesial_indomie': 50, 'plastik_popcorn_ori_poppypop': 51, 'plastik_ringan_keju_twistko': 52, 'zipper_kacang_honeyreasted_mrp': 53}\n",
            "Validation Classes: [ 0  0  0 ... 53 53 53]\n"
          ]
        }
      ],
      "source": [
        "# Check the class indices to see the order of the labels\n",
        "print(\"Class indices:\", train_generator.class_indices)\n",
        "print(\"Classes:\", train_generator.classes)\n",
        "\n",
        "# Similarly for validation generator\n",
        "print(\"Validation Class indices:\", validation_generator.class_indices)\n",
        "print(\"Validation Classes:\", validation_generator.classes)"
      ]
    },
    {
      "cell_type": "markdown",
      "metadata": {
        "id": "T7LwrYtTgzTa"
      },
      "source": [
        "# Data Processing"
      ]
    },
    {
      "cell_type": "markdown",
      "metadata": {
        "id": "BA2YU31am2eV"
      },
      "source": [
        "## Model Creation"
      ]
    },
    {
      "cell_type": "code",
      "source": [
        "def convLayers(inputs):\n",
        "    x = layers.Conv2D(filters=16, kernel_size=3, activation='relu', strides=2, padding='same')(inputs)\n",
        "    x = layers.Conv2D(filters=16, kernel_size=3, activation='relu', strides=2, padding='same')(x)\n",
        "    x = layers.MaxPooling2D(pool_size=2, strides=2, padding='same')(inputs)\n",
        "\n",
        "    x = layers.Conv2D(filters=16, kernel_size=3, activation='relu', strides=2, padding='same')(inputs)\n",
        "    x = layers.Conv2D(filters=16, kernel_size=3, activation='relu', strides=2, padding='same')(x)\n",
        "    x = layers.MaxPooling2D(pool_size=2, strides=2, padding='same')(x)\n",
        "\n",
        "    x = tf.keras.layers.MaxPooling2D()(x)\n",
        "\n",
        "    x = layers.Conv2D(filters=32, kernel_size=3, activation='relu', strides=2, padding='same')(inputs)\n",
        "    x = layers.Conv2D(filters=32, kernel_size=3, activation='relu', strides=2, padding='same')(x)\n",
        "    x = layers.MaxPooling2D(pool_size=2, strides=2, padding='same')(x)\n",
        "\n",
        "    x = layers.Conv2D(filters=32, kernel_size=3, activation='relu', strides=2, padding='same')(inputs)\n",
        "    x = layers.Conv2D(filters=32, kernel_size=3, activation='relu', strides=2, padding='same')(x)\n",
        "    x = layers.MaxPooling2D(pool_size=2, strides=2, padding='same')(x)\n",
        "\n",
        "    x = tf.keras.layers.MaxPooling2D()(x)\n",
        "\n",
        "    #x = layers.Conv2D(filters=64, kernel_size=3, activation='relu', strides=2, padding='same')(x)\n",
        "    #x = layers.Conv2D(filters=64, kernel_size=3, activation='relu', strides=2, padding='same')(x)\n",
        "    #x = layers.MaxPooling2D(pool_size=2, strides=2, padding='same')(x)\n",
        "\n",
        "    #x = layers.Conv2D(filters=64, kernel_size=3, activation='relu', strides=2, padding='same')(x)\n",
        "    #x = layers.Conv2D(filters=64, kernel_size=3, activation='relu', strides=2, padding='same')(x)\n",
        "    #x = layers.MaxPooling2D(pool_size=2, strides=2, padding='same')(x)\n",
        "\n",
        "    #x = tf.keras.layers.MaxPooling2D()(x)\n",
        "\n",
        "    return x"
      ],
      "metadata": {
        "id": "oPsYff6kXZlE"
      },
      "execution_count": 23,
      "outputs": []
    },
    {
      "cell_type": "code",
      "source": [
        "def basicModel(inputs, num_classes):\n",
        "    x_a = convLayers(inputs)\n",
        "    x_a = layers.Dropout(0.2)(x_a)\n",
        "    x_a = layers.Flatten()(x_a)\n",
        "    x_a = layers.BatchNormalization()(x_a)\n",
        "\n",
        "    x_b = convLayers(tf.image.rgb_to_grayscale(inputs))\n",
        "    x_b = layers.Dropout(0.2)(x_b)\n",
        "    x_b = layers.Flatten()(x_b)\n",
        "    x_b = layers.BatchNormalization()(x_b)\n",
        "\n",
        "    x = layers.Concatenate()([x_a, x_b])\n",
        "    x = layers.Activation('relu')(x)\n",
        "\n",
        "    x = layers.Dense(256, activation='relu')(x)\n",
        "    x = layers.Dense(256, activation='relu')(x)\n",
        "    x = layers.Dense(128, activation='relu')(x)\n",
        "    x = layers.Dense(128, activation='relu')(x)\n",
        "    x = layers.Dense(num_classes, activation='softmax')(x)\n",
        "\n",
        "    return Model(inputs=inputs, outputs=x)"
      ],
      "metadata": {
        "id": "bVtbYUpAbv1C"
      },
      "execution_count": 24,
      "outputs": []
    },
    {
      "cell_type": "markdown",
      "source": [
        "#### Scratch (Mobile-Net and VGG)"
      ],
      "metadata": {
        "id": "dVoOPiIPPr03"
      }
    },
    {
      "cell_type": "code",
      "source": [
        "def vggBlock(inputs, filters, kernel_size, repetitions, pool_size=2, strides=2):\n",
        "  x = inputs\n",
        "  for i in range(repetitions):\n",
        "    x = tf.keras.layers.Conv2D(filters,\n",
        "                               kernel_size,\n",
        "                               activation='relu',\n",
        "                               padding='same')(x)\n",
        "\n",
        "  x = tf.keras.layers.MaxPooling2D(pool_size=pool_size,\n",
        "                                   strides=strides,\n",
        "                                   padding='same')(x)\n",
        "\n",
        "  x = tf.keras.layers.BatchNormalization()(x)\n",
        "\n",
        "  return x"
      ],
      "metadata": {
        "id": "KJSSp_ncOp9K"
      },
      "execution_count": null,
      "outputs": []
    },
    {
      "cell_type": "code",
      "execution_count": null,
      "metadata": {
        "id": "_55l5jwknVhM"
      },
      "outputs": [],
      "source": [
        "def mobileNetBlock(inputs, filters, strides):\n",
        "  # x = tf.keras.layers.DepthwiseConv2D(kernel_size = 3,\n",
        "  #                                     strides = strides,\n",
        "  #                                     padding = 'same')(inputs)\n",
        "  # x = tf.keras.layers.BatchNormalization()(x)\n",
        "  # x = tf.keras.layers.Activation('relu')(x)\n",
        "\n",
        "  x = tf.keras.layers.Conv2D(filters = filters,\n",
        "                            kernel_size = 3,\n",
        "                            strides = 1)(inputs)\n",
        "  x = tf.keras.layers.BatchNormalization()(x)\n",
        "  x = tf.keras.layers.Activation('relu')(x)\n",
        "\n",
        "  return x\n"
      ]
    },
    {
      "cell_type": "code",
      "source": [
        "def baseLayers(inputs):\n",
        "  x = tf.keras.layers.Conv2D(filters = 8, kernel_size = 3, strides = 2, padding = 'same')(inputs)\n",
        "  x = tf.keras.layers.BatchNormalization()(x)\n",
        "  x = tf.keras.layers.ReLU(max_value=6.0)(x)\n",
        "\n",
        "  x = mobileNetBlock(inputs, 16, 1)\n",
        "  x = mobileNetBlock(x, 32, 2)\n",
        "  x = x = mobileNetBlock(x, 32, 1)\n",
        "\n",
        "  return x"
      ],
      "metadata": {
        "id": "PfaVebtkPqM4"
      },
      "execution_count": null,
      "outputs": []
    },
    {
      "cell_type": "code",
      "execution_count": null,
      "metadata": {
        "id": "U_lF3aPwoyxc"
      },
      "outputs": [],
      "source": [
        "def mobileNet(inputs, num_classes):\n",
        "  x = baseLayers(tf.image.rgb_to_grayscale(inputs))\n",
        "\n",
        "  x = tf.keras.layers.GlobalAveragePooling2D()(x)\n",
        "\n",
        "  classification = tf.keras.layers.Dense(num_classes, activation='softmax')(x)\n",
        "\n",
        "  return Model(inputs=inputs, outputs=classification)"
      ]
    },
    {
      "cell_type": "markdown",
      "source": [
        "#### Transfer Learning (Mobile-Net)"
      ],
      "metadata": {
        "id": "PHsiUXctPv1w"
      }
    },
    {
      "cell_type": "code",
      "source": [
        "# Load the pre-trained MobileNet model with the top layers excluded\n",
        "base_model = tf.keras.applications.MobileNetV2(\n",
        "    input_shape=(input_height, input_width, num_channels),  # Specify input shape\n",
        "    alpha=1.0,\n",
        "    include_top=False,  # Exclude the top classification layer\n",
        "    weights=\"imagenet\",  # Load weights pre-trained on ImageNet\n",
        "    input_tensor=None,\n",
        "    pooling=None,  # Use the final conv layer as output\n",
        ")\n",
        "\n",
        "# Freeze the base model\n",
        "base_model.trainable = False\n",
        "\n",
        "# Create the model\n",
        "myCNN = tf.keras.Sequential()\n",
        "\n",
        "# Add the base model\n",
        "myCNN.add(base_model)\n",
        "\n",
        "# Add global average pooling layer\n",
        "myCNN.add(tf.keras.layers.GlobalAveragePooling2D())\n",
        "\n",
        "# Add a dropout layer for regularization\n",
        "myCNN.add(tf.keras.layers.Dropout(0.5))\n",
        "\n",
        "# Add a dense layer with 8 units for the 8 classes\n",
        "myCNN.add(tf.keras.layers.Dense(8, activation='softmax'))\n"
      ],
      "metadata": {
        "id": "TkjbP6lABfZk"
      },
      "execution_count": null,
      "outputs": []
    },
    {
      "cell_type": "markdown",
      "metadata": {
        "id": "97cZGcBzgqcU"
      },
      "source": [
        "## Model Creation (sayang dibuang)"
      ]
    },
    {
      "cell_type": "code",
      "execution_count": null,
      "metadata": {
        "id": "1VH41CO4p8DO"
      },
      "outputs": [],
      "source": [
        "class Conv2DLayers(tf.keras.Model):\n",
        "  def __init__(self, filters, kernel_size, repetitions):\n",
        "    super(Conv2DLayers, self).__init__()\n",
        "    self.filters = filters\n",
        "    self.kernel_size = kernel_size\n",
        "    self.repetitions = repetitions\n",
        "\n",
        "    self.sequential = tf.keras.Sequential()\n",
        "    for i in range(repetitions):\n",
        "      self.sequential.add(\n",
        "          tf.keras.layers.Conv2D(self.filters, self.kernel_size, padding='same', activation='relu'))\n",
        "\n",
        "  def call(self, inputs):\n",
        "    return self.sequential(inputs)"
      ]
    },
    {
      "cell_type": "code",
      "execution_count": null,
      "metadata": {
        "id": "dLP5vdHJp3Kn"
      },
      "outputs": [],
      "source": [
        "class Block(tf.keras.Model):\n",
        "  def __init__(self, filters, kernel_size, repetitions, pool_size=2, strides=2):\n",
        "    super(Block, self).__init__()\n",
        "    self.filters = filters\n",
        "    self.kernel_size = kernel_size\n",
        "    self.repetitions = repetitions\n",
        "\n",
        "    # define a stack of conv2D layers based on repetition\n",
        "    # self.conv2D_layers = Conv2DLayers(self.filters, self.kernel_size, self.repetitions)\n",
        "    for i in range(repetitions):\n",
        "      # Define a Conv2D layer, specifying filters, kernel_size, activation and padding.\n",
        "      vars(self)[f'conv2D_{i}'] = tf.keras.layers.Conv2D(self.filters,\n",
        "                                                          self.kernel_size,\n",
        "                                                          activation='relu',\n",
        "                                                          padding='same')\n",
        "\n",
        "\n",
        "    self.max_pool = tf.keras.layers.MaxPool2D(pool_size=pool_size,\n",
        "                                              strides=strides,\n",
        "                                              padding='same')\n",
        "\n",
        "  def call(self, inputs):\n",
        "    # access the conv2D\n",
        "    # x = self.conv2D_layers(inputs)\n",
        "\n",
        "    # access the class's conv2D_0 layer\n",
        "    conv2D_0 = vars(self)['conv2D_0']\n",
        "\n",
        "    # Connect the conv2D_0 layer to inputs\n",
        "    x = conv2D_0(inputs)\n",
        "\n",
        "    # for the remaining conv2D_i layers from 1 to `repetitions` they will be connected to the previous layer\n",
        "    for i in range(1, self.repetitions):\n",
        "      # access conv2D_i by formatting the integer `i`. (hint: check how these were saved using `vars()` earlier)\n",
        "      conv2D_i = vars(self)[f'conv2D_{i}']\n",
        "\n",
        "      # Use the conv2D_i and connect it to the previous layer\n",
        "      x = conv2D_i(x)\n",
        "\n",
        "    x = self.max_pool(x)\n",
        "\n",
        "    return x"
      ]
    },
    {
      "cell_type": "code",
      "execution_count": null,
      "metadata": {
        "id": "tmJZf3cPRyzA"
      },
      "outputs": [],
      "source": [
        "# VGG based CNN\n",
        "\n",
        "class RGBModel(tf.keras.Model):\n",
        "  def __init__(self, num_classes):\n",
        "    super(RGBModel, self).__init__()\n",
        "\n",
        "    # Creating blocks of VGG with the following\n",
        "    # (filters, kernel_size, repetitions) configurations\n",
        "    self.block_a = Block(64, 3, 2)\n",
        "    self.block_b = Block(128, 3, 2)\n",
        "    self.block_c = Block(256, 3, 3)\n",
        "    self.block_d = Block(512, 3, 3)\n",
        "    self.block_e = Block(512, 3, 3)\n",
        "\n",
        "    # Define a Flatten layer\n",
        "    self.flatten = tf.keras.layers.Flatten()\n",
        "    self.act = tf.keras.layers.Activation('relu')\n",
        "\n",
        "    # Create a Dense layer\n",
        "    self.dense_0 = tf.keras.layers.Dense(256, activation='relu')\n",
        "    self.dense_1 = tf.keras.layers.Dense(512, activation='relu')\n",
        "\n",
        "    # Finally add the softmax classifier using a Dense layer\n",
        "    self.classifier = tf.keras.layers.Dense(num_classes, activation='softmax')\n",
        "\n",
        "  def call(self, inputs):\n",
        "    x = self.block_a(inputs)\n",
        "    x = self.block_b(x)\n",
        "    x = self.block_c(x)\n",
        "    x = self.block_d(x)\n",
        "    x = self.block_e(x)\n",
        "\n",
        "    x = self.flatten(x)\n",
        "    x = self.act(x)\n",
        "\n",
        "    x = self.dense_0(x)\n",
        "    x = self.dense_1(x)\n",
        "\n",
        "    return self.classifier(x)"
      ]
    },
    {
      "cell_type": "code",
      "execution_count": null,
      "metadata": {
        "id": "JUdhF6F-V_-e"
      },
      "outputs": [],
      "source": [
        "class IdentityBlock(tf.keras.Model):\n",
        "    def __init__(self, filters, kernel_size, l2_reg=0.07):\n",
        "        super(IdentityBlock, self).__init__()\n",
        "\n",
        "        self.conv2D_0 = tf.keras.layers.Conv2D(filters, kernel_size, padding='same',\n",
        "                                               kernel_regularizer=tf.keras.regularizers.l2(l2_reg))\n",
        "        self.bn_0 = tf.keras.layers.BatchNormalization()\n",
        "\n",
        "        self.conv2D_1 = tf.keras.layers.Conv2D(filters, kernel_size, padding='same',\n",
        "                                               kernel_regularizer=tf.keras.regularizers.l2(l2_reg))\n",
        "        self.bn_1 = tf.keras.layers.BatchNormalization()\n",
        "\n",
        "        self.conv2D_2 = tf.keras.layers.Conv2D(filters, kernel_size, padding='same',\n",
        "                                               kernel_regularizer=tf.keras.regularizers.l2(l2_reg))\n",
        "\n",
        "        self.act = tf.keras.layers.Activation('relu')\n",
        "        self.add = tf.keras.layers.Add()\n",
        "\n",
        "    def call(self, inputs):\n",
        "        x = self.conv2D_0(inputs)\n",
        "        x = self.bn_0(x)\n",
        "        x = self.act(x)\n",
        "\n",
        "        x = self.conv2D_1(x)\n",
        "        x = self.bn_1(x)\n",
        "        x = self.act(x)\n",
        "\n",
        "        input_conv = self.conv2D_2(inputs)\n",
        "        x = self.add([x, input_conv])\n",
        "        x = self.act(x)\n",
        "\n",
        "        return x\n",
        "\n",
        "class BWModel(tf.keras.Model):\n",
        "    def __init__(self, num_classes, l2_reg=0.07):\n",
        "        super(BWModel, self).__init__()\n",
        "        self.conv2D = tf.keras.layers.Conv2D(64, 7, padding='same',\n",
        "                                             kernel_regularizer=tf.keras.regularizers.l2(l2_reg))\n",
        "        self.bn = tf.keras.layers.BatchNormalization()\n",
        "        self.act = tf.keras.layers.Activation('relu')\n",
        "        self.max_pool = tf.keras.layers.MaxPool2D((3, 3))\n",
        "\n",
        "        # Use the Identity blocks that you just defined\n",
        "        self.id_block_1 = IdentityBlock(64, 3, l2_reg)\n",
        "        self.id_block_2 = IdentityBlock(64, 3, l2_reg)\n",
        "\n",
        "        self.global_pool = tf.keras.layers.GlobalAveragePooling2D()\n",
        "        self.flatten = tf.keras.layers.Flatten()\n",
        "        self.drop = tf.keras.layers.Dropout(0.8)\n",
        "\n",
        "        self.dense_0 = tf.keras.layers.Dense(256, activation='relu')\n",
        "        self.classifier = tf.keras.layers.Dense(num_classes, activation='softmax')\n",
        "\n",
        "    def call(self, inputs):\n",
        "        x = self.conv2D(inputs)\n",
        "        x = self.bn(x)\n",
        "        x = self.act(x)\n",
        "        x = self.max_pool(x)\n",
        "\n",
        "        # Insert the identity blocks in the middle of the network\n",
        "        x = self.id_block_1(x)\n",
        "        x = self.drop(x)\n",
        "        x = self.id_block_2(x)\n",
        "        x = self.drop(x)\n",
        "\n",
        "        x = self.global_pool(x)\n",
        "        x = self.flatten(x)\n",
        "\n",
        "        x = self.dense_0(x)\n",
        "\n",
        "        return self.classifier(x)"
      ]
    },
    {
      "cell_type": "code",
      "execution_count": null,
      "metadata": {
        "id": "ZXa5itSqWCUe"
      },
      "outputs": [],
      "source": [
        "# Combination between VGG and ResNet-18\n",
        "\n",
        "class CNNPalingPerkasa(tf.keras.Model):\n",
        "  def __init__(self, num_classes):\n",
        "    super(CNNPalingPerkasa, self).__init__()\n",
        "    self.rgbModel_1 = RGBModel(num_classes)\n",
        "    # self.rgbModel_2 = RGBModel()\n",
        "    self.bwModel = BWModel(num_classes)\n",
        "\n",
        "    self.act = tf.keras.layers.Activation('relu')\n",
        "\n",
        "    # Create a Dense layer\n",
        "    self.dense_0 = tf.keras.layers.Dense(te256, activation='relu')\n",
        "    self.dense_1 = tf.keras.layers.Dense(512, activation='relu')\n",
        "\n",
        "    # Finally add the softmax classifier using a Dense layer\n",
        "    self.classifier = tf.keras.layers.Dense(num_classes, activation='softmax')\n",
        "\n",
        "  def call(self, inputs):\n",
        "    # Pass each image data to the respective models\n",
        "    rgb_1 = self.rgbModel_1(inputs)\n",
        "    # rgb_2 = self.rgbModel_2(tf.image.rgb_to_grayscale(inputs))\n",
        "    bw = self.bwModel(tf.image.rgb_to_grayscale(inputs))\n",
        "\n",
        "    # Combine the outputs and perform further operations\n",
        "    # x_a = tf.concat([rgb_1, bw], axis=-1)\n",
        "    # x_a = self.act(x_a)\n",
        "\n",
        "    x = tf.concat([rgb_1, bw], axis=-1)\n",
        "    x = self.act(x)\n",
        "    # x = self.dense_0(rgb_1)\n",
        "    x = self.dense_1(x)\n",
        "    x = self.classifier(x)\n",
        "\n",
        "    return x"
      ]
    },
    {
      "cell_type": "markdown",
      "metadata": {
        "id": "96ok8O1Wgs6b"
      },
      "source": [
        "## Model Training"
      ]
    },
    {
      "cell_type": "code",
      "execution_count": 25,
      "metadata": {
        "id": "XMlD8VzsR8nn"
      },
      "outputs": [],
      "source": [
        "input_height = 224\n",
        "input_width = 224\n",
        "num_channels = 3\n",
        "num_classes = 54"
      ]
    },
    {
      "cell_type": "code",
      "source": [
        "# Definisikan input layer\n",
        "inputs = tf.keras.Input(shape=(input_height, input_width, num_channels))"
      ],
      "metadata": {
        "id": "TOFImj_7aZAl"
      },
      "execution_count": 26,
      "outputs": []
    },
    {
      "cell_type": "code",
      "source": [
        "# Bangun model menggunakan fungsi basicModel\n",
        "myCNN = basicModel(inputs, num_classes)"
      ],
      "metadata": {
        "id": "ZqupADdjacLl"
      },
      "execution_count": 27,
      "outputs": []
    },
    {
      "cell_type": "code",
      "execution_count": 28,
      "metadata": {
        "colab": {
          "base_uri": "https://localhost:8080/"
        },
        "id": "PAINb_aSp-FJ",
        "outputId": "56b6eb97-c42f-499a-81d3-861f51998de1"
      },
      "outputs": [
        {
          "output_type": "stream",
          "name": "stdout",
          "text": [
            "Epoch 1/20\n",
            "173/173 [==============================] - 124s 703ms/step - loss: 3.2702 - accuracy: 0.1516 - val_loss: 2.6073 - val_accuracy: 0.2870\n",
            "Epoch 2/20\n",
            "173/173 [==============================] - 119s 685ms/step - loss: 1.7698 - accuracy: 0.4731 - val_loss: 1.0088 - val_accuracy: 0.6847\n",
            "Epoch 3/20\n",
            "173/173 [==============================] - 119s 688ms/step - loss: 1.1851 - accuracy: 0.6238 - val_loss: 0.8638 - val_accuracy: 0.7597\n",
            "Epoch 4/20\n",
            "173/173 [==============================] - 121s 699ms/step - loss: 0.8276 - accuracy: 0.7237 - val_loss: 0.5314 - val_accuracy: 0.8676\n",
            "Epoch 5/20\n",
            "173/173 [==============================] - 122s 706ms/step - loss: 0.6680 - accuracy: 0.7789 - val_loss: 0.7671 - val_accuracy: 0.8542\n",
            "Epoch 6/20\n",
            "173/173 [==============================] - 120s 695ms/step - loss: 0.5670 - accuracy: 0.8072 - val_loss: 0.4113 - val_accuracy: 0.9083\n",
            "Epoch 7/20\n",
            "173/173 [==============================] - 121s 700ms/step - loss: 0.5189 - accuracy: 0.8273 - val_loss: 0.4563 - val_accuracy: 0.9083\n",
            "Epoch 8/20\n",
            "173/173 [==============================] - 120s 694ms/step - loss: 0.4586 - accuracy: 0.8485 - val_loss: 0.5593 - val_accuracy: 0.8931\n",
            "Epoch 9/20\n",
            "173/173 [==============================] - 122s 705ms/step - loss: 0.4215 - accuracy: 0.8553 - val_loss: 0.7511 - val_accuracy: 0.8718\n",
            "Epoch 10/20\n",
            "173/173 [==============================] - 121s 700ms/step - loss: 0.3820 - accuracy: 0.8625 - val_loss: 0.7109 - val_accuracy: 0.8745\n",
            "Epoch 11/20\n",
            "173/173 [==============================] - 118s 683ms/step - loss: 0.3371 - accuracy: 0.8799 - val_loss: 0.9396 - val_accuracy: 0.8722\n",
            "Epoch 12/20\n",
            "173/173 [==============================] - 121s 701ms/step - loss: 0.3687 - accuracy: 0.8742 - val_loss: 0.4781 - val_accuracy: 0.9134\n",
            "Epoch 13/20\n",
            "173/173 [==============================] - 122s 707ms/step - loss: 0.3084 - accuracy: 0.8891 - val_loss: 0.5723 - val_accuracy: 0.9069\n",
            "Epoch 14/20\n",
            "173/173 [==============================] - 120s 696ms/step - loss: 0.3174 - accuracy: 0.8876 - val_loss: 0.3987 - val_accuracy: 0.9190\n",
            "Epoch 15/20\n",
            "173/173 [==============================] - 120s 694ms/step - loss: 0.3132 - accuracy: 0.8889 - val_loss: 0.2673 - val_accuracy: 0.9380\n",
            "Epoch 16/20\n",
            "173/173 [==============================] - 121s 701ms/step - loss: 0.2548 - accuracy: 0.9080 - val_loss: 0.3812 - val_accuracy: 0.9236\n",
            "Epoch 17/20\n",
            "173/173 [==============================] - 123s 710ms/step - loss: 0.2574 - accuracy: 0.9090 - val_loss: 0.8435 - val_accuracy: 0.8806\n",
            "Epoch 18/20\n",
            "173/173 [==============================] - 121s 699ms/step - loss: 0.2529 - accuracy: 0.9118 - val_loss: 0.4411 - val_accuracy: 0.9287\n",
            "Epoch 19/20\n",
            "173/173 [==============================] - 121s 696ms/step - loss: 0.2390 - accuracy: 0.9141 - val_loss: 0.6712 - val_accuracy: 0.8963\n",
            "Epoch 20/20\n",
            "173/173 [==============================] - 120s 692ms/step - loss: 0.2394 - accuracy: 0.9139 - val_loss: 0.4000 - val_accuracy: 0.9222\n"
          ]
        }
      ],
      "source": [
        "myCNN.compile(optimizer=tf.keras.optimizers.Adam(learning_rate=0.001),\n",
        "              loss='sparse_categorical_crossentropy',\n",
        "              metrics=['accuracy'])\n",
        "\n",
        "history = myCNN.fit(train_generator,\n",
        "                    epochs=20,\n",
        "                    verbose=1,\n",
        "                    validation_data=validation_generator)"
      ]
    },
    {
      "cell_type": "code",
      "execution_count": 29,
      "metadata": {
        "colab": {
          "base_uri": "https://localhost:8080/",
          "height": 887
        },
        "id": "LXjemiYCRz74",
        "outputId": "16e57f24-3198-4992-ed08-044f31b112e9"
      },
      "outputs": [
        {
          "output_type": "display_data",
          "data": {
            "text/plain": [
              "<Figure size 640x480 with 1 Axes>"
            ],
            "image/png": "[encoded data removed]"
          },
          "metadata": {}
        },
        {
          "output_type": "display_data",
          "data": {
            "text/plain": [
              "<Figure size 640x480 with 1 Axes>"
            ],
            "image/png": "[encoded data removed]"
          },
          "metadata": {}
        }
      ],
      "source": [
        "acc = history.history['accuracy']\n",
        "val_acc = history.history['val_accuracy']\n",
        "loss = history.history['loss']\n",
        "val_loss = history.history['val_loss']\n",
        "\n",
        "epochs = range(len(acc))\n",
        "\n",
        "plt.plot(epochs, acc, 'r', label='Training accuracy')\n",
        "plt.plot(epochs, val_acc, 'b', label='Validation accuracy')\n",
        "plt.title('Training and validation accuracy')\n",
        "plt.legend()\n",
        "plt.figure()\n",
        "\n",
        "plt.plot(epochs, loss, 'r', label='Training Loss')\n",
        "plt.plot(epochs, val_loss, 'b', label='Validation Loss')\n",
        "plt.title('Training and validation loss')\n",
        "plt.legend()\n",
        "\n",
        "plt.show()"
      ]
    },
    {
      "cell_type": "markdown",
      "metadata": {
        "id": "du-lPwUOgu-k"
      },
      "source": [
        "## Model Testing"
      ]
    },
    {
      "cell_type": "code",
      "execution_count": null,
      "metadata": {
        "id": "Uc4IgFu9_YrU"
      },
      "outputs": [],
      "source": [
        "from google.colab import drive\n",
        "drive.mount('/content/drive')"
      ]
    },
    {
      "cell_type": "code",
      "execution_count": null,
      "metadata": {
        "id": "JKXH2ErsR6mI"
      },
      "outputs": [],
      "source": [
        "# Load the image\n",
        "new_image = plt.imread('/content/drive/MyDrive/Colab Notebooks/CNN-Capstone-Dataset/nu.jpg')\n",
        "\n",
        "# Ensure the image has the correct number of channels (e.g., 3 for RGB)\n",
        "if new_image.shape[-1] != 3:\n",
        "    new_image = tf.image.grayscale_to_rgb(new_image)\n",
        "\n",
        "# Resize the image to the input shape required by your model\n",
        "input_shape = (input_height, input_width)  # Replace with your model's input shape\n",
        "new_image = tf.image.resize(new_image, input_shape)\n",
        "\n",
        "# Normalize the image (if your model was trained on normalized images, e.g., values in range [0, 1])\n",
        "new_image = new_image / 255.0\n",
        "\n",
        "# Add a batch dimension\n",
        "new_image = np.expand_dims(new_image, axis=0)\n",
        "\n",
        "# Make predictions\n",
        "predictions = myCNN.predict(new_image)\n",
        "\n",
        "# Print the predictions\n",
        "print(\"Predictions:\", predictions)\n",
        "\n",
        "# Print the predicted label\n",
        "predicted_label = np.argmax(predictions, axis=1)\n",
        "print(\"Predicted label:\", predicted_label)\n",
        "\n",
        "print(list(train_generator.class_indices)[np.argmax(predictions)])"
      ]
    },
    {
      "cell_type": "markdown",
      "metadata": {
        "id": "CkERJ2xlMFVD"
      },
      "source": [
        "## Model Export"
      ]
    },
    {
      "cell_type": "code",
      "source": [
        "myCNN.save(\"model.h5\")"
      ],
      "metadata": {
        "id": "9E7Z916mUlfT",
        "colab": {
          "base_uri": "https://localhost:8080/"
        },
        "outputId": "924bf25c-9b55-4cdb-9c73-42ac876941b0"
      },
      "execution_count": 30,
      "outputs": [
        {
          "output_type": "stream",
          "name": "stderr",
          "text": [
            "/usr/local/lib/python3.10/dist-packages/keras/src/engine/training.py:3103: UserWarning: You are saving your model as an HDF5 file via `model.save()`. This file format is considered legacy. We recommend using instead the native Keras format, e.g. `model.save('my_model.keras')`.\n",
            "  saving_api.save_model(\n"
          ]
        }
      ]
    },
    {
      "cell_type": "code",
      "execution_count": null,
      "metadata": {
        "id": "0e5vvQatMRoR"
      },
      "outputs": [],
      "source": [
        "export_dir = 'saved_model/1'\n",
        "# myCNN.save(export_dir)\n",
        "tf.saved_model.save(myCNN, export_dir)"
      ]
    },
    {
      "cell_type": "code",
      "execution_count": null,
      "metadata": {
        "id": "VSaY3DD0Q0_p"
      },
      "outputs": [],
      "source": [
        "drink_recog = '/content/Model.h5'\n",
        "\n",
        "myCNN.save(drink_recog, save_format=\"h5\")"
      ]
    },
    {
      "cell_type": "code",
      "execution_count": null,
      "metadata": {
        "id": "TKUO9PRVMHaR"
      },
      "outputs": [],
      "source": [
        "converter = tf.lite.TFLiteConverter.from_saved_model(export_dir)\n",
        "converter.target_spec.supported_ops = [\n",
        "    tf.lite.OpsSet.TFLITE_BUILTINS,  # TFLite built-in ops\n",
        "    tf.lite.OpsSet.SELECT_TF_OPS     # Enable TensorFlow ops\n",
        "]\n",
        "tflite_model = converter.convert()"
      ]
    },
    {
      "cell_type": "code",
      "execution_count": null,
      "metadata": {
        "id": "p36cai8IMm9x"
      },
      "outputs": [],
      "source": [
        "import pathlib\n",
        "\n",
        "tflite_model_file = pathlib.Path('/content/model.tflite')\n",
        "tflite_model_file.write_bytes(tflite_model)\n",
        "\n",
        "print(f\"TFLite model saved at: {tflite_model_file}\")"
      ]
    }
  ],
  "metadata": {
    "colab": {
      "collapsed_sections": [
        "qCdd0faeDiIc",
        "jxmE8lvKQnD_",
        "dVoOPiIPPr03",
        "PHsiUXctPv1w",
        "97cZGcBzgqcU"
      ],
      "provenance": [],
      "gpuType": "V28"
    },
    "kernelspec": {
      "display_name": "Python 3",
      "name": "python3"
    },
    "language_info": {
      "name": "python"
    },
    "accelerator": "TPU"
  },
  "nbformat": 4,
  "nbformat_minor": 0
}